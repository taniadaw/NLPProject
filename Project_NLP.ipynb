{
 "cells": [
  {
   "cell_type": "markdown",
   "id": "qRNJBtK8K8g_",
   "metadata": {
    "id": "qRNJBtK8K8g_"
   },
   "source": [
    "# Loading dataset"
   ]
  },
  {
   "cell_type": "code",
   "execution_count": null,
   "id": "3242992d",
   "metadata": {
    "colab": {
     "base_uri": "https://localhost:8080/"
    },
    "id": "3242992d",
    "outputId": "7bfae02d-f381-4536-fb7e-b023d9e93b2f"
   },
   "outputs": [
    {
     "name": "stdout",
     "output_type": "stream",
     "text": [
      "Requirement already satisfied: numpy in /usr/local/lib/python3.7/dist-packages (1.21.5)\n",
      "Requirement already satisfied: pandas in /usr/local/lib/python3.7/dist-packages (1.3.5)\n",
      "Requirement already satisfied: python-dateutil>=2.7.3 in /usr/local/lib/python3.7/dist-packages (from pandas) (2.8.2)\n",
      "Requirement already satisfied: pytz>=2017.3 in /usr/local/lib/python3.7/dist-packages (from pandas) (2018.9)\n",
      "Requirement already satisfied: numpy>=1.17.3 in /usr/local/lib/python3.7/dist-packages (from pandas) (1.21.5)\n",
      "Requirement already satisfied: six>=1.5 in /usr/local/lib/python3.7/dist-packages (from python-dateutil>=2.7.3->pandas) (1.15.0)\n",
      "Requirement already satisfied: torch in /usr/local/lib/python3.7/dist-packages (1.10.0+cu111)\n",
      "Requirement already satisfied: typing-extensions in /usr/local/lib/python3.7/dist-packages (from torch) (3.10.0.2)\n",
      "Requirement already satisfied: tqdm in /usr/local/lib/python3.7/dist-packages (4.63.0)\n",
      "Requirement already satisfied: matplotlib in /usr/local/lib/python3.7/dist-packages (3.5.0)\n",
      "Requirement already satisfied: numpy>=1.17 in /usr/local/lib/python3.7/dist-packages (from matplotlib) (1.21.5)\n",
      "Requirement already satisfied: pyparsing>=2.2.1 in /usr/local/lib/python3.7/dist-packages (from matplotlib) (3.0.7)\n",
      "Requirement already satisfied: cycler>=0.10 in /usr/local/lib/python3.7/dist-packages (from matplotlib) (0.11.0)\n",
      "Requirement already satisfied: kiwisolver>=1.0.1 in /usr/local/lib/python3.7/dist-packages (from matplotlib) (1.4.0)\n",
      "Requirement already satisfied: setuptools-scm>=4 in /usr/local/lib/python3.7/dist-packages (from matplotlib) (6.4.2)\n",
      "Requirement already satisfied: pillow>=6.2.0 in /usr/local/lib/python3.7/dist-packages (from matplotlib) (7.1.2)\n",
      "Requirement already satisfied: fonttools>=4.22.0 in /usr/local/lib/python3.7/dist-packages (from matplotlib) (4.32.0)\n",
      "Requirement already satisfied: python-dateutil>=2.7 in /usr/local/lib/python3.7/dist-packages (from matplotlib) (2.8.2)\n",
      "Requirement already satisfied: packaging>=20.0 in /usr/local/lib/python3.7/dist-packages (from matplotlib) (21.3)\n",
      "Requirement already satisfied: typing-extensions in /usr/local/lib/python3.7/dist-packages (from kiwisolver>=1.0.1->matplotlib) (3.10.0.2)\n",
      "Requirement already satisfied: six>=1.5 in /usr/local/lib/python3.7/dist-packages (from python-dateutil>=2.7->matplotlib) (1.15.0)\n",
      "Requirement already satisfied: setuptools in /usr/local/lib/python3.7/dist-packages (from setuptools-scm>=4->matplotlib) (57.4.0)\n",
      "Requirement already satisfied: tomli>=1.0.0 in /usr/local/lib/python3.7/dist-packages (from setuptools-scm>=4->matplotlib) (2.0.1)\n",
      "Requirement already satisfied: transformers in /usr/local/lib/python3.7/dist-packages (4.18.0)\n",
      "Requirement already satisfied: importlib-metadata in /usr/local/lib/python3.7/dist-packages (from transformers) (4.11.3)\n",
      "Requirement already satisfied: pyyaml>=5.1 in /usr/local/lib/python3.7/dist-packages (from transformers) (6.0)\n",
      "Requirement already satisfied: numpy>=1.17 in /usr/local/lib/python3.7/dist-packages (from transformers) (1.21.5)\n",
      "Requirement already satisfied: huggingface-hub<1.0,>=0.1.0 in /usr/local/lib/python3.7/dist-packages (from transformers) (0.5.1)\n",
      "Requirement already satisfied: tokenizers!=0.11.3,<0.13,>=0.11.1 in /usr/local/lib/python3.7/dist-packages (from transformers) (0.11.6)\n",
      "Requirement already satisfied: requests in /usr/local/lib/python3.7/dist-packages (from transformers) (2.23.0)\n",
      "Requirement already satisfied: regex!=2019.12.17 in /usr/local/lib/python3.7/dist-packages (from transformers) (2019.12.20)\n",
      "Requirement already satisfied: sacremoses in /usr/local/lib/python3.7/dist-packages (from transformers) (0.0.49)\n",
      "Requirement already satisfied: tqdm>=4.27 in /usr/local/lib/python3.7/dist-packages (from transformers) (4.63.0)\n",
      "Requirement already satisfied: filelock in /usr/local/lib/python3.7/dist-packages (from transformers) (3.6.0)\n",
      "Requirement already satisfied: packaging>=20.0 in /usr/local/lib/python3.7/dist-packages (from transformers) (21.3)\n",
      "Requirement already satisfied: typing-extensions>=3.7.4.3 in /usr/local/lib/python3.7/dist-packages (from huggingface-hub<1.0,>=0.1.0->transformers) (3.10.0.2)\n",
      "Requirement already satisfied: pyparsing!=3.0.5,>=2.0.2 in /usr/local/lib/python3.7/dist-packages (from packaging>=20.0->transformers) (3.0.7)\n",
      "Requirement already satisfied: zipp>=0.5 in /usr/local/lib/python3.7/dist-packages (from importlib-metadata->transformers) (3.7.0)\n",
      "Requirement already satisfied: urllib3!=1.25.0,!=1.25.1,<1.26,>=1.21.1 in /usr/local/lib/python3.7/dist-packages (from requests->transformers) (1.24.3)\n",
      "Requirement already satisfied: chardet<4,>=3.0.2 in /usr/local/lib/python3.7/dist-packages (from requests->transformers) (3.0.4)\n",
      "Requirement already satisfied: certifi>=2017.4.17 in /usr/local/lib/python3.7/dist-packages (from requests->transformers) (2021.10.8)\n",
      "Requirement already satisfied: idna<3,>=2.5 in /usr/local/lib/python3.7/dist-packages (from requests->transformers) (2.10)\n",
      "Requirement already satisfied: click in /usr/local/lib/python3.7/dist-packages (from sacremoses->transformers) (7.1.2)\n",
      "Requirement already satisfied: six in /usr/local/lib/python3.7/dist-packages (from sacremoses->transformers) (1.15.0)\n",
      "Requirement already satisfied: joblib in /usr/local/lib/python3.7/dist-packages (from sacremoses->transformers) (1.1.0)\n",
      "Requirement already satisfied: sklearn in /usr/local/lib/python3.7/dist-packages (0.0)\n",
      "Requirement already satisfied: scikit-learn in /usr/local/lib/python3.7/dist-packages (from sklearn) (1.0.2)\n",
      "Requirement already satisfied: scipy>=1.1.0 in /usr/local/lib/python3.7/dist-packages (from scikit-learn->sklearn) (1.4.1)\n",
      "Requirement already satisfied: joblib>=0.11 in /usr/local/lib/python3.7/dist-packages (from scikit-learn->sklearn) (1.1.0)\n",
      "Requirement already satisfied: threadpoolctl>=2.0.0 in /usr/local/lib/python3.7/dist-packages (from scikit-learn->sklearn) (3.1.0)\n",
      "Requirement already satisfied: numpy>=1.14.6 in /usr/local/lib/python3.7/dist-packages (from scikit-learn->sklearn) (1.21.5)\n",
      "Requirement already satisfied: tqdm in /usr/local/lib/python3.7/dist-packages (4.63.0)\n",
      "Requirement already satisfied: matplotlib==3.5.0 in /usr/local/lib/python3.7/dist-packages (3.5.0)\n",
      "Requirement already satisfied: pyparsing>=2.2.1 in /usr/local/lib/python3.7/dist-packages (from matplotlib==3.5.0) (3.0.7)\n",
      "Requirement already satisfied: pillow>=6.2.0 in /usr/local/lib/python3.7/dist-packages (from matplotlib==3.5.0) (7.1.2)\n",
      "Requirement already satisfied: kiwisolver>=1.0.1 in /usr/local/lib/python3.7/dist-packages (from matplotlib==3.5.0) (1.4.0)\n",
      "Requirement already satisfied: fonttools>=4.22.0 in /usr/local/lib/python3.7/dist-packages (from matplotlib==3.5.0) (4.32.0)\n",
      "Requirement already satisfied: numpy>=1.17 in /usr/local/lib/python3.7/dist-packages (from matplotlib==3.5.0) (1.21.5)\n",
      "Requirement already satisfied: cycler>=0.10 in /usr/local/lib/python3.7/dist-packages (from matplotlib==3.5.0) (0.11.0)\n",
      "Requirement already satisfied: python-dateutil>=2.7 in /usr/local/lib/python3.7/dist-packages (from matplotlib==3.5.0) (2.8.2)\n",
      "Requirement already satisfied: setuptools-scm>=4 in /usr/local/lib/python3.7/dist-packages (from matplotlib==3.5.0) (6.4.2)\n",
      "Requirement already satisfied: packaging>=20.0 in /usr/local/lib/python3.7/dist-packages (from matplotlib==3.5.0) (21.3)\n",
      "Requirement already satisfied: typing-extensions in /usr/local/lib/python3.7/dist-packages (from kiwisolver>=1.0.1->matplotlib==3.5.0) (3.10.0.2)\n",
      "Requirement already satisfied: six>=1.5 in /usr/local/lib/python3.7/dist-packages (from python-dateutil>=2.7->matplotlib==3.5.0) (1.15.0)\n",
      "Requirement already satisfied: tomli>=1.0.0 in /usr/local/lib/python3.7/dist-packages (from setuptools-scm>=4->matplotlib==3.5.0) (2.0.1)\n",
      "Requirement already satisfied: setuptools in /usr/local/lib/python3.7/dist-packages (from setuptools-scm>=4->matplotlib==3.5.0) (57.4.0)\n"
     ]
    }
   ],
   "source": [
    "# Install required libraries\n",
    "!pip install numpy\n",
    "!pip install pandas\n",
    "!pip install torch\n",
    "!pip install tqdm\n",
    "!pip install matplotlib\n",
    "!pip install transformers\n",
    "!pip install sklearn\n",
    "!pip install tqdm\n",
    "!pip install matplotlib==3.5.0"
   ]
  },
  {
   "cell_type": "code",
   "execution_count": null,
   "id": "9e7b0e64",
   "metadata": {
    "id": "9e7b0e64"
   },
   "outputs": [],
   "source": [
    "# We start by importing libraries that we will be making use of in the assignment.\n",
    "import os\n",
    "import numpy as np\n",
    "import pandas as pd\n",
    "import torch\n",
    "import torch.nn as nn\n",
    "from torch.optim import Adam\n",
    "import matplotlib.pyplot as plt\n",
    "import seaborn as sns\n",
    "from sklearn.model_selection import train_test_split\n",
    "import copy\n",
    "import tqdm\n",
    "import re\n",
    "import seaborn as sns"
   ]
  },
  {
   "cell_type": "code",
   "execution_count": 107,
   "id": "gF2F5Jr0s2kJ",
   "metadata": {
    "colab": {
     "base_uri": "https://localhost:8080/"
    },
    "id": "gF2F5Jr0s2kJ",
    "outputId": "ca60bd63-2eae-4bab-86fb-3af01a84521f"
   },
   "outputs": [
    {
     "data": {
      "text/plain": [
       "(48549, 9)"
      ]
     },
     "execution_count": 107,
     "metadata": {},
     "output_type": "execute_result"
    }
   ],
   "source": [
    "df= pd.read_csv(\"./all_tickets.csv\")\n",
    "df.shape"
   ]
  },
  {
   "cell_type": "code",
   "execution_count": null,
   "id": "WPmjwP-k_iFx",
   "metadata": {
    "colab": {
     "base_uri": "https://localhost:8080/",
     "height": 458
    },
    "id": "WPmjwP-k_iFx",
    "outputId": "fe392d91-64c9-4cce-eb2d-8cc40cad613e"
   },
   "outputs": [
    {
     "data": {
      "text/html": [
       "\n",
       "  <div id=\"df-c1148c95-0729-493e-8465-bb8ccafa4741\">\n",
       "    <div class=\"colab-df-container\">\n",
       "      <div>\n",
       "<style scoped>\n",
       "    .dataframe tbody tr th:only-of-type {\n",
       "        vertical-align: middle;\n",
       "    }\n",
       "\n",
       "    .dataframe tbody tr th {\n",
       "        vertical-align: top;\n",
       "    }\n",
       "\n",
       "    .dataframe thead th {\n",
       "        text-align: right;\n",
       "    }\n",
       "</style>\n",
       "<table border=\"1\" class=\"dataframe\">\n",
       "  <thead>\n",
       "    <tr style=\"text-align: right;\">\n",
       "      <th></th>\n",
       "      <th>title</th>\n",
       "      <th>body</th>\n",
       "      <th>ticket_type</th>\n",
       "      <th>category</th>\n",
       "      <th>sub_category1</th>\n",
       "      <th>sub_category2</th>\n",
       "      <th>business_service</th>\n",
       "      <th>urgency</th>\n",
       "      <th>impact</th>\n",
       "    </tr>\n",
       "  </thead>\n",
       "  <tbody>\n",
       "    <tr>\n",
       "      <th>46480</th>\n",
       "      <td>social error</td>\n",
       "      <td>sent monday december error dear please with fo...</td>\n",
       "      <td>0</td>\n",
       "      <td>4</td>\n",
       "      <td>21</td>\n",
       "      <td>41</td>\n",
       "      <td>40</td>\n",
       "      <td>1</td>\n",
       "      <td>3</td>\n",
       "    </tr>\n",
       "    <tr>\n",
       "      <th>39489</th>\n",
       "      <td>please advise how can proceed with submitted the</td>\n",
       "      <td>please advise how can proceed with submitted h...</td>\n",
       "      <td>0</td>\n",
       "      <td>4</td>\n",
       "      <td>21</td>\n",
       "      <td>41</td>\n",
       "      <td>67</td>\n",
       "      <td>2</td>\n",
       "      <td>3</td>\n",
       "    </tr>\n",
       "    <tr>\n",
       "      <th>5909</th>\n",
       "      <td>leaver leave date october location centre</td>\n",
       "      <td>leaver form leave date october location centre...</td>\n",
       "      <td>1</td>\n",
       "      <td>4</td>\n",
       "      <td>2</td>\n",
       "      <td>51</td>\n",
       "      <td>56</td>\n",
       "      <td>3</td>\n",
       "      <td>4</td>\n",
       "    </tr>\n",
       "    <tr>\n",
       "      <th>16949</th>\n",
       "      <td>new cost center systems</td>\n",
       "      <td>thursday pm cost center hi according latest gu...</td>\n",
       "      <td>1</td>\n",
       "      <td>4</td>\n",
       "      <td>3</td>\n",
       "      <td>21</td>\n",
       "      <td>68</td>\n",
       "      <td>3</td>\n",
       "      <td>4</td>\n",
       "    </tr>\n",
       "    <tr>\n",
       "      <th>31322</th>\n",
       "      <td>chief data officer transforming the</td>\n",
       "      <td>wednesday pm chief officer transforming hi guy...</td>\n",
       "      <td>1</td>\n",
       "      <td>4</td>\n",
       "      <td>3</td>\n",
       "      <td>21</td>\n",
       "      <td>89</td>\n",
       "      <td>3</td>\n",
       "      <td>4</td>\n",
       "    </tr>\n",
       "  </tbody>\n",
       "</table>\n",
       "</div>\n",
       "      <button class=\"colab-df-convert\" onclick=\"convertToInteractive('df-c1148c95-0729-493e-8465-bb8ccafa4741')\"\n",
       "              title=\"Convert this dataframe to an interactive table.\"\n",
       "              style=\"display:none;\">\n",
       "        \n",
       "  <svg xmlns=\"http://www.w3.org/2000/svg\" height=\"24px\"viewBox=\"0 0 24 24\"\n",
       "       width=\"24px\">\n",
       "    <path d=\"M0 0h24v24H0V0z\" fill=\"none\"/>\n",
       "    <path d=\"M18.56 5.44l.94 2.06.94-2.06 2.06-.94-2.06-.94-.94-2.06-.94 2.06-2.06.94zm-11 1L8.5 8.5l.94-2.06 2.06-.94-2.06-.94L8.5 2.5l-.94 2.06-2.06.94zm10 10l.94 2.06.94-2.06 2.06-.94-2.06-.94-.94-2.06-.94 2.06-2.06.94z\"/><path d=\"M17.41 7.96l-1.37-1.37c-.4-.4-.92-.59-1.43-.59-.52 0-1.04.2-1.43.59L10.3 9.45l-7.72 7.72c-.78.78-.78 2.05 0 2.83L4 21.41c.39.39.9.59 1.41.59.51 0 1.02-.2 1.41-.59l7.78-7.78 2.81-2.81c.8-.78.8-2.07 0-2.86zM5.41 20L4 18.59l7.72-7.72 1.47 1.35L5.41 20z\"/>\n",
       "  </svg>\n",
       "      </button>\n",
       "      \n",
       "  <style>\n",
       "    .colab-df-container {\n",
       "      display:flex;\n",
       "      flex-wrap:wrap;\n",
       "      gap: 12px;\n",
       "    }\n",
       "\n",
       "    .colab-df-convert {\n",
       "      background-color: #E8F0FE;\n",
       "      border: none;\n",
       "      border-radius: 50%;\n",
       "      cursor: pointer;\n",
       "      display: none;\n",
       "      fill: #1967D2;\n",
       "      height: 32px;\n",
       "      padding: 0 0 0 0;\n",
       "      width: 32px;\n",
       "    }\n",
       "\n",
       "    .colab-df-convert:hover {\n",
       "      background-color: #E2EBFA;\n",
       "      box-shadow: 0px 1px 2px rgba(60, 64, 67, 0.3), 0px 1px 3px 1px rgba(60, 64, 67, 0.15);\n",
       "      fill: #174EA6;\n",
       "    }\n",
       "\n",
       "    [theme=dark] .colab-df-convert {\n",
       "      background-color: #3B4455;\n",
       "      fill: #D2E3FC;\n",
       "    }\n",
       "\n",
       "    [theme=dark] .colab-df-convert:hover {\n",
       "      background-color: #434B5C;\n",
       "      box-shadow: 0px 1px 3px 1px rgba(0, 0, 0, 0.15);\n",
       "      filter: drop-shadow(0px 1px 2px rgba(0, 0, 0, 0.3));\n",
       "      fill: #FFFFFF;\n",
       "    }\n",
       "  </style>\n",
       "\n",
       "      <script>\n",
       "        const buttonEl =\n",
       "          document.querySelector('#df-c1148c95-0729-493e-8465-bb8ccafa4741 button.colab-df-convert');\n",
       "        buttonEl.style.display =\n",
       "          google.colab.kernel.accessAllowed ? 'block' : 'none';\n",
       "\n",
       "        async function convertToInteractive(key) {\n",
       "          const element = document.querySelector('#df-c1148c95-0729-493e-8465-bb8ccafa4741');\n",
       "          const dataTable =\n",
       "            await google.colab.kernel.invokeFunction('convertToInteractive',\n",
       "                                                     [key], {});\n",
       "          if (!dataTable) return;\n",
       "\n",
       "          const docLinkHtml = 'Like what you see? Visit the ' +\n",
       "            '<a target=\"_blank\" href=https://colab.research.google.com/notebooks/data_table.ipynb>data table notebook</a>'\n",
       "            + ' to learn more about interactive tables.';\n",
       "          element.innerHTML = '';\n",
       "          dataTable['output_type'] = 'display_data';\n",
       "          await google.colab.output.renderOutput(dataTable, element);\n",
       "          const docLink = document.createElement('div');\n",
       "          docLink.innerHTML = docLinkHtml;\n",
       "          element.appendChild(docLink);\n",
       "        }\n",
       "      </script>\n",
       "    </div>\n",
       "  </div>\n",
       "  "
      ],
      "text/plain": [
       "                                                  title  \\\n",
       "46480                                      social error   \n",
       "39489  please advise how can proceed with submitted the   \n",
       "5909          leaver leave date october location centre   \n",
       "16949                           new cost center systems   \n",
       "31322               chief data officer transforming the   \n",
       "\n",
       "                                                    body  ticket_type  \\\n",
       "46480  sent monday december error dear please with fo...            0   \n",
       "39489  please advise how can proceed with submitted h...            0   \n",
       "5909   leaver form leave date october location centre...            1   \n",
       "16949  thursday pm cost center hi according latest gu...            1   \n",
       "31322  wednesday pm chief officer transforming hi guy...            1   \n",
       "\n",
       "       category  sub_category1  sub_category2  business_service  urgency  \\\n",
       "46480         4             21             41                40        1   \n",
       "39489         4             21             41                67        2   \n",
       "5909          4              2             51                56        3   \n",
       "16949         4              3             21                68        3   \n",
       "31322         4              3             21                89        3   \n",
       "\n",
       "       impact  \n",
       "46480       3  \n",
       "39489       3  \n",
       "5909        4  \n",
       "16949       4  \n",
       "31322       4  "
      ]
     },
     "execution_count": 5,
     "metadata": {},
     "output_type": "execute_result"
    }
   ],
   "source": [
    "df.sample(5)"
   ]
  },
  {
   "cell_type": "markdown",
   "id": "jNFlYspIwSZS",
   "metadata": {
    "id": "jNFlYspIwSZS"
   },
   "source": [
    "# EDA"
   ]
  },
  {
   "cell_type": "code",
   "execution_count": 108,
   "id": "7IhAIbS3wY7U",
   "metadata": {
    "colab": {
     "base_uri": "https://localhost:8080/",
     "height": 406
    },
    "id": "7IhAIbS3wY7U",
    "outputId": "a8abb538-e883-47ee-dbad-0218b4476902"
   },
   "outputs": [
    {
     "data": {
      "text/html": [
       "\n",
       "  <div id=\"df-c6db5099-b8e9-4654-9df6-af7e212009c5\">\n",
       "    <div class=\"colab-df-container\">\n",
       "      <div>\n",
       "<style scoped>\n",
       "    .dataframe tbody tr th:only-of-type {\n",
       "        vertical-align: middle;\n",
       "    }\n",
       "\n",
       "    .dataframe tbody tr th {\n",
       "        vertical-align: top;\n",
       "    }\n",
       "\n",
       "    .dataframe thead th {\n",
       "        text-align: right;\n",
       "    }\n",
       "</style>\n",
       "<table border=\"1\" class=\"dataframe\">\n",
       "  <thead>\n",
       "    <tr style=\"text-align: right;\">\n",
       "      <th></th>\n",
       "      <th>title</th>\n",
       "      <th>body</th>\n",
       "      <th>ticket_type</th>\n",
       "      <th>category</th>\n",
       "      <th>sub_category1</th>\n",
       "      <th>sub_category2</th>\n",
       "      <th>business_service</th>\n",
       "      <th>urgency</th>\n",
       "      <th>impact</th>\n",
       "    </tr>\n",
       "  </thead>\n",
       "  <tbody>\n",
       "    <tr>\n",
       "      <th>0</th>\n",
       "      <td>NaN</td>\n",
       "      <td>hi since recruiter lead permission approve req...</td>\n",
       "      <td>1</td>\n",
       "      <td>4</td>\n",
       "      <td>2</td>\n",
       "      <td>21</td>\n",
       "      <td>71</td>\n",
       "      <td>3</td>\n",
       "      <td>4</td>\n",
       "    </tr>\n",
       "    <tr>\n",
       "      <th>1</th>\n",
       "      <td>connection with icon</td>\n",
       "      <td>icon dear please setup icon per icon engineers...</td>\n",
       "      <td>1</td>\n",
       "      <td>6</td>\n",
       "      <td>22</td>\n",
       "      <td>7</td>\n",
       "      <td>26</td>\n",
       "      <td>3</td>\n",
       "      <td>4</td>\n",
       "    </tr>\n",
       "    <tr>\n",
       "      <th>2</th>\n",
       "      <td>work experience user</td>\n",
       "      <td>work experience user hi work experience studen...</td>\n",
       "      <td>1</td>\n",
       "      <td>5</td>\n",
       "      <td>13</td>\n",
       "      <td>7</td>\n",
       "      <td>32</td>\n",
       "      <td>3</td>\n",
       "      <td>4</td>\n",
       "    </tr>\n",
       "    <tr>\n",
       "      <th>3</th>\n",
       "      <td>requesting for meeting</td>\n",
       "      <td>requesting meeting hi please help follow equip...</td>\n",
       "      <td>1</td>\n",
       "      <td>5</td>\n",
       "      <td>13</td>\n",
       "      <td>7</td>\n",
       "      <td>32</td>\n",
       "      <td>3</td>\n",
       "      <td>4</td>\n",
       "    </tr>\n",
       "    <tr>\n",
       "      <th>4</th>\n",
       "      <td>reset passwords for external accounts</td>\n",
       "      <td>re expire days hi ask help update passwords co...</td>\n",
       "      <td>1</td>\n",
       "      <td>4</td>\n",
       "      <td>2</td>\n",
       "      <td>76</td>\n",
       "      <td>4</td>\n",
       "      <td>3</td>\n",
       "      <td>4</td>\n",
       "    </tr>\n",
       "  </tbody>\n",
       "</table>\n",
       "</div>\n",
       "      <button class=\"colab-df-convert\" onclick=\"convertToInteractive('df-c6db5099-b8e9-4654-9df6-af7e212009c5')\"\n",
       "              title=\"Convert this dataframe to an interactive table.\"\n",
       "              style=\"display:none;\">\n",
       "        \n",
       "  <svg xmlns=\"http://www.w3.org/2000/svg\" height=\"24px\"viewBox=\"0 0 24 24\"\n",
       "       width=\"24px\">\n",
       "    <path d=\"M0 0h24v24H0V0z\" fill=\"none\"/>\n",
       "    <path d=\"M18.56 5.44l.94 2.06.94-2.06 2.06-.94-2.06-.94-.94-2.06-.94 2.06-2.06.94zm-11 1L8.5 8.5l.94-2.06 2.06-.94-2.06-.94L8.5 2.5l-.94 2.06-2.06.94zm10 10l.94 2.06.94-2.06 2.06-.94-2.06-.94-.94-2.06-.94 2.06-2.06.94z\"/><path d=\"M17.41 7.96l-1.37-1.37c-.4-.4-.92-.59-1.43-.59-.52 0-1.04.2-1.43.59L10.3 9.45l-7.72 7.72c-.78.78-.78 2.05 0 2.83L4 21.41c.39.39.9.59 1.41.59.51 0 1.02-.2 1.41-.59l7.78-7.78 2.81-2.81c.8-.78.8-2.07 0-2.86zM5.41 20L4 18.59l7.72-7.72 1.47 1.35L5.41 20z\"/>\n",
       "  </svg>\n",
       "      </button>\n",
       "      \n",
       "  <style>\n",
       "    .colab-df-container {\n",
       "      display:flex;\n",
       "      flex-wrap:wrap;\n",
       "      gap: 12px;\n",
       "    }\n",
       "\n",
       "    .colab-df-convert {\n",
       "      background-color: #E8F0FE;\n",
       "      border: none;\n",
       "      border-radius: 50%;\n",
       "      cursor: pointer;\n",
       "      display: none;\n",
       "      fill: #1967D2;\n",
       "      height: 32px;\n",
       "      padding: 0 0 0 0;\n",
       "      width: 32px;\n",
       "    }\n",
       "\n",
       "    .colab-df-convert:hover {\n",
       "      background-color: #E2EBFA;\n",
       "      box-shadow: 0px 1px 2px rgba(60, 64, 67, 0.3), 0px 1px 3px 1px rgba(60, 64, 67, 0.15);\n",
       "      fill: #174EA6;\n",
       "    }\n",
       "\n",
       "    [theme=dark] .colab-df-convert {\n",
       "      background-color: #3B4455;\n",
       "      fill: #D2E3FC;\n",
       "    }\n",
       "\n",
       "    [theme=dark] .colab-df-convert:hover {\n",
       "      background-color: #434B5C;\n",
       "      box-shadow: 0px 1px 3px 1px rgba(0, 0, 0, 0.15);\n",
       "      filter: drop-shadow(0px 1px 2px rgba(0, 0, 0, 0.3));\n",
       "      fill: #FFFFFF;\n",
       "    }\n",
       "  </style>\n",
       "\n",
       "      <script>\n",
       "        const buttonEl =\n",
       "          document.querySelector('#df-c6db5099-b8e9-4654-9df6-af7e212009c5 button.colab-df-convert');\n",
       "        buttonEl.style.display =\n",
       "          google.colab.kernel.accessAllowed ? 'block' : 'none';\n",
       "\n",
       "        async function convertToInteractive(key) {\n",
       "          const element = document.querySelector('#df-c6db5099-b8e9-4654-9df6-af7e212009c5');\n",
       "          const dataTable =\n",
       "            await google.colab.kernel.invokeFunction('convertToInteractive',\n",
       "                                                     [key], {});\n",
       "          if (!dataTable) return;\n",
       "\n",
       "          const docLinkHtml = 'Like what you see? Visit the ' +\n",
       "            '<a target=\"_blank\" href=https://colab.research.google.com/notebooks/data_table.ipynb>data table notebook</a>'\n",
       "            + ' to learn more about interactive tables.';\n",
       "          element.innerHTML = '';\n",
       "          dataTable['output_type'] = 'display_data';\n",
       "          await google.colab.output.renderOutput(dataTable, element);\n",
       "          const docLink = document.createElement('div');\n",
       "          docLink.innerHTML = docLinkHtml;\n",
       "          element.appendChild(docLink);\n",
       "        }\n",
       "      </script>\n",
       "    </div>\n",
       "  </div>\n",
       "  "
      ],
      "text/plain": [
       "                                   title  \\\n",
       "0                                    NaN   \n",
       "1                   connection with icon   \n",
       "2                   work experience user   \n",
       "3                 requesting for meeting   \n",
       "4  reset passwords for external accounts   \n",
       "\n",
       "                                                body  ticket_type  category  \\\n",
       "0  hi since recruiter lead permission approve req...            1         4   \n",
       "1  icon dear please setup icon per icon engineers...            1         6   \n",
       "2  work experience user hi work experience studen...            1         5   \n",
       "3  requesting meeting hi please help follow equip...            1         5   \n",
       "4  re expire days hi ask help update passwords co...            1         4   \n",
       "\n",
       "   sub_category1  sub_category2  business_service  urgency  impact  \n",
       "0              2             21                71        3       4  \n",
       "1             22              7                26        3       4  \n",
       "2             13              7                32        3       4  \n",
       "3             13              7                32        3       4  \n",
       "4              2             76                 4        3       4  "
      ]
     },
     "execution_count": 108,
     "metadata": {},
     "output_type": "execute_result"
    }
   ],
   "source": [
    "df.head()"
   ]
  },
  {
   "cell_type": "code",
   "execution_count": 109,
   "id": "vxpHtwaX_yon",
   "metadata": {
    "colab": {
     "base_uri": "https://localhost:8080/"
    },
    "id": "vxpHtwaX_yon",
    "outputId": "7413817c-f5ef-49e7-e4ce-1e9bcbc501eb"
   },
   "outputs": [
    {
     "name": "stdout",
     "output_type": "stream",
     "text": [
      "FEATURE           | NUMBER OF CLASSES\n",
      "--------------------------------------\n",
      "ticket_type       : 2\n",
      "category          : 13\n",
      "sub_category1     : 59\n",
      "sub_category2     : 115\n",
      "business_service  : 103\n",
      "urgency           : 4\n",
      "impact            : 5\n"
     ]
    }
   ],
   "source": [
    "#Looking at number of unique classes in each of the target feature\n",
    "print(\"FEATURE\".ljust(17),\"|\",\"NUMBER OF CLASSES\")\n",
    "print(\"--------------------------------------\")\n",
    "for col in df.iloc[:,2:]:\n",
    "    print(col.ljust(17),\":\", len(df[col].unique()))"
   ]
  },
  {
   "cell_type": "code",
   "execution_count": 110,
   "id": "qM3sC63mZEs-",
   "metadata": {
    "colab": {
     "base_uri": "https://localhost:8080/",
     "height": 279
    },
    "id": "qM3sC63mZEs-",
    "outputId": "14014781-35bd-4170-a5de-2a003a2bfc41"
   },
   "outputs": [
    {
     "data": {
      "image/png": "[encoded data removed]",
      "text/plain": [
       "<Figure size 432x288 with 1 Axes>"
      ]
     },
     "metadata": {
      "needs_background": "light"
     },
     "output_type": "display_data"
    }
   ],
   "source": [
    "#Plotting category distribution\n",
    "col = \"category\"\n",
    "data = df.groupby(col).count().reset_index()\n",
    "ax = sns.barplot(x=col, y='body',\n",
    "                data=data,\n",
    "                errwidth=0)\n",
    "ax.set_ylabel(\"Number of datapoints\")\n",
    "ax.set_xlabel(\"Category Class\")\n",
    "for i in ax.containers:\n",
    "    ax.bar_label(i,)"
   ]
  },
  {
   "cell_type": "markdown",
   "id": "lKQoaWEkwnRl",
   "metadata": {
    "id": "lKQoaWEkwnRl"
   },
   "source": [
    "We will use 'category' as our target variable"
   ]
  },
  {
   "cell_type": "code",
   "execution_count": 111,
   "id": "4ROwu8rTw7oo",
   "metadata": {
    "id": "4ROwu8rTw7oo"
   },
   "outputs": [],
   "source": [
    "df = df[[\"title\", \"body\", \"category\"]]"
   ]
  },
  {
   "cell_type": "code",
   "execution_count": 113,
   "id": "OhYSjajF0weX",
   "metadata": {
    "colab": {
     "base_uri": "https://localhost:8080/"
    },
    "id": "OhYSjajF0weX",
    "outputId": "9aa72ccb-4e8b-4713-faf2-5959f25f6ff7"
   },
   "outputs": [
    {
     "name": "stdout",
     "output_type": "stream",
     "text": [
      "Number of Nan Values\n",
      "\n",
      "Title Column:712\n",
      "Body Column:0\n"
     ]
    }
   ],
   "source": [
    "#Number of Nan Values\n",
    "print(\"Number of Nan Values\\n\")\n",
    "print(f'Title Column:{df[\"title\"].isnull().sum()}\\nBody Column:{df[\"body\"].isnull().sum()}')"
   ]
  },
  {
   "cell_type": "code",
   "execution_count": 114,
   "id": "hT841_ds5THS",
   "metadata": {
    "colab": {
     "base_uri": "https://localhost:8080/"
    },
    "id": "hT841_ds5THS",
    "outputId": "a1c4b01e-d375-480b-8ef7-b595ab1728de"
   },
   "outputs": [
    {
     "name": "stdout",
     "output_type": "stream",
     "text": [
      "Number of Nan Values\n",
      "\n",
      "Title Column:0\n",
      "Body Column:0\n"
     ]
    }
   ],
   "source": [
    "#filling nan in Title with blank string\n",
    "df[\"title\"].fillna(\" \",inplace = True)\n",
    "#Verifying\n",
    "print(\"Number of Nan Values\\n\")\n",
    "print(f'Title Column:{df[\"title\"].isnull().sum()}\\nBody Column:{df[\"body\"].isnull().sum()}')"
   ]
  },
  {
   "cell_type": "code",
   "execution_count": 115,
   "id": "qnGQwMqAzGqk",
   "metadata": {
    "colab": {
     "base_uri": "https://localhost:8080/",
     "height": 369
    },
    "id": "qnGQwMqAzGqk",
    "outputId": "a1fbbf9a-0d97-460a-a645-15832bcd6114"
   },
   "outputs": [
    {
     "data": {
      "image/png": "[encoded data removed]",
      "text/plain": [
       "<Figure size 720x360 with 2 Axes>"
      ]
     },
     "metadata": {
      "needs_background": "light"
     },
     "output_type": "display_data"
    }
   ],
   "source": [
    "#Analysing length of sequences in Title and Body column\n",
    "fig = plt.figure(figsize = (10,5))\n",
    "ax1 = plt.subplot(121)\n",
    "ax2 = plt.subplot(122)\n",
    "ax1.hist(df[\"body\"].apply(len))\n",
    "ax1.set_xlabel(\"Length of string\")\n",
    "ax1.set_ylabel(\"Number of datapoints\")\n",
    "ax2.hist(df[\"title\"].apply(len))\n",
    "ax2.set_xlabel(\"Length of string\")\n",
    "ax2.set_ylabel(\"Number of datapoints\")\n",
    "ax1.title.set_text('Length of Title Sequences')\n",
    "ax2.title.set_text('Length of Body Sequences')\n",
    "fig.tight_layout()\n",
    "plt.show()"
   ]
  },
  {
   "cell_type": "markdown",
   "id": "ofbUJ_W99LmT",
   "metadata": {
    "id": "ofbUJ_W99LmT"
   },
   "source": [
    "# Preprocessing"
   ]
  },
  {
   "cell_type": "code",
   "execution_count": 116,
   "id": "VPNz9ZTK9O7E",
   "metadata": {
    "id": "VPNz9ZTK9O7E"
   },
   "outputs": [],
   "source": [
    "#Removing Special characters\n",
    "import re\n",
    "pattern = r'[^A-Za-z0-9 ]+'"
   ]
  },
  {
   "cell_type": "code",
   "execution_count": 117,
   "id": "yijqejwx9rek",
   "metadata": {
    "id": "yijqejwx9rek"
   },
   "outputs": [],
   "source": [
    "df['title'] =  [re.sub(pattern,'', str(x)) for x in df['title']]\n",
    "df['body'] =  [re.sub(pattern,'', str(x)) for x in df['body']]"
   ]
  },
  {
   "cell_type": "code",
   "execution_count": 118,
   "id": "Dlq_SneFDIqB",
   "metadata": {
    "id": "Dlq_SneFDIqB"
   },
   "outputs": [],
   "source": [
    "#Changing content to lower case\n",
    "df[\"title\"] = df[\"title\"].str.lower()\n",
    "df[\"body\"] = df[\"body\"].str.lower()"
   ]
  },
  {
   "cell_type": "code",
   "execution_count": 120,
   "id": "dWgq17ZOAXW3",
   "metadata": {
    "id": "dWgq17ZOAXW3"
   },
   "outputs": [],
   "source": [
    "#Taking top five categories in terms of number of datapoints\n",
    "df_filtered = df.loc[(df.category.isin([4,5,6,7,11]))]"
   ]
  },
  {
   "cell_type": "code",
   "execution_count": 121,
   "id": "953CAkn23DmH",
   "metadata": {
    "colab": {
     "base_uri": "https://localhost:8080/",
     "height": 206
    },
    "id": "953CAkn23DmH",
    "outputId": "c666b012-9d56-4353-be96-78a47384d89d"
   },
   "outputs": [
    {
     "data": {
      "text/html": [
       "\n",
       "  <div id=\"df-76724dd7-ffbe-48a1-8baf-7db1f4f472ef\">\n",
       "    <div class=\"colab-df-container\">\n",
       "      <div>\n",
       "<style scoped>\n",
       "    .dataframe tbody tr th:only-of-type {\n",
       "        vertical-align: middle;\n",
       "    }\n",
       "\n",
       "    .dataframe tbody tr th {\n",
       "        vertical-align: top;\n",
       "    }\n",
       "\n",
       "    .dataframe thead th {\n",
       "        text-align: right;\n",
       "    }\n",
       "</style>\n",
       "<table border=\"1\" class=\"dataframe\">\n",
       "  <thead>\n",
       "    <tr style=\"text-align: right;\">\n",
       "      <th></th>\n",
       "      <th>title</th>\n",
       "      <th>body</th>\n",
       "      <th>category</th>\n",
       "    </tr>\n",
       "  </thead>\n",
       "  <tbody>\n",
       "    <tr>\n",
       "      <th>0</th>\n",
       "      <td></td>\n",
       "      <td>hi since recruiter lead permission approve req...</td>\n",
       "      <td>4</td>\n",
       "    </tr>\n",
       "    <tr>\n",
       "      <th>1</th>\n",
       "      <td>connection with icon</td>\n",
       "      <td>icon dear please setup icon per icon engineers...</td>\n",
       "      <td>6</td>\n",
       "    </tr>\n",
       "    <tr>\n",
       "      <th>2</th>\n",
       "      <td>work experience user</td>\n",
       "      <td>work experience user hi work experience studen...</td>\n",
       "      <td>5</td>\n",
       "    </tr>\n",
       "    <tr>\n",
       "      <th>3</th>\n",
       "      <td>requesting for meeting</td>\n",
       "      <td>requesting meeting hi please help follow equip...</td>\n",
       "      <td>5</td>\n",
       "    </tr>\n",
       "    <tr>\n",
       "      <th>4</th>\n",
       "      <td>reset passwords for external accounts</td>\n",
       "      <td>re expire days hi ask help update passwords co...</td>\n",
       "      <td>4</td>\n",
       "    </tr>\n",
       "  </tbody>\n",
       "</table>\n",
       "</div>\n",
       "      <button class=\"colab-df-convert\" onclick=\"convertToInteractive('df-76724dd7-ffbe-48a1-8baf-7db1f4f472ef')\"\n",
       "              title=\"Convert this dataframe to an interactive table.\"\n",
       "              style=\"display:none;\">\n",
       "        \n",
       "  <svg xmlns=\"http://www.w3.org/2000/svg\" height=\"24px\"viewBox=\"0 0 24 24\"\n",
       "       width=\"24px\">\n",
       "    <path d=\"M0 0h24v24H0V0z\" fill=\"none\"/>\n",
       "    <path d=\"M18.56 5.44l.94 2.06.94-2.06 2.06-.94-2.06-.94-.94-2.06-.94 2.06-2.06.94zm-11 1L8.5 8.5l.94-2.06 2.06-.94-2.06-.94L8.5 2.5l-.94 2.06-2.06.94zm10 10l.94 2.06.94-2.06 2.06-.94-2.06-.94-.94-2.06-.94 2.06-2.06.94z\"/><path d=\"M17.41 7.96l-1.37-1.37c-.4-.4-.92-.59-1.43-.59-.52 0-1.04.2-1.43.59L10.3 9.45l-7.72 7.72c-.78.78-.78 2.05 0 2.83L4 21.41c.39.39.9.59 1.41.59.51 0 1.02-.2 1.41-.59l7.78-7.78 2.81-2.81c.8-.78.8-2.07 0-2.86zM5.41 20L4 18.59l7.72-7.72 1.47 1.35L5.41 20z\"/>\n",
       "  </svg>\n",
       "      </button>\n",
       "      \n",
       "  <style>\n",
       "    .colab-df-container {\n",
       "      display:flex;\n",
       "      flex-wrap:wrap;\n",
       "      gap: 12px;\n",
       "    }\n",
       "\n",
       "    .colab-df-convert {\n",
       "      background-color: #E8F0FE;\n",
       "      border: none;\n",
       "      border-radius: 50%;\n",
       "      cursor: pointer;\n",
       "      display: none;\n",
       "      fill: #1967D2;\n",
       "      height: 32px;\n",
       "      padding: 0 0 0 0;\n",
       "      width: 32px;\n",
       "    }\n",
       "\n",
       "    .colab-df-convert:hover {\n",
       "      background-color: #E2EBFA;\n",
       "      box-shadow: 0px 1px 2px rgba(60, 64, 67, 0.3), 0px 1px 3px 1px rgba(60, 64, 67, 0.15);\n",
       "      fill: #174EA6;\n",
       "    }\n",
       "\n",
       "    [theme=dark] .colab-df-convert {\n",
       "      background-color: #3B4455;\n",
       "      fill: #D2E3FC;\n",
       "    }\n",
       "\n",
       "    [theme=dark] .colab-df-convert:hover {\n",
       "      background-color: #434B5C;\n",
       "      box-shadow: 0px 1px 3px 1px rgba(0, 0, 0, 0.15);\n",
       "      filter: drop-shadow(0px 1px 2px rgba(0, 0, 0, 0.3));\n",
       "      fill: #FFFFFF;\n",
       "    }\n",
       "  </style>\n",
       "\n",
       "      <script>\n",
       "        const buttonEl =\n",
       "          document.querySelector('#df-76724dd7-ffbe-48a1-8baf-7db1f4f472ef button.colab-df-convert');\n",
       "        buttonEl.style.display =\n",
       "          google.colab.kernel.accessAllowed ? 'block' : 'none';\n",
       "\n",
       "        async function convertToInteractive(key) {\n",
       "          const element = document.querySelector('#df-76724dd7-ffbe-48a1-8baf-7db1f4f472ef');\n",
       "          const dataTable =\n",
       "            await google.colab.kernel.invokeFunction('convertToInteractive',\n",
       "                                                     [key], {});\n",
       "          if (!dataTable) return;\n",
       "\n",
       "          const docLinkHtml = 'Like what you see? Visit the ' +\n",
       "            '<a target=\"_blank\" href=https://colab.research.google.com/notebooks/data_table.ipynb>data table notebook</a>'\n",
       "            + ' to learn more about interactive tables.';\n",
       "          element.innerHTML = '';\n",
       "          dataTable['output_type'] = 'display_data';\n",
       "          await google.colab.output.renderOutput(dataTable, element);\n",
       "          const docLink = document.createElement('div');\n",
       "          docLink.innerHTML = docLinkHtml;\n",
       "          element.appendChild(docLink);\n",
       "        }\n",
       "      </script>\n",
       "    </div>\n",
       "  </div>\n",
       "  "
      ],
      "text/plain": [
       "                                   title  \\\n",
       "0                                          \n",
       "1                   connection with icon   \n",
       "2                   work experience user   \n",
       "3                 requesting for meeting   \n",
       "4  reset passwords for external accounts   \n",
       "\n",
       "                                                body  category  \n",
       "0  hi since recruiter lead permission approve req...         4  \n",
       "1  icon dear please setup icon per icon engineers...         6  \n",
       "2  work experience user hi work experience studen...         5  \n",
       "3  requesting meeting hi please help follow equip...         5  \n",
       "4  re expire days hi ask help update passwords co...         4  "
      ]
     },
     "execution_count": 121,
     "metadata": {},
     "output_type": "execute_result"
    }
   ],
   "source": [
    "df_filtered.head()"
   ]
  },
  {
   "cell_type": "code",
   "execution_count": 122,
   "id": "OCHkOXCvZO1O",
   "metadata": {
    "colab": {
     "base_uri": "https://localhost:8080/",
     "height": 237
    },
    "id": "OCHkOXCvZO1O",
    "outputId": "3dfebd8d-e575-4faf-f90f-25df947c891b"
   },
   "outputs": [
    {
     "data": {
      "text/html": [
       "\n",
       "  <div id=\"df-b104efd8-817d-448f-99b6-070df49ddf6a\">\n",
       "    <div class=\"colab-df-container\">\n",
       "      <div>\n",
       "<style scoped>\n",
       "    .dataframe tbody tr th:only-of-type {\n",
       "        vertical-align: middle;\n",
       "    }\n",
       "\n",
       "    .dataframe tbody tr th {\n",
       "        vertical-align: top;\n",
       "    }\n",
       "\n",
       "    .dataframe thead th {\n",
       "        text-align: right;\n",
       "    }\n",
       "</style>\n",
       "<table border=\"1\" class=\"dataframe\">\n",
       "  <thead>\n",
       "    <tr style=\"text-align: right;\">\n",
       "      <th></th>\n",
       "      <th>title</th>\n",
       "      <th>body</th>\n",
       "    </tr>\n",
       "    <tr>\n",
       "      <th>category</th>\n",
       "      <th></th>\n",
       "      <th></th>\n",
       "    </tr>\n",
       "  </thead>\n",
       "  <tbody>\n",
       "    <tr>\n",
       "      <th>4</th>\n",
       "      <td>34061</td>\n",
       "      <td>34061</td>\n",
       "    </tr>\n",
       "    <tr>\n",
       "      <th>5</th>\n",
       "      <td>9634</td>\n",
       "      <td>9634</td>\n",
       "    </tr>\n",
       "    <tr>\n",
       "      <th>6</th>\n",
       "      <td>2628</td>\n",
       "      <td>2628</td>\n",
       "    </tr>\n",
       "    <tr>\n",
       "      <th>7</th>\n",
       "      <td>921</td>\n",
       "      <td>921</td>\n",
       "    </tr>\n",
       "    <tr>\n",
       "      <th>11</th>\n",
       "      <td>612</td>\n",
       "      <td>612</td>\n",
       "    </tr>\n",
       "  </tbody>\n",
       "</table>\n",
       "</div>\n",
       "      <button class=\"colab-df-convert\" onclick=\"convertToInteractive('df-b104efd8-817d-448f-99b6-070df49ddf6a')\"\n",
       "              title=\"Convert this dataframe to an interactive table.\"\n",
       "              style=\"display:none;\">\n",
       "        \n",
       "  <svg xmlns=\"http://www.w3.org/2000/svg\" height=\"24px\"viewBox=\"0 0 24 24\"\n",
       "       width=\"24px\">\n",
       "    <path d=\"M0 0h24v24H0V0z\" fill=\"none\"/>\n",
       "    <path d=\"M18.56 5.44l.94 2.06.94-2.06 2.06-.94-2.06-.94-.94-2.06-.94 2.06-2.06.94zm-11 1L8.5 8.5l.94-2.06 2.06-.94-2.06-.94L8.5 2.5l-.94 2.06-2.06.94zm10 10l.94 2.06.94-2.06 2.06-.94-2.06-.94-.94-2.06-.94 2.06-2.06.94z\"/><path d=\"M17.41 7.96l-1.37-1.37c-.4-.4-.92-.59-1.43-.59-.52 0-1.04.2-1.43.59L10.3 9.45l-7.72 7.72c-.78.78-.78 2.05 0 2.83L4 21.41c.39.39.9.59 1.41.59.51 0 1.02-.2 1.41-.59l7.78-7.78 2.81-2.81c.8-.78.8-2.07 0-2.86zM5.41 20L4 18.59l7.72-7.72 1.47 1.35L5.41 20z\"/>\n",
       "  </svg>\n",
       "      </button>\n",
       "      \n",
       "  <style>\n",
       "    .colab-df-container {\n",
       "      display:flex;\n",
       "      flex-wrap:wrap;\n",
       "      gap: 12px;\n",
       "    }\n",
       "\n",
       "    .colab-df-convert {\n",
       "      background-color: #E8F0FE;\n",
       "      border: none;\n",
       "      border-radius: 50%;\n",
       "      cursor: pointer;\n",
       "      display: none;\n",
       "      fill: #1967D2;\n",
       "      height: 32px;\n",
       "      padding: 0 0 0 0;\n",
       "      width: 32px;\n",
       "    }\n",
       "\n",
       "    .colab-df-convert:hover {\n",
       "      background-color: #E2EBFA;\n",
       "      box-shadow: 0px 1px 2px rgba(60, 64, 67, 0.3), 0px 1px 3px 1px rgba(60, 64, 67, 0.15);\n",
       "      fill: #174EA6;\n",
       "    }\n",
       "\n",
       "    [theme=dark] .colab-df-convert {\n",
       "      background-color: #3B4455;\n",
       "      fill: #D2E3FC;\n",
       "    }\n",
       "\n",
       "    [theme=dark] .colab-df-convert:hover {\n",
       "      background-color: #434B5C;\n",
       "      box-shadow: 0px 1px 3px 1px rgba(0, 0, 0, 0.15);\n",
       "      filter: drop-shadow(0px 1px 2px rgba(0, 0, 0, 0.3));\n",
       "      fill: #FFFFFF;\n",
       "    }\n",
       "  </style>\n",
       "\n",
       "      <script>\n",
       "        const buttonEl =\n",
       "          document.querySelector('#df-b104efd8-817d-448f-99b6-070df49ddf6a button.colab-df-convert');\n",
       "        buttonEl.style.display =\n",
       "          google.colab.kernel.accessAllowed ? 'block' : 'none';\n",
       "\n",
       "        async function convertToInteractive(key) {\n",
       "          const element = document.querySelector('#df-b104efd8-817d-448f-99b6-070df49ddf6a');\n",
       "          const dataTable =\n",
       "            await google.colab.kernel.invokeFunction('convertToInteractive',\n",
       "                                                     [key], {});\n",
       "          if (!dataTable) return;\n",
       "\n",
       "          const docLinkHtml = 'Like what you see? Visit the ' +\n",
       "            '<a target=\"_blank\" href=https://colab.research.google.com/notebooks/data_table.ipynb>data table notebook</a>'\n",
       "            + ' to learn more about interactive tables.';\n",
       "          element.innerHTML = '';\n",
       "          dataTable['output_type'] = 'display_data';\n",
       "          await google.colab.output.renderOutput(dataTable, element);\n",
       "          const docLink = document.createElement('div');\n",
       "          docLink.innerHTML = docLinkHtml;\n",
       "          element.appendChild(docLink);\n",
       "        }\n",
       "      </script>\n",
       "    </div>\n",
       "  </div>\n",
       "  "
      ],
      "text/plain": [
       "          title   body\n",
       "category              \n",
       "4         34061  34061\n",
       "5          9634   9634\n",
       "6          2628   2628\n",
       "7           921    921\n",
       "11          612    612"
      ]
     },
     "execution_count": 122,
     "metadata": {},
     "output_type": "execute_result"
    }
   ],
   "source": [
    "df_filtered.groupby(\"category\").count()"
   ]
  },
  {
   "cell_type": "code",
   "execution_count": 123,
   "id": "ionqX6gkkzy6",
   "metadata": {
    "id": "ionqX6gkkzy6"
   },
   "outputs": [],
   "source": [
    "#creating dict to redefine labels from 0 to 4\n",
    "new_cat = {4: 0, 5:1, 6:2, 7:3, 11:4}"
   ]
  },
  {
   "cell_type": "code",
   "execution_count": 124,
   "id": "DlAvKfryo5R5",
   "metadata": {
    "colab": {
     "base_uri": "https://localhost:8080/"
    },
    "id": "DlAvKfryo5R5",
    "outputId": "955374b2-5094-42d5-e6fb-dc7b00eceb76"
   },
   "outputs": [
    {
     "name": "stderr",
     "output_type": "stream",
     "text": [
      "/usr/local/lib/python3.7/dist-packages/pandas/core/indexing.py:1773: SettingWithCopyWarning: \n",
      "A value is trying to be set on a copy of a slice from a DataFrame.\n",
      "Try using .loc[row_indexer,col_indexer] = value instead\n",
      "\n",
      "See the caveats in the documentation: https://pandas.pydata.org/pandas-docs/stable/user_guide/indexing.html#returning-a-view-versus-a-copy\n",
      "  self._setitem_single_column(ilocs[0], value, pi)\n"
     ]
    }
   ],
   "source": [
    "df_filtered.replace({\"category\": new_cat},inplace=True)"
   ]
  },
  {
   "cell_type": "code",
   "execution_count": null,
   "id": "3zDzYG99ptel",
   "metadata": {
    "id": "3zDzYG99ptel"
   },
   "outputs": [],
   "source": [
    "#Splitting data into test and train\n",
    "from sklearn.model_selection import train_test_split\n",
    "train_df, test_df = train_test_split(df_filtered, test_size = 0.2,\\\n",
    "                                     stratify = df_filtered[\"category\"],\\\n",
    "                                     random_state = 42, shuffle = True)"
   ]
  },
  {
   "cell_type": "code",
   "execution_count": null,
   "id": "7FwK1J_2If6z",
   "metadata": {
    "id": "7FwK1J_2If6z"
   },
   "outputs": [],
   "source": [
    "test_df = test_df.sample(frac=1).reset_index(drop=True)\n",
    "train_df = train_df.sample(frac=1).reset_index(drop=True)"
   ]
  },
  {
   "cell_type": "code",
   "execution_count": null,
   "id": "xb7c-K2yslly",
   "metadata": {
    "colab": {
     "base_uri": "https://localhost:8080/"
    },
    "id": "xb7c-K2yslly",
    "outputId": "eaf798d0-98cc-482f-afe9-f47f437013ef"
   },
   "outputs": [
    {
     "name": "stdout",
     "output_type": "stream",
     "text": [
      "          title   body\n",
      "category              \n",
      "0         27248  27248\n",
      "1          7707   7707\n",
      "2          2102   2102\n",
      "3           737    737\n",
      "4           490    490\n",
      "          title  body\n",
      "category             \n",
      "0          6813  6813\n",
      "1          1927  1927\n",
      "2           526   526\n",
      "3           184   184\n",
      "4           122   122\n"
     ]
    }
   ],
   "source": [
    "print(train_df.groupby(\"category\").count())\n",
    "print(test_df.groupby(\"category\").count())"
   ]
  },
  {
   "cell_type": "code",
   "execution_count": null,
   "id": "b3f82e9d",
   "metadata": {
    "colab": {
     "base_uri": "https://localhost:8080/"
    },
    "id": "b3f82e9d",
    "outputId": "4e189e22-4bfb-4d9d-e4f3-8f10494be04d"
   },
   "outputs": [
    {
     "name": "stdout",
     "output_type": "stream",
     "text": [
      "Number of Training Examples: 38284\n",
      "Number of Validation Examples: 1915\n",
      "Number of Test Examples: 7657\n"
     ]
    }
   ],
   "source": [
    "# We reserve 20% of the training data for validation\n",
    "test_df, val_df = train_test_split(test_df, test_size=0.2, random_state = 42)\n",
    "print(f\"Number of Training Examples: {len(train_df)}\")\n",
    "print(f\"Number of Validation Examples: {len(val_df)}\")\n",
    "print(f\"Number of Test Examples: {len(test_df)}\")"
   ]
  },
  {
   "cell_type": "markdown",
   "id": "99a6b904",
   "metadata": {
    "id": "99a6b904"
   },
   "source": [
    "## Tokenization using BERT"
   ]
  },
  {
   "cell_type": "code",
   "execution_count": 48,
   "id": "4e8aa458",
   "metadata": {
    "colab": {
     "base_uri": "https://localhost:8080/",
     "height": 81,
     "referenced_widgets": [
      "5db552f5b0a24646911f98242bb17275",
      "02c2e62c49c94439a8bab71961c86a4f",
      "17342f83951e4411a4e01f60f61a85f3",
      "82e4366eff8845c9b0f432faa2604355",
      "04cc20225a4e41b1bede7a7611a34bd8",
      "0736f16e37e74cfebf4ef3a9fa163437",
      "49e7f52776754fcfaa7b4a1779806804",
      "951905504d14482e88134864ab3d9fba",
      "e162022dfb504c61b9476e5ac400554a",
      "e1885414e82c4a329b3302a63e562f4f",
      "a578c3796c72437ba90565f5a52d583d",
      "65eb8bdff4314796a3a43967e0a3335b",
      "cb2d9fa9ba3e452784cdba6a62b89174",
      "ab5b8bdcf8474cc4adde388660837aef",
      "adc44773358d4a26bdab8db07f4dfbd0",
      "a60aa1db72534737ba84ae44067e80a8",
      "6386f99950174a8aa4b6d89a22a2b69d",
      "9def52dcbfd04c079b9b8a3f6f845188",
      "2b8dd914938c4a05ae4e5d948783fd7d",
      "038c0373f76949b4ab9bf82f95d9dfcd",
      "b46e389d712a483dbea049c2c1685174",
      "0501d2383c7d4e93a5d5f6b7b6f47669"
     ]
    },
    "id": "4e8aa458",
    "outputId": "26d4a455-293b-4bd3-82b3-9ca876887846"
   },
   "outputs": [
    {
     "data": {
      "application/vnd.jupyter.widget-view+json": {
       "model_id": "5db552f5b0a24646911f98242bb17275",
       "version_major": 2,
       "version_minor": 0
      },
      "text/plain": [
       "Downloading:   0%|          | 0.00/226k [00:00<?, ?B/s]"
      ]
     },
     "metadata": {},
     "output_type": "display_data"
    },
    {
     "data": {
      "application/vnd.jupyter.widget-view+json": {
       "model_id": "65eb8bdff4314796a3a43967e0a3335b",
       "version_major": 2,
       "version_minor": 0
      },
      "text/plain": [
       "Downloading:   0%|          | 0.00/28.0 [00:00<?, ?B/s]"
      ]
     },
     "metadata": {},
     "output_type": "display_data"
    }
   ],
   "source": [
    "# Import the BertTokenizer from the library\n",
    "from transformers import BertTokenizer\n",
    "\n",
    "# Load a pre-trained BERT Tokenizer\n",
    "bert_tokenizer = BertTokenizer.from_pretrained(\"bert-base-uncased\")"
   ]
  },
  {
   "cell_type": "markdown",
   "id": "4627768e",
   "metadata": {
    "id": "4627768e"
   },
   "source": [
    "## Defining Dataloader\n"
   ]
  },
  {
   "cell_type": "code",
   "execution_count": 46,
   "id": "65ffd2ac",
   "metadata": {
    "id": "65ffd2ac"
   },
   "outputs": [],
   "source": [
    "from torch.utils.data import Dataset, DataLoader\n",
    "\n",
    "class BertDataset(Dataset):\n",
    "    \n",
    "    def __init__(self, sentences, labels, seq_len = 150, bert_variant = \"bert-base-uncased\"):\n",
    "        \"\"\"\n",
    "        Constructor for the `BertDataset` class. Stores the `sentences` and `labels` which can then be used by\n",
    "        other methods. Also initializes the tokenizer\n",
    "        \n",
    "        Inputs:\n",
    "            - sentences (list) : A list of movie reviews\n",
    "            - labels (list): A list of sentiment labels corresponding to each review\n",
    "            - seq_len (int): Length of the sequence to use.\n",
    "                             If number of tokens are lower than `seq_len` add padding otherwise truncate\n",
    "        \"\"\"\n",
    "\n",
    "        self.sentences = sentences\n",
    "        self.labels = labels\n",
    "        self.seq_len = seq_len\n",
    "        self.tokenizer = BertTokenizer.from_pretrained(bert_variant)\n",
    "        \n",
    "        \n",
    "    def __len__(self):\n",
    "        \"\"\"\n",
    "        Returns the length of the dataset i.e. the number of datapoints present in \n",
    "        the dataset\n",
    "        \"\"\"\n",
    "        length = None\n",
    "        \n",
    "        length = len(self.sentences)\n",
    "        \n",
    "        return length\n",
    "    \n",
    "    def __getitem__(self, idx):\n",
    "        \"\"\"\n",
    "        Returns the training example corresponding to datapoints present at the \n",
    "        `idx` position in the dataset\n",
    "        \n",
    "        Inputs:\n",
    "            - idx (int): Index corresponding to the review,label to be returned\n",
    "            \n",
    "        Returns:\n",
    "            - input_ids (torch.tensor): Indices of the tokens in the sentence \n",
    "                                        at `idx` position.\n",
    "                                        Shape of the tensor should be (`seq_len`,)\n",
    "            - mask (torch.tensor): Attention mask indicating which tokens are padded.\n",
    "                                   Shape of the tensor should be (`seq_len`,)\n",
    "            - label (int): label for the corresponding sentence\n",
    "        \n",
    "        \"\"\"\n",
    "        \n",
    "\n",
    "        tokenizer_output = self.tokenizer(self.sentences[idx],\\\n",
    "                                          max_length=self.seq_len, \\\n",
    "                                          padding=\"max_length\", \\\n",
    "                                          truncation = True, return_tensors=\"pt\")\n",
    "        input_ids = tokenizer_output[\"input_ids\"]\n",
    "        mask = tokenizer_output[\"attention_mask\"]\n",
    "        label = self.labels[idx]\n",
    "        \n",
    "        return input_ids.squeeze(0), mask.squeeze(0), torch.tensor(label)"
   ]
  },
  {
   "cell_type": "code",
   "execution_count": null,
   "id": "2BfvnDaSyPo3",
   "metadata": {
    "id": "2BfvnDaSyPo3"
   },
   "outputs": [],
   "source": [
    "#Concatenating title and body columns \n",
    "train_df[\"combined\"] = train_df[\"title\"] + train_df[\"body\"]\n",
    "test_df[\"combined\"] = test_df[\"title\"] + test_df[\"body\"]\n",
    "val_df[\"combined\"] = val_df[\"title\"] + val_df[\"body\"]"
   ]
  },
  {
   "cell_type": "code",
   "execution_count": null,
   "id": "VD4biBhu8Rzp",
   "metadata": {
    "id": "VD4biBhu8Rzp"
   },
   "outputs": [],
   "source": [
    "#Creating a balanced train data by sampling equally from all classes\n",
    "n_sample = 490\n",
    "balanced_df = train_df.loc[train_df.category == 0].sample(n_sample)\n",
    "for i in range(1,5):\n",
    "  balanced_df = pd.concat([balanced_df, train_df.loc[train_df.category == i].sample(n_sample)])"
   ]
  },
  {
   "cell_type": "code",
   "execution_count": null,
   "id": "nlGKL1Q69-L0",
   "metadata": {
    "colab": {
     "base_uri": "https://localhost:8080/"
    },
    "id": "nlGKL1Q69-L0",
    "outputId": "f01d3920-8d14-4ec3-de0c-92545fbf913b"
   },
   "outputs": [
    {
     "name": "stdout",
     "output_type": "stream",
     "text": [
      "          title  body  ohe_cat  combined\n",
      "category                                \n",
      "0           490   490      490       490\n",
      "1           490   490      490       490\n",
      "2           490   490      490       490\n",
      "3           490   490      490       490\n",
      "4           490   490      490       490\n"
     ]
    }
   ],
   "source": [
    "print(balanced_df.groupby(\"category\").count())"
   ]
  },
  {
   "cell_type": "code",
   "execution_count": null,
   "id": "d3994ab0",
   "metadata": {
    "id": "d3994ab0"
   },
   "outputs": [],
   "source": [
    "seq_len = 150\n",
    "batch_size = 32\n",
    "\n",
    "train_sentences, train_labels = balanced_df[\"combined\"].values, balanced_df[\"category\"].values\n",
    "val_sentences, val_labels = val_df[\"combined\"].values, val_df[\"category\"].values\n",
    "test_sentences, test_labels = test_df[\"combined\"].values, test_df[\"category\"].values\n",
    "\n",
    "train_dataset = BertDataset(train_sentences, train_labels, seq_len=seq_len)\n",
    "val_dataset = BertDataset(val_sentences, val_labels, seq_len=seq_len)\n",
    "test_dataset = BertDataset(test_sentences, test_labels, seq_len=seq_len)\n",
    "\n",
    "train_loader = DataLoader(train_dataset, batch_size=batch_size)\n",
    "val_loader = DataLoader(val_dataset, batch_size=batch_size)\n",
    "test_loader = DataLoader(test_dataset, batch_size=batch_size)"
   ]
  },
  {
   "cell_type": "markdown",
   "id": "849edfc0",
   "metadata": {
    "id": "849edfc0"
   },
   "source": [
    "## Baseline Model: Implementing and Training BERT-based Classifier\n",
    "\n",
    "Similar to pretrained tokenizers, the transformers library also provide numerous pre-trained language models that can be fine-tuned on a wide variety of downstream tasks. We demonstrate usage of these models below."
   ]
  },
  {
   "cell_type": "code",
   "execution_count": 42,
   "id": "c9322600",
   "metadata": {
    "colab": {
     "base_uri": "https://localhost:8080/",
     "height": 1000,
     "referenced_widgets": [
      "56db18a52f3346439be7c0945fcbffa6",
      "8590e28d117f4ff799dbd4d7158669c0",
      "c541143725e941c0b04aba62fb08871f",
      "17098383dcc642f6813c7c58960933f7",
      "3a944d96bcb34b88b8a05f6afde73c2d",
      "8706e38eeff646089756fb26e6b960dc",
      "743efbc140eb46dd96672575cb771740",
      "9778198955b84a8eb50a04a1bbfafd74",
      "33a93669096041fc85fab0376874abec",
      "a353ffec62c84ea5a111dea9f44a7480",
      "2333e80f6a694275b55d2478618e14f5",
      "a3d89209e5f44ebb83610bf85193d6e0",
      "2147d1dc6fe348e2ac5ef4e3c55b3dd5",
      "3b180b47b6b847d4a318c308fb4944c8",
      "22c632b103294e9eb6262001ece9df5c",
      "1b62ea853d6448ef8e68f5798ea4d615",
      "b0e0121f2aaa4584a747c8a0b91d738d",
      "2814a15571aa41f5a582ed6310c206c5",
      "109a77f6a92341a5860cfd833a92156d",
      "7c759a0f361d496dbe95e06819c997d8",
      "9d37fd2d7e21460bb4957d9e399ee028",
      "293b714407d145c7be25d02255215be6"
     ]
    },
    "id": "c9322600",
    "outputId": "dea242ff-f14c-4284-8f35-0d083efeb2e4"
   },
   "outputs": [
    {
     "data": {
      "application/vnd.jupyter.widget-view+json": {
       "model_id": "56db18a52f3346439be7c0945fcbffa6",
       "version_major": 2,
       "version_minor": 0
      },
      "text/plain": [
       "Downloading:   0%|          | 0.00/570 [00:00<?, ?B/s]"
      ]
     },
     "metadata": {},
     "output_type": "display_data"
    },
    {
     "data": {
      "application/vnd.jupyter.widget-view+json": {
       "model_id": "a3d89209e5f44ebb83610bf85193d6e0",
       "version_major": 2,
       "version_minor": 0
      },
      "text/plain": [
       "Downloading:   0%|          | 0.00/420M [00:00<?, ?B/s]"
      ]
     },
     "metadata": {},
     "output_type": "display_data"
    },
    {
     "name": "stderr",
     "output_type": "stream",
     "text": [
      "Some weights of the model checkpoint at bert-base-uncased were not used when initializing BertModel: ['cls.predictions.transform.dense.weight', 'cls.seq_relationship.weight', 'cls.predictions.bias', 'cls.predictions.transform.LayerNorm.weight', 'cls.seq_relationship.bias', 'cls.predictions.transform.dense.bias', 'cls.predictions.decoder.weight', 'cls.predictions.transform.LayerNorm.bias']\n",
      "- This IS expected if you are initializing BertModel from the checkpoint of a model trained on another task or with another architecture (e.g. initializing a BertForSequenceClassification model from a BertForPreTraining model).\n",
      "- This IS NOT expected if you are initializing BertModel from the checkpoint of a model that you expect to be exactly identical (initializing a BertForSequenceClassification model from a BertForSequenceClassification model).\n"
     ]
    },
    {
     "data": {
      "text/plain": [
       "BertModel(\n",
       "  (embeddings): BertEmbeddings(\n",
       "    (word_embeddings): Embedding(30522, 768, padding_idx=0)\n",
       "    (position_embeddings): Embedding(512, 768)\n",
       "    (token_type_embeddings): Embedding(2, 768)\n",
       "    (LayerNorm): LayerNorm((768,), eps=1e-12, elementwise_affine=True)\n",
       "    (dropout): Dropout(p=0.1, inplace=False)\n",
       "  )\n",
       "  (encoder): BertEncoder(\n",
       "    (layer): ModuleList(\n",
       "      (0): BertLayer(\n",
       "        (attention): BertAttention(\n",
       "          (self): BertSelfAttention(\n",
       "            (query): Linear(in_features=768, out_features=768, bias=True)\n",
       "            (key): Linear(in_features=768, out_features=768, bias=True)\n",
       "            (value): Linear(in_features=768, out_features=768, bias=True)\n",
       "            (dropout): Dropout(p=0.1, inplace=False)\n",
       "          )\n",
       "          (output): BertSelfOutput(\n",
       "            (dense): Linear(in_features=768, out_features=768, bias=True)\n",
       "            (LayerNorm): LayerNorm((768,), eps=1e-12, elementwise_affine=True)\n",
       "            (dropout): Dropout(p=0.1, inplace=False)\n",
       "          )\n",
       "        )\n",
       "        (intermediate): BertIntermediate(\n",
       "          (dense): Linear(in_features=768, out_features=3072, bias=True)\n",
       "          (intermediate_act_fn): GELUActivation()\n",
       "        )\n",
       "        (output): BertOutput(\n",
       "          (dense): Linear(in_features=3072, out_features=768, bias=True)\n",
       "          (LayerNorm): LayerNorm((768,), eps=1e-12, elementwise_affine=True)\n",
       "          (dropout): Dropout(p=0.1, inplace=False)\n",
       "        )\n",
       "      )\n",
       "      (1): BertLayer(\n",
       "        (attention): BertAttention(\n",
       "          (self): BertSelfAttention(\n",
       "            (query): Linear(in_features=768, out_features=768, bias=True)\n",
       "            (key): Linear(in_features=768, out_features=768, bias=True)\n",
       "            (value): Linear(in_features=768, out_features=768, bias=True)\n",
       "            (dropout): Dropout(p=0.1, inplace=False)\n",
       "          )\n",
       "          (output): BertSelfOutput(\n",
       "            (dense): Linear(in_features=768, out_features=768, bias=True)\n",
       "            (LayerNorm): LayerNorm((768,), eps=1e-12, elementwise_affine=True)\n",
       "            (dropout): Dropout(p=0.1, inplace=False)\n",
       "          )\n",
       "        )\n",
       "        (intermediate): BertIntermediate(\n",
       "          (dense): Linear(in_features=768, out_features=3072, bias=True)\n",
       "          (intermediate_act_fn): GELUActivation()\n",
       "        )\n",
       "        (output): BertOutput(\n",
       "          (dense): Linear(in_features=3072, out_features=768, bias=True)\n",
       "          (LayerNorm): LayerNorm((768,), eps=1e-12, elementwise_affine=True)\n",
       "          (dropout): Dropout(p=0.1, inplace=False)\n",
       "        )\n",
       "      )\n",
       "      (2): BertLayer(\n",
       "        (attention): BertAttention(\n",
       "          (self): BertSelfAttention(\n",
       "            (query): Linear(in_features=768, out_features=768, bias=True)\n",
       "            (key): Linear(in_features=768, out_features=768, bias=True)\n",
       "            (value): Linear(in_features=768, out_features=768, bias=True)\n",
       "            (dropout): Dropout(p=0.1, inplace=False)\n",
       "          )\n",
       "          (output): BertSelfOutput(\n",
       "            (dense): Linear(in_features=768, out_features=768, bias=True)\n",
       "            (LayerNorm): LayerNorm((768,), eps=1e-12, elementwise_affine=True)\n",
       "            (dropout): Dropout(p=0.1, inplace=False)\n",
       "          )\n",
       "        )\n",
       "        (intermediate): BertIntermediate(\n",
       "          (dense): Linear(in_features=768, out_features=3072, bias=True)\n",
       "          (intermediate_act_fn): GELUActivation()\n",
       "        )\n",
       "        (output): BertOutput(\n",
       "          (dense): Linear(in_features=3072, out_features=768, bias=True)\n",
       "          (LayerNorm): LayerNorm((768,), eps=1e-12, elementwise_affine=True)\n",
       "          (dropout): Dropout(p=0.1, inplace=False)\n",
       "        )\n",
       "      )\n",
       "      (3): BertLayer(\n",
       "        (attention): BertAttention(\n",
       "          (self): BertSelfAttention(\n",
       "            (query): Linear(in_features=768, out_features=768, bias=True)\n",
       "            (key): Linear(in_features=768, out_features=768, bias=True)\n",
       "            (value): Linear(in_features=768, out_features=768, bias=True)\n",
       "            (dropout): Dropout(p=0.1, inplace=False)\n",
       "          )\n",
       "          (output): BertSelfOutput(\n",
       "            (dense): Linear(in_features=768, out_features=768, bias=True)\n",
       "            (LayerNorm): LayerNorm((768,), eps=1e-12, elementwise_affine=True)\n",
       "            (dropout): Dropout(p=0.1, inplace=False)\n",
       "          )\n",
       "        )\n",
       "        (intermediate): BertIntermediate(\n",
       "          (dense): Linear(in_features=768, out_features=3072, bias=True)\n",
       "          (intermediate_act_fn): GELUActivation()\n",
       "        )\n",
       "        (output): BertOutput(\n",
       "          (dense): Linear(in_features=3072, out_features=768, bias=True)\n",
       "          (LayerNorm): LayerNorm((768,), eps=1e-12, elementwise_affine=True)\n",
       "          (dropout): Dropout(p=0.1, inplace=False)\n",
       "        )\n",
       "      )\n",
       "      (4): BertLayer(\n",
       "        (attention): BertAttention(\n",
       "          (self): BertSelfAttention(\n",
       "            (query): Linear(in_features=768, out_features=768, bias=True)\n",
       "            (key): Linear(in_features=768, out_features=768, bias=True)\n",
       "            (value): Linear(in_features=768, out_features=768, bias=True)\n",
       "            (dropout): Dropout(p=0.1, inplace=False)\n",
       "          )\n",
       "          (output): BertSelfOutput(\n",
       "            (dense): Linear(in_features=768, out_features=768, bias=True)\n",
       "            (LayerNorm): LayerNorm((768,), eps=1e-12, elementwise_affine=True)\n",
       "            (dropout): Dropout(p=0.1, inplace=False)\n",
       "          )\n",
       "        )\n",
       "        (intermediate): BertIntermediate(\n",
       "          (dense): Linear(in_features=768, out_features=3072, bias=True)\n",
       "          (intermediate_act_fn): GELUActivation()\n",
       "        )\n",
       "        (output): BertOutput(\n",
       "          (dense): Linear(in_features=3072, out_features=768, bias=True)\n",
       "          (LayerNorm): LayerNorm((768,), eps=1e-12, elementwise_affine=True)\n",
       "          (dropout): Dropout(p=0.1, inplace=False)\n",
       "        )\n",
       "      )\n",
       "      (5): BertLayer(\n",
       "        (attention): BertAttention(\n",
       "          (self): BertSelfAttention(\n",
       "            (query): Linear(in_features=768, out_features=768, bias=True)\n",
       "            (key): Linear(in_features=768, out_features=768, bias=True)\n",
       "            (value): Linear(in_features=768, out_features=768, bias=True)\n",
       "            (dropout): Dropout(p=0.1, inplace=False)\n",
       "          )\n",
       "          (output): BertSelfOutput(\n",
       "            (dense): Linear(in_features=768, out_features=768, bias=True)\n",
       "            (LayerNorm): LayerNorm((768,), eps=1e-12, elementwise_affine=True)\n",
       "            (dropout): Dropout(p=0.1, inplace=False)\n",
       "          )\n",
       "        )\n",
       "        (intermediate): BertIntermediate(\n",
       "          (dense): Linear(in_features=768, out_features=3072, bias=True)\n",
       "          (intermediate_act_fn): GELUActivation()\n",
       "        )\n",
       "        (output): BertOutput(\n",
       "          (dense): Linear(in_features=3072, out_features=768, bias=True)\n",
       "          (LayerNorm): LayerNorm((768,), eps=1e-12, elementwise_affine=True)\n",
       "          (dropout): Dropout(p=0.1, inplace=False)\n",
       "        )\n",
       "      )\n",
       "      (6): BertLayer(\n",
       "        (attention): BertAttention(\n",
       "          (self): BertSelfAttention(\n",
       "            (query): Linear(in_features=768, out_features=768, bias=True)\n",
       "            (key): Linear(in_features=768, out_features=768, bias=True)\n",
       "            (value): Linear(in_features=768, out_features=768, bias=True)\n",
       "            (dropout): Dropout(p=0.1, inplace=False)\n",
       "          )\n",
       "          (output): BertSelfOutput(\n",
       "            (dense): Linear(in_features=768, out_features=768, bias=True)\n",
       "            (LayerNorm): LayerNorm((768,), eps=1e-12, elementwise_affine=True)\n",
       "            (dropout): Dropout(p=0.1, inplace=False)\n",
       "          )\n",
       "        )\n",
       "        (intermediate): BertIntermediate(\n",
       "          (dense): Linear(in_features=768, out_features=3072, bias=True)\n",
       "          (intermediate_act_fn): GELUActivation()\n",
       "        )\n",
       "        (output): BertOutput(\n",
       "          (dense): Linear(in_features=3072, out_features=768, bias=True)\n",
       "          (LayerNorm): LayerNorm((768,), eps=1e-12, elementwise_affine=True)\n",
       "          (dropout): Dropout(p=0.1, inplace=False)\n",
       "        )\n",
       "      )\n",
       "      (7): BertLayer(\n",
       "        (attention): BertAttention(\n",
       "          (self): BertSelfAttention(\n",
       "            (query): Linear(in_features=768, out_features=768, bias=True)\n",
       "            (key): Linear(in_features=768, out_features=768, bias=True)\n",
       "            (value): Linear(in_features=768, out_features=768, bias=True)\n",
       "            (dropout): Dropout(p=0.1, inplace=False)\n",
       "          )\n",
       "          (output): BertSelfOutput(\n",
       "            (dense): Linear(in_features=768, out_features=768, bias=True)\n",
       "            (LayerNorm): LayerNorm((768,), eps=1e-12, elementwise_affine=True)\n",
       "            (dropout): Dropout(p=0.1, inplace=False)\n",
       "          )\n",
       "        )\n",
       "        (intermediate): BertIntermediate(\n",
       "          (dense): Linear(in_features=768, out_features=3072, bias=True)\n",
       "          (intermediate_act_fn): GELUActivation()\n",
       "        )\n",
       "        (output): BertOutput(\n",
       "          (dense): Linear(in_features=3072, out_features=768, bias=True)\n",
       "          (LayerNorm): LayerNorm((768,), eps=1e-12, elementwise_affine=True)\n",
       "          (dropout): Dropout(p=0.1, inplace=False)\n",
       "        )\n",
       "      )\n",
       "      (8): BertLayer(\n",
       "        (attention): BertAttention(\n",
       "          (self): BertSelfAttention(\n",
       "            (query): Linear(in_features=768, out_features=768, bias=True)\n",
       "            (key): Linear(in_features=768, out_features=768, bias=True)\n",
       "            (value): Linear(in_features=768, out_features=768, bias=True)\n",
       "            (dropout): Dropout(p=0.1, inplace=False)\n",
       "          )\n",
       "          (output): BertSelfOutput(\n",
       "            (dense): Linear(in_features=768, out_features=768, bias=True)\n",
       "            (LayerNorm): LayerNorm((768,), eps=1e-12, elementwise_affine=True)\n",
       "            (dropout): Dropout(p=0.1, inplace=False)\n",
       "          )\n",
       "        )\n",
       "        (intermediate): BertIntermediate(\n",
       "          (dense): Linear(in_features=768, out_features=3072, bias=True)\n",
       "          (intermediate_act_fn): GELUActivation()\n",
       "        )\n",
       "        (output): BertOutput(\n",
       "          (dense): Linear(in_features=3072, out_features=768, bias=True)\n",
       "          (LayerNorm): LayerNorm((768,), eps=1e-12, elementwise_affine=True)\n",
       "          (dropout): Dropout(p=0.1, inplace=False)\n",
       "        )\n",
       "      )\n",
       "      (9): BertLayer(\n",
       "        (attention): BertAttention(\n",
       "          (self): BertSelfAttention(\n",
       "            (query): Linear(in_features=768, out_features=768, bias=True)\n",
       "            (key): Linear(in_features=768, out_features=768, bias=True)\n",
       "            (value): Linear(in_features=768, out_features=768, bias=True)\n",
       "            (dropout): Dropout(p=0.1, inplace=False)\n",
       "          )\n",
       "          (output): BertSelfOutput(\n",
       "            (dense): Linear(in_features=768, out_features=768, bias=True)\n",
       "            (LayerNorm): LayerNorm((768,), eps=1e-12, elementwise_affine=True)\n",
       "            (dropout): Dropout(p=0.1, inplace=False)\n",
       "          )\n",
       "        )\n",
       "        (intermediate): BertIntermediate(\n",
       "          (dense): Linear(in_features=768, out_features=3072, bias=True)\n",
       "          (intermediate_act_fn): GELUActivation()\n",
       "        )\n",
       "        (output): BertOutput(\n",
       "          (dense): Linear(in_features=3072, out_features=768, bias=True)\n",
       "          (LayerNorm): LayerNorm((768,), eps=1e-12, elementwise_affine=True)\n",
       "          (dropout): Dropout(p=0.1, inplace=False)\n",
       "        )\n",
       "      )\n",
       "      (10): BertLayer(\n",
       "        (attention): BertAttention(\n",
       "          (self): BertSelfAttention(\n",
       "            (query): Linear(in_features=768, out_features=768, bias=True)\n",
       "            (key): Linear(in_features=768, out_features=768, bias=True)\n",
       "            (value): Linear(in_features=768, out_features=768, bias=True)\n",
       "            (dropout): Dropout(p=0.1, inplace=False)\n",
       "          )\n",
       "          (output): BertSelfOutput(\n",
       "            (dense): Linear(in_features=768, out_features=768, bias=True)\n",
       "            (LayerNorm): LayerNorm((768,), eps=1e-12, elementwise_affine=True)\n",
       "            (dropout): Dropout(p=0.1, inplace=False)\n",
       "          )\n",
       "        )\n",
       "        (intermediate): BertIntermediate(\n",
       "          (dense): Linear(in_features=768, out_features=3072, bias=True)\n",
       "          (intermediate_act_fn): GELUActivation()\n",
       "        )\n",
       "        (output): BertOutput(\n",
       "          (dense): Linear(in_features=3072, out_features=768, bias=True)\n",
       "          (LayerNorm): LayerNorm((768,), eps=1e-12, elementwise_affine=True)\n",
       "          (dropout): Dropout(p=0.1, inplace=False)\n",
       "        )\n",
       "      )\n",
       "      (11): BertLayer(\n",
       "        (attention): BertAttention(\n",
       "          (self): BertSelfAttention(\n",
       "            (query): Linear(in_features=768, out_features=768, bias=True)\n",
       "            (key): Linear(in_features=768, out_features=768, bias=True)\n",
       "            (value): Linear(in_features=768, out_features=768, bias=True)\n",
       "            (dropout): Dropout(p=0.1, inplace=False)\n",
       "          )\n",
       "          (output): BertSelfOutput(\n",
       "            (dense): Linear(in_features=768, out_features=768, bias=True)\n",
       "            (LayerNorm): LayerNorm((768,), eps=1e-12, elementwise_affine=True)\n",
       "            (dropout): Dropout(p=0.1, inplace=False)\n",
       "          )\n",
       "        )\n",
       "        (intermediate): BertIntermediate(\n",
       "          (dense): Linear(in_features=768, out_features=3072, bias=True)\n",
       "          (intermediate_act_fn): GELUActivation()\n",
       "        )\n",
       "        (output): BertOutput(\n",
       "          (dense): Linear(in_features=3072, out_features=768, bias=True)\n",
       "          (LayerNorm): LayerNorm((768,), eps=1e-12, elementwise_affine=True)\n",
       "          (dropout): Dropout(p=0.1, inplace=False)\n",
       "        )\n",
       "      )\n",
       "    )\n",
       "  )\n",
       "  (pooler): BertPooler(\n",
       "    (dense): Linear(in_features=768, out_features=768, bias=True)\n",
       "    (activation): Tanh()\n",
       "  )\n",
       ")"
      ]
     },
     "execution_count": 42,
     "metadata": {},
     "output_type": "execute_result"
    }
   ],
   "source": [
    "# Import BertModel from the library\n",
    "from transformers import BertModel\n",
    "\n",
    "# Create an instance of pretrained BERT\n",
    "bert_model = BertModel.from_pretrained(\"bert-base-uncased\")\n",
    "bert_model"
   ]
  },
  {
   "cell_type": "code",
   "execution_count": null,
   "id": "0f626042",
   "metadata": {
    "id": "0f626042"
   },
   "outputs": [],
   "source": [
    "class BertClassifierModel(nn.Module):\n",
    "    \n",
    "    def __init__(self, d_hidden = 768, bert_variant = \"bert-base-uncased\"):\n",
    "        \"\"\"\n",
    "        We defined 3 components, first a BERT layer\n",
    "        using `BertModel` from transformers library,\n",
    "        a linear layer to map the representation from Bert to the output,\n",
    "        and a softmax layer to map the score to a proability\n",
    "        \n",
    "        Inputs:\n",
    "            - d_hidden (int): Size of the hidden representations of bert\n",
    "            - bert_variant (str): BERT variant to use\n",
    "        \"\"\"\n",
    "        super(BertClassifierModel, self).__init__()\n",
    "        output_dim = 5\n",
    "        self.bert_layer = BertModel.from_pretrained(bert_variant)\n",
    "        self.output_layer = nn.Linear(d_hidden, output_dim)\n",
    "        self.softmax_layer = nn.LogSoftmax()\n",
    "        \n",
    "        \n",
    "    def forward(self, input_ids, attn_mask):\n",
    "        \"\"\"\n",
    "        Forward Passes the inputs through the network and obtains the prediction\n",
    "        \n",
    "        Inputs:\n",
    "            - input_ids (torch.tensor): A torch tensor of shape [batch_size, seq_len]\n",
    "                                        representing the sequence of token ids\n",
    "            - attn_mask (torch.tensor): A torch tensor of shape [batch_size, seq_len]\n",
    "                                        representing the attention mask such that padded tokens are 0 and rest 1\n",
    "                                        \n",
    "        Returns:\n",
    "          - output (torch.tensor): A torch tensor of shape [batch_size,] obtained after passing the input to the network\n",
    "                                        \n",
    "        \"\"\"\n",
    "        bert_output = self.bert_layer(input_ids, attention_mask = attn_mask)\n",
    "        sentence_embedding = bert_output.pooler_output\n",
    "        output = self.softmax_layer(self.output_layer(sentence_embedding))\n",
    "\n",
    "        \n",
    "        return output.squeeze(-1) "
   ]
  },
  {
   "cell_type": "markdown",
   "id": "f38f523b",
   "metadata": {
    "id": "f38f523b"
   },
   "source": [
    "###Training and Evaluating the Model"
   ]
  },
  {
   "cell_type": "code",
   "execution_count": null,
   "id": "u69XqWFjmMIg",
   "metadata": {
    "id": "u69XqWFjmMIg"
   },
   "outputs": [],
   "source": [
    "def evaluate(model, test_dataloader, threshold = 0.5, device = \"cpu\"):\n",
    "    \"\"\"\n",
    "    Evaluates `model` on test dataset\n",
    "\n",
    "    Inputs:\n",
    "        - model (BertClassifierModel): model to be evaluated\n",
    "        - test_dataloader (torch.utils.DataLoader): A dataloader defined over the test dataset\n",
    "        - threshold (float): Probability Threshold above which we consider label as 1 and 0 below\n",
    "\n",
    "    Returns:\n",
    "        - accuracy (float): Average accuracy over the test dataset \n",
    "    \"\"\"\n",
    "\n",
    "    model.to(device)\n",
    "    model = model.eval() # Set model to evaluation model \n",
    "    accuracy = 0\n",
    "    bucket_pred = []\n",
    "    bucket_label = []\n",
    "    # by specifying `torch.no_grad`, it ensures no gradients are calcuated while running the model,\n",
    "    # this makes the computation much more faster\n",
    "    with torch.no_grad():\n",
    "      for test_batch in test_dataloader:\n",
    "        input_ids, attention_mask, labels = test_batch\n",
    "        input_ids = input_ids.to(device)\n",
    "        attention_mask = attention_mask.float().to(device)\n",
    "        labels = labels.float().to(device)\n",
    "\n",
    "        # Step 1: Get probability predictions from the model and store it in `pred_probs`\n",
    "        pred_probs = model(input_ids, attention_mask)\n",
    "\n",
    "        x_ = torch.topk(pred_probs,1).indices\n",
    "        y_ = labels\n",
    "        bucket_pred += x_.detach().tolist()\n",
    "        bucket_label+= y_.detach().tolist()\n",
    "        s = 0\n",
    "        for i in range(len(x_)):\n",
    "          if x_[i] == y_[i]:\n",
    "            s+=1\n",
    "        batch_accuracy = s/len(x_)\n",
    "\n",
    "        accuracy += batch_accuracy\n",
    "\n",
    "      # Divide by number of batches to get average accuracy\n",
    "      accuracy = accuracy / len(test_dataloader)\n",
    "\n",
    "      return accuracy,np.array(bucket_pred).flatten(), np.array(bucket_label).flatten()\n",
    "\n",
    "def train(model, train_dataloader, val_dataloader,\n",
    "          lr = 1e-5, num_epochs = 3,\n",
    "          device = \"cpu\"):\n",
    "    \"\"\"\n",
    "    Runs the training loop. \n",
    "\n",
    "    Inputs:\n",
    "        - model (BertClassifierModel): BERT based classifer model to be trained\n",
    "        - train_dataloader (torch.utils.DataLoader): A dataloader defined over the training dataset\n",
    "        - val_dataloader (torch.utils.DataLoader): A dataloader defined over the validation dataset\n",
    "        - lr (float): The learning rate for the optimizer\n",
    "        - num_epochs (int): Number of epochs to train the model for.\n",
    "        - device (str): Device to train the model on. Can be either 'cuda' (for using gpu) or 'cpu'\n",
    "\n",
    "    Returns:\n",
    "        - best_model (BertClassifierModel): model corresponding to the highest validation accuracy (checked at the end of each epoch)\n",
    "        - best_val_accuracy (float): Validation accuracy corresponding to the best epoch\n",
    "    \"\"\"\n",
    "    epoch_loss = 0\n",
    "    model = model.to(device)\n",
    "    \n",
    "    best_val_accuracy = float(\"-inf\")\n",
    "    best_model = None\n",
    "    \n",
    "    # 1. Define Loss function and optimizer\n",
    "    loss_fn = nn.NLLLoss()\n",
    "    optimizer = Adam(model.parameters(), lr = lr)\n",
    "\n",
    "    epoch_loss_bucket = []\n",
    "    for epoch in range(num_epochs):\n",
    "        model.train() # Since we are evaluating model at the end of every epoch, it is important to bring it back to train mode\n",
    "        epoch_loss = 0\n",
    "        \n",
    "        # 2. Write Training Loop\n",
    "\n",
    "        for train_batch in tqdm.tqdm(train_dataloader):\n",
    "          optimizer.zero_grad()\n",
    "          input_ids, attention_mask, labels = train_batch\n",
    "\n",
    "          input_ids = input_ids.to(device)\n",
    "          labels = labels.type(torch.LongTensor).to(device)\n",
    "          attention_mask = attention_mask.float().to(device)\n",
    "          preds=model(input_ids, attention_mask)\n",
    "\n",
    "          loss = loss_fn(preds, labels)\n",
    "\n",
    "          loss.backward()\n",
    "          optimizer.step()\n",
    "          epoch_loss += loss.item()\n",
    "\n",
    "        \n",
    "        epoch_loss = epoch_loss / len(train_dataloader)\n",
    "        epoch_loss_bucket.append(epoch_loss)\n",
    "        # 3. Evaluate on validation data by calling `evaluate` and store the validation accuracy in `val_accurracy`\n",
    "        val_accuracy = 0\n",
    "\n",
    "        val_accuracy,_,_ = evaluate(model, val_dataloader, device =\"cuda\")\n",
    "        \n",
    "        # Model selection\n",
    "        if val_accuracy > best_val_accuracy:\n",
    "            best_val_accuracy = val_accuracy\n",
    "            best_model = copy.deepcopy(model) # Create a copy of model\n",
    "        \n",
    "        print(f\"Epoch {epoch} completed | Average Training Loss: {epoch_loss} | Validation Accuracy: {val_accuracy}\")\n",
    "    plt.plot(epoch_loss_bucket)\n",
    "    plt.ylabel(\"Loss\")\n",
    "    plt.xlabel(\"Epoch\")\n",
    "    plt.title(\"Training Loss\")\n",
    "    plt.show()\n",
    "    return best_model, best_val_accuracy"
   ]
  },
  {
   "cell_type": "code",
   "execution_count": null,
   "id": "b408695c",
   "metadata": {
    "colab": {
     "base_uri": "https://localhost:8080/",
     "height": 808
    },
    "id": "b408695c",
    "outputId": "a06152a3-0b86-40ef-86b9-bfe2d9fb9ffb"
   },
   "outputs": [
    {
     "name": "stdout",
     "output_type": "stream",
     "text": [
      "Training on 100 data points for sanity check\n"
     ]
    },
    {
     "name": "stderr",
     "output_type": "stream",
     "text": [
      "Some weights of the model checkpoint at bert-base-uncased were not used when initializing BertModel: ['cls.predictions.decoder.weight', 'cls.seq_relationship.weight', 'cls.predictions.transform.LayerNorm.weight', 'cls.seq_relationship.bias', 'cls.predictions.transform.LayerNorm.bias', 'cls.predictions.transform.dense.bias', 'cls.predictions.bias', 'cls.predictions.transform.dense.weight']\n",
      "- This IS expected if you are initializing BertModel from the checkpoint of a model trained on another task or with another architecture (e.g. initializing a BertForSequenceClassification model from a BertForPreTraining model).\n",
      "- This IS NOT expected if you are initializing BertModel from the checkpoint of a model that you expect to be exactly identical (initializing a BertForSequenceClassification model from a BertForSequenceClassification model).\n",
      "  0%|          | 0/25 [00:00<?, ?it/s]/usr/local/lib/python3.7/dist-packages/ipykernel_launcher.py:42: UserWarning: Implicit dimension choice for log_softmax has been deprecated. Change the call to include dim=X as an argument.\n",
      "100%|██████████| 25/25 [00:01<00:00, 12.63it/s]\n"
     ]
    },
    {
     "name": "stdout",
     "output_type": "stream",
     "text": [
      "Epoch 0 completed | Average Training Loss: 1.3403569269180298 | Validation Accuracy: 0.66\n"
     ]
    },
    {
     "name": "stderr",
     "output_type": "stream",
     "text": [
      "100%|██████████| 25/25 [00:01<00:00, 13.26it/s]\n"
     ]
    },
    {
     "name": "stdout",
     "output_type": "stream",
     "text": [
      "Epoch 1 completed | Average Training Loss: 1.0672068047523497 | Validation Accuracy: 0.66\n"
     ]
    },
    {
     "name": "stderr",
     "output_type": "stream",
     "text": [
      "100%|██████████| 25/25 [00:01<00:00, 13.61it/s]\n"
     ]
    },
    {
     "name": "stdout",
     "output_type": "stream",
     "text": [
      "Epoch 2 completed | Average Training Loss: 0.9581402373313904 | Validation Accuracy: 0.66\n"
     ]
    },
    {
     "name": "stderr",
     "output_type": "stream",
     "text": [
      "100%|██████████| 25/25 [00:01<00:00, 13.36it/s]\n"
     ]
    },
    {
     "name": "stdout",
     "output_type": "stream",
     "text": [
      "Epoch 3 completed | Average Training Loss: 0.8789463639259338 | Validation Accuracy: 0.81\n"
     ]
    },
    {
     "name": "stderr",
     "output_type": "stream",
     "text": [
      "100%|██████████| 25/25 [00:01<00:00, 13.21it/s]\n"
     ]
    },
    {
     "name": "stdout",
     "output_type": "stream",
     "text": [
      "Epoch 4 completed | Average Training Loss: 0.7130244576931 | Validation Accuracy: 0.89\n"
     ]
    },
    {
     "name": "stderr",
     "output_type": "stream",
     "text": [
      "100%|██████████| 25/25 [00:01<00:00, 13.27it/s]\n"
     ]
    },
    {
     "name": "stdout",
     "output_type": "stream",
     "text": [
      "Epoch 5 completed | Average Training Loss: 0.5650871336460114 | Validation Accuracy: 0.93\n"
     ]
    },
    {
     "name": "stderr",
     "output_type": "stream",
     "text": [
      "100%|██████████| 25/25 [00:01<00:00, 13.42it/s]\n"
     ]
    },
    {
     "name": "stdout",
     "output_type": "stream",
     "text": [
      "Epoch 6 completed | Average Training Loss: 0.48370532155036927 | Validation Accuracy: 0.91\n"
     ]
    },
    {
     "name": "stderr",
     "output_type": "stream",
     "text": [
      "100%|██████████| 25/25 [00:01<00:00, 13.35it/s]\n"
     ]
    },
    {
     "name": "stdout",
     "output_type": "stream",
     "text": [
      "Epoch 7 completed | Average Training Loss: 0.3797323355078697 | Validation Accuracy: 0.91\n"
     ]
    },
    {
     "name": "stderr",
     "output_type": "stream",
     "text": [
      "100%|██████████| 25/25 [00:01<00:00, 13.43it/s]\n"
     ]
    },
    {
     "name": "stdout",
     "output_type": "stream",
     "text": [
      "Epoch 8 completed | Average Training Loss: 0.3694636386632919 | Validation Accuracy: 0.93\n"
     ]
    },
    {
     "name": "stderr",
     "output_type": "stream",
     "text": [
      "100%|██████████| 25/25 [00:01<00:00, 13.59it/s]\n"
     ]
    },
    {
     "name": "stdout",
     "output_type": "stream",
     "text": [
      "Epoch 9 completed | Average Training Loss: 0.30144013017416 | Validation Accuracy: 0.94\n"
     ]
    },
    {
     "data": {
      "image/png": "[encoded data removed]",
      "text/plain": [
       "<Figure size 432x288 with 1 Axes>"
      ]
     },
     "metadata": {
      "needs_background": "light"
     },
     "output_type": "display_data"
    },
    {
     "name": "stdout",
     "output_type": "stream",
     "text": [
      "Best Validation Accuracy: 0.94\n",
      "Expected Best Validation Accuracy: 0.99\n"
     ]
    }
   ],
   "source": [
    "torch.manual_seed(42)\n",
    "print(\"Training on 100 data points for sanity check\")\n",
    "sample_sentences = train_df[\"title\"].values.tolist()[:100]\n",
    "sample_labels = train_df[\"category\"].values.tolist()[:100]\n",
    "sample_dataset = BertDataset(sample_sentences, sample_labels, seq_len=32)\n",
    "sample_dataloader = DataLoader(sample_dataset, batch_size=4)\n",
    "\n",
    "model = BertClassifierModel()\n",
    "best_model, best_val_acc = train(model, sample_dataloader, sample_dataloader, num_epochs = 10, device = \"cuda\")\n",
    "print(f\"Best Validation Accuracy: {best_val_acc}\")\n",
    "print(f\"Expected Best Validation Accuracy: {0.99}\")"
   ]
  },
  {
   "cell_type": "code",
   "execution_count": null,
   "id": "298b6cf0",
   "metadata": {
    "colab": {
     "base_uri": "https://localhost:8080/",
     "height": 936
    },
    "id": "298b6cf0",
    "outputId": "d9b4bf06-be50-4d52-e0f1-8059f75e709b"
   },
   "outputs": [
    {
     "name": "stderr",
     "output_type": "stream",
     "text": [
      "Some weights of the model checkpoint at bert-base-uncased were not used when initializing BertModel: ['cls.predictions.transform.dense.weight', 'cls.predictions.transform.LayerNorm.weight', 'cls.predictions.transform.dense.bias', 'cls.predictions.bias', 'cls.predictions.transform.LayerNorm.bias', 'cls.seq_relationship.bias', 'cls.seq_relationship.weight', 'cls.predictions.decoder.weight']\n",
      "- This IS expected if you are initializing BertModel from the checkpoint of a model trained on another task or with another architecture (e.g. initializing a BertForSequenceClassification model from a BertForPreTraining model).\n",
      "- This IS NOT expected if you are initializing BertModel from the checkpoint of a model that you expect to be exactly identical (initializing a BertForSequenceClassification model from a BertForSequenceClassification model).\n",
      "  0%|          | 0/77 [00:00<?, ?it/s]/usr/local/lib/python3.7/dist-packages/ipykernel_launcher.py:42: UserWarning: Implicit dimension choice for log_softmax has been deprecated. Change the call to include dim=X as an argument.\n",
      "100%|██████████| 77/77 [00:41<00:00,  1.88it/s]\n"
     ]
    },
    {
     "name": "stdout",
     "output_type": "stream",
     "text": [
      "Epoch 0 completed | Average Training Loss: 0.94353018023751 | Validation Accuracy: 0.7127700617283951\n"
     ]
    },
    {
     "name": "stderr",
     "output_type": "stream",
     "text": [
      "100%|██████████| 77/77 [00:40<00:00,  1.88it/s]\n"
     ]
    },
    {
     "name": "stdout",
     "output_type": "stream",
     "text": [
      "Epoch 1 completed | Average Training Loss: 0.8626256383858718 | Validation Accuracy: 0.7127700617283951\n"
     ]
    },
    {
     "name": "stderr",
     "output_type": "stream",
     "text": [
      "100%|██████████| 77/77 [00:41<00:00,  1.87it/s]\n"
     ]
    },
    {
     "name": "stdout",
     "output_type": "stream",
     "text": [
      "Epoch 2 completed | Average Training Loss: 0.8554300967749063 | Validation Accuracy: 0.7127700617283951\n"
     ]
    },
    {
     "name": "stderr",
     "output_type": "stream",
     "text": [
      "100%|██████████| 77/77 [00:40<00:00,  1.88it/s]\n"
     ]
    },
    {
     "name": "stdout",
     "output_type": "stream",
     "text": [
      "Epoch 3 completed | Average Training Loss: 0.8385733079600644 | Validation Accuracy: 0.7127700617283951\n"
     ]
    },
    {
     "name": "stderr",
     "output_type": "stream",
     "text": [
      "100%|██████████| 77/77 [00:40<00:00,  1.88it/s]\n"
     ]
    },
    {
     "name": "stdout",
     "output_type": "stream",
     "text": [
      "Epoch 4 completed | Average Training Loss: 0.8055943397732525 | Validation Accuracy: 0.7122492283950617\n"
     ]
    },
    {
     "name": "stderr",
     "output_type": "stream",
     "text": [
      "100%|██████████| 77/77 [00:40<00:00,  1.88it/s]\n"
     ]
    },
    {
     "name": "stdout",
     "output_type": "stream",
     "text": [
      "Epoch 5 completed | Average Training Loss: 0.7352253272161855 | Validation Accuracy: 0.703395061728395\n"
     ]
    },
    {
     "name": "stderr",
     "output_type": "stream",
     "text": [
      "100%|██████████| 77/77 [00:40<00:00,  1.88it/s]\n"
     ]
    },
    {
     "name": "stdout",
     "output_type": "stream",
     "text": [
      "Epoch 6 completed | Average Training Loss: 0.6204967680689576 | Validation Accuracy: 0.6729938271604937\n"
     ]
    },
    {
     "name": "stderr",
     "output_type": "stream",
     "text": [
      "100%|██████████| 77/77 [00:40<00:00,  1.88it/s]\n"
     ]
    },
    {
     "name": "stdout",
     "output_type": "stream",
     "text": [
      "Epoch 7 completed | Average Training Loss: 0.6083463325903014 | Validation Accuracy: 0.6114390432098766\n"
     ]
    },
    {
     "name": "stderr",
     "output_type": "stream",
     "text": [
      "100%|██████████| 77/77 [00:40<00:00,  1.88it/s]\n"
     ]
    },
    {
     "name": "stdout",
     "output_type": "stream",
     "text": [
      "Epoch 8 completed | Average Training Loss: 0.49748135329066934 | Validation Accuracy: 0.6170717592592593\n"
     ]
    },
    {
     "name": "stderr",
     "output_type": "stream",
     "text": [
      "100%|██████████| 77/77 [00:40<00:00,  1.88it/s]\n"
     ]
    },
    {
     "name": "stdout",
     "output_type": "stream",
     "text": [
      "Epoch 9 completed | Average Training Loss: 0.41490356314491916 | Validation Accuracy: 0.5337384259259259\n"
     ]
    },
    {
     "name": "stderr",
     "output_type": "stream",
     "text": [
      "100%|██████████| 77/77 [00:40<00:00,  1.88it/s]\n"
     ]
    },
    {
     "name": "stdout",
     "output_type": "stream",
     "text": [
      "Epoch 10 completed | Average Training Loss: 0.35467628476681645 | Validation Accuracy: 0.45271990740740736\n"
     ]
    },
    {
     "name": "stderr",
     "output_type": "stream",
     "text": [
      "100%|██████████| 77/77 [00:40<00:00,  1.88it/s]\n"
     ]
    },
    {
     "name": "stdout",
     "output_type": "stream",
     "text": [
      "Epoch 11 completed | Average Training Loss: 0.36393384790265715 | Validation Accuracy: 0.6118634259259259\n"
     ]
    },
    {
     "name": "stderr",
     "output_type": "stream",
     "text": [
      "100%|██████████| 77/77 [00:40<00:00,  1.88it/s]\n"
     ]
    },
    {
     "name": "stdout",
     "output_type": "stream",
     "text": [
      "Epoch 12 completed | Average Training Loss: 0.2952705087599816 | Validation Accuracy: 0.575733024691358\n"
     ]
    },
    {
     "name": "stderr",
     "output_type": "stream",
     "text": [
      "100%|██████████| 77/77 [00:40<00:00,  1.88it/s]\n"
     ]
    },
    {
     "name": "stdout",
     "output_type": "stream",
     "text": [
      "Epoch 13 completed | Average Training Loss: 0.26937434599771126 | Validation Accuracy: 0.580324074074074\n"
     ]
    },
    {
     "name": "stderr",
     "output_type": "stream",
     "text": [
      "100%|██████████| 77/77 [00:40<00:00,  1.88it/s]\n"
     ]
    },
    {
     "name": "stdout",
     "output_type": "stream",
     "text": [
      "Epoch 14 completed | Average Training Loss: 0.2241001453299027 | Validation Accuracy: 0.600636574074074\n"
     ]
    },
    {
     "data": {
      "image/png": "[encoded data removed]",
      "text/plain": [
       "<Figure size 432x288 with 1 Axes>"
      ]
     },
     "metadata": {
      "needs_background": "light"
     },
     "output_type": "display_data"
    }
   ],
   "source": [
    "model = BertClassifierModel()\n",
    "best_model, best_val_acc = train(model, train_loader, val_loader, num_epochs = 15, device = \"cuda\")"
   ]
  },
  {
   "cell_type": "code",
   "execution_count": null,
   "id": "VWWkD-yQQOWm",
   "metadata": {
    "colab": {
     "base_uri": "https://localhost:8080/",
     "height": 516
    },
    "id": "VWWkD-yQQOWm",
    "outputId": "74f0e705-3159-4fb1-dcaa-28a9c7bc1486"
   },
   "outputs": [
    {
     "name": "stderr",
     "output_type": "stream",
     "text": [
      "  0%|          | 0/77 [00:00<?, ?it/s]/usr/local/lib/python3.7/dist-packages/ipykernel_launcher.py:42: UserWarning: Implicit dimension choice for log_softmax has been deprecated. Change the call to include dim=X as an argument.\n",
      "100%|██████████| 77/77 [00:41<00:00,  1.88it/s]\n"
     ]
    },
    {
     "name": "stdout",
     "output_type": "stream",
     "text": [
      "Epoch 0 completed | Average Training Loss: 0.06845479604316415 | Validation Accuracy: 0.6353973765432099\n"
     ]
    },
    {
     "name": "stderr",
     "output_type": "stream",
     "text": [
      "100%|██████████| 77/77 [00:40<00:00,  1.88it/s]\n"
     ]
    },
    {
     "name": "stdout",
     "output_type": "stream",
     "text": [
      "Epoch 1 completed | Average Training Loss: 0.06006138814105229 | Validation Accuracy: 0.6714313271604938\n"
     ]
    },
    {
     "name": "stderr",
     "output_type": "stream",
     "text": [
      "100%|██████████| 77/77 [00:40<00:00,  1.88it/s]\n"
     ]
    },
    {
     "name": "stdout",
     "output_type": "stream",
     "text": [
      "Epoch 2 completed | Average Training Loss: 0.05623973122882572 | Validation Accuracy: 0.6572723765432099\n"
     ]
    },
    {
     "name": "stderr",
     "output_type": "stream",
     "text": [
      "100%|██████████| 77/77 [00:40<00:00,  1.88it/s]\n"
     ]
    },
    {
     "name": "stdout",
     "output_type": "stream",
     "text": [
      "Epoch 3 completed | Average Training Loss: 0.04839249633784805 | Validation Accuracy: 0.6266782407407407\n"
     ]
    },
    {
     "name": "stderr",
     "output_type": "stream",
     "text": [
      "100%|██████████| 77/77 [00:40<00:00,  1.88it/s]\n"
     ]
    },
    {
     "name": "stdout",
     "output_type": "stream",
     "text": [
      "Epoch 4 completed | Average Training Loss: 0.04846050269756611 | Validation Accuracy: 0.6850694444444444\n"
     ]
    },
    {
     "data": {
      "image/png": "[encoded data removed]",
      "text/plain": [
       "<Figure size 432x288 with 1 Axes>"
      ]
     },
     "metadata": {
      "needs_background": "light"
     },
     "output_type": "display_data"
    }
   ],
   "source": [
    "#We trained same model for five more epochs\n",
    "best_model, best_val_acc = train(model, train_loader, val_loader, num_epochs = 5, device = \"cuda\")"
   ]
  },
  {
   "cell_type": "code",
   "execution_count": null,
   "id": "AdsCwHInAlmj",
   "metadata": {
    "colab": {
     "base_uri": "https://localhost:8080/"
    },
    "id": "AdsCwHInAlmj",
    "outputId": "28b5bc82-96d3-499e-cb05-d8f5eae218a3"
   },
   "outputs": [
    {
     "name": "stdout",
     "output_type": "stream",
     "text": [
      "0.699001736111111\n"
     ]
    }
   ],
   "source": [
    "test_accuracy,bucket_pred,bucket_label = evaluate(best_model, test_loader, threshold = 0.5, device = \"cuda\")\n",
    "print(test_accuracy)"
   ]
  },
  {
   "cell_type": "code",
   "execution_count": null,
   "id": "BAEKxAtwrdm2",
   "metadata": {
    "colab": {
     "base_uri": "https://localhost:8080/"
    },
    "id": "BAEKxAtwrdm2",
    "outputId": "a8f7e8e6-46f5-46c4-ff1b-c0f380eb3001"
   },
   "outputs": [
    {
     "name": "stdout",
     "output_type": "stream",
     "text": [
      "              precision    recall  f1-score   support\n",
      "\n",
      "         0.0       0.72      0.94      0.81      5448\n",
      "         1.0       0.30      0.08      0.13      1548\n",
      "         2.0       0.06      0.01      0.02       426\n",
      "         3.0       0.06      0.01      0.02       135\n",
      "         4.0       0.05      0.01      0.02       100\n",
      "\n",
      "    accuracy                           0.68      7657\n",
      "   macro avg       0.24      0.21      0.20      7657\n",
      "weighted avg       0.58      0.68      0.61      7657\n",
      "\n"
     ]
    }
   ],
   "source": [
    "from sklearn.metrics import classification_report\n",
    "print(classification_report(bucket_label, bucket_pred))"
   ]
  },
  {
   "cell_type": "markdown",
   "id": "axsKKcnXPbAL",
   "metadata": {
    "id": "axsKKcnXPbAL"
   },
   "source": [
    "Model has a moderate performance with poor recall and precision on minority classes. High accuracy towards the majority class indicate that model has not generalised effectively and remains biased towards majority class. "
   ]
  },
  {
   "cell_type": "code",
   "execution_count": null,
   "id": "h9mFyPRCTAVI",
   "metadata": {
    "colab": {
     "base_uri": "https://localhost:8080/",
     "height": 307
    },
    "id": "h9mFyPRCTAVI",
    "outputId": "07019715-0e34-4a20-efeb-9aaa9f7babd8"
   },
   "outputs": [
    {
     "data": {
      "image/png": "[encoded data removed]",
      "text/plain": [
       "<Figure size 432x288 with 2 Axes>"
      ]
     },
     "metadata": {
      "needs_background": "light"
     },
     "output_type": "display_data"
    }
   ],
   "source": [
    "from sklearn.metrics import confusion_matrix\n",
    "cm = confusion_matrix(bucket_label, bucket_pred)\n",
    "cm_df = pd.DataFrame(cm,\n",
    "                     index = ['0','1','2','3','4'], \n",
    "                     columns = ['0','1','2','3','4'])\n",
    "#Plotting the confusion matrix\n",
    "plt.figure(figsize=(6,4))\n",
    "sns.heatmap(cm_df, annot=True, annot_kws={\"size\": 18}, fmt='.0f')\n",
    "plt.title('Confusion Matrix', fontsize = 18)\n",
    "plt.ylabel('Actual Values', fontsize = 18)\n",
    "plt.xlabel('Predicted Values', fontsize = 18)\n",
    "plt.show()"
   ]
  },
  {
   "cell_type": "markdown",
   "id": "ArHDAvNVzam2",
   "metadata": {
    "id": "ArHDAvNVzam2"
   },
   "source": [
    "# Method 2 : Handling Large Sequence Length"
   ]
  },
  {
   "cell_type": "code",
   "execution_count": 140,
   "id": "rdEumpvGpXTD",
   "metadata": {
    "colab": {
     "base_uri": "https://localhost:8080/"
    },
    "id": "rdEumpvGpXTD",
    "outputId": "1585e626-83af-4ab0-a0bf-ea5fdeb57e0f"
   },
   "outputs": [
    {
     "name": "stderr",
     "output_type": "stream",
     "text": [
      "/usr/local/lib/python3.7/dist-packages/ipykernel_launcher.py:1: SettingWithCopyWarning: \n",
      "A value is trying to be set on a copy of a slice from a DataFrame.\n",
      "Try using .loc[row_indexer,col_indexer] = value instead\n",
      "\n",
      "See the caveats in the documentation: https://pandas.pydata.org/pandas-docs/stable/user_guide/indexing.html#returning-a-view-versus-a-copy\n",
      "  \"\"\"Entry point for launching an IPython kernel.\n"
     ]
    }
   ],
   "source": [
    "#Concatenating title and body columns for the whole dataset\n",
    "df_filtered[\"combined\"] = df_filtered[\"title\"] +\" \"+ df_filtered[\"body\"]"
   ]
  },
  {
   "cell_type": "code",
   "execution_count": 141,
   "id": "lCMvyM7m1CPi",
   "metadata": {
    "colab": {
     "base_uri": "https://localhost:8080/",
     "height": 285
    },
    "id": "lCMvyM7m1CPi",
    "outputId": "20e699f7-c755-42d6-d46b-2be82f454f0d"
   },
   "outputs": [
    {
     "data": {
      "text/html": [
       "\n",
       "  <div id=\"df-4e20a26b-3d5a-41bf-8dde-e1fffe26d750\">\n",
       "    <div class=\"colab-df-container\">\n",
       "      <div>\n",
       "<style scoped>\n",
       "    .dataframe tbody tr th:only-of-type {\n",
       "        vertical-align: middle;\n",
       "    }\n",
       "\n",
       "    .dataframe tbody tr th {\n",
       "        vertical-align: top;\n",
       "    }\n",
       "\n",
       "    .dataframe thead th {\n",
       "        text-align: right;\n",
       "    }\n",
       "</style>\n",
       "<table border=\"1\" class=\"dataframe\">\n",
       "  <thead>\n",
       "    <tr style=\"text-align: right;\">\n",
       "      <th></th>\n",
       "      <th>title</th>\n",
       "      <th>body</th>\n",
       "      <th>category</th>\n",
       "      <th>combined</th>\n",
       "      <th>index</th>\n",
       "    </tr>\n",
       "  </thead>\n",
       "  <tbody>\n",
       "    <tr>\n",
       "      <th>0</th>\n",
       "      <td></td>\n",
       "      <td>hi since recruiter lead permission approve req...</td>\n",
       "      <td>0</td>\n",
       "      <td>hi since recruiter lead permission approve r...</td>\n",
       "      <td>0</td>\n",
       "    </tr>\n",
       "    <tr>\n",
       "      <th>1</th>\n",
       "      <td>connection with icon</td>\n",
       "      <td>icon dear please setup icon per icon engineers...</td>\n",
       "      <td>2</td>\n",
       "      <td>connection with icon icon dear please setup ic...</td>\n",
       "      <td>1</td>\n",
       "    </tr>\n",
       "    <tr>\n",
       "      <th>2</th>\n",
       "      <td>work experience user</td>\n",
       "      <td>work experience user hi work experience studen...</td>\n",
       "      <td>1</td>\n",
       "      <td>work experience user work experience user hi w...</td>\n",
       "      <td>2</td>\n",
       "    </tr>\n",
       "    <tr>\n",
       "      <th>3</th>\n",
       "      <td>requesting for meeting</td>\n",
       "      <td>requesting meeting hi please help follow equip...</td>\n",
       "      <td>1</td>\n",
       "      <td>requesting for meeting requesting meeting hi p...</td>\n",
       "      <td>3</td>\n",
       "    </tr>\n",
       "    <tr>\n",
       "      <th>4</th>\n",
       "      <td>reset passwords for external accounts</td>\n",
       "      <td>re expire days hi ask help update passwords co...</td>\n",
       "      <td>0</td>\n",
       "      <td>reset passwords for external accounts re expir...</td>\n",
       "      <td>4</td>\n",
       "    </tr>\n",
       "  </tbody>\n",
       "</table>\n",
       "</div>\n",
       "      <button class=\"colab-df-convert\" onclick=\"convertToInteractive('df-4e20a26b-3d5a-41bf-8dde-e1fffe26d750')\"\n",
       "              title=\"Convert this dataframe to an interactive table.\"\n",
       "              style=\"display:none;\">\n",
       "        \n",
       "  <svg xmlns=\"http://www.w3.org/2000/svg\" height=\"24px\"viewBox=\"0 0 24 24\"\n",
       "       width=\"24px\">\n",
       "    <path d=\"M0 0h24v24H0V0z\" fill=\"none\"/>\n",
       "    <path d=\"M18.56 5.44l.94 2.06.94-2.06 2.06-.94-2.06-.94-.94-2.06-.94 2.06-2.06.94zm-11 1L8.5 8.5l.94-2.06 2.06-.94-2.06-.94L8.5 2.5l-.94 2.06-2.06.94zm10 10l.94 2.06.94-2.06 2.06-.94-2.06-.94-.94-2.06-.94 2.06-2.06.94z\"/><path d=\"M17.41 7.96l-1.37-1.37c-.4-.4-.92-.59-1.43-.59-.52 0-1.04.2-1.43.59L10.3 9.45l-7.72 7.72c-.78.78-.78 2.05 0 2.83L4 21.41c.39.39.9.59 1.41.59.51 0 1.02-.2 1.41-.59l7.78-7.78 2.81-2.81c.8-.78.8-2.07 0-2.86zM5.41 20L4 18.59l7.72-7.72 1.47 1.35L5.41 20z\"/>\n",
       "  </svg>\n",
       "      </button>\n",
       "      \n",
       "  <style>\n",
       "    .colab-df-container {\n",
       "      display:flex;\n",
       "      flex-wrap:wrap;\n",
       "      gap: 12px;\n",
       "    }\n",
       "\n",
       "    .colab-df-convert {\n",
       "      background-color: #E8F0FE;\n",
       "      border: none;\n",
       "      border-radius: 50%;\n",
       "      cursor: pointer;\n",
       "      display: none;\n",
       "      fill: #1967D2;\n",
       "      height: 32px;\n",
       "      padding: 0 0 0 0;\n",
       "      width: 32px;\n",
       "    }\n",
       "\n",
       "    .colab-df-convert:hover {\n",
       "      background-color: #E2EBFA;\n",
       "      box-shadow: 0px 1px 2px rgba(60, 64, 67, 0.3), 0px 1px 3px 1px rgba(60, 64, 67, 0.15);\n",
       "      fill: #174EA6;\n",
       "    }\n",
       "\n",
       "    [theme=dark] .colab-df-convert {\n",
       "      background-color: #3B4455;\n",
       "      fill: #D2E3FC;\n",
       "    }\n",
       "\n",
       "    [theme=dark] .colab-df-convert:hover {\n",
       "      background-color: #434B5C;\n",
       "      box-shadow: 0px 1px 3px 1px rgba(0, 0, 0, 0.15);\n",
       "      filter: drop-shadow(0px 1px 2px rgba(0, 0, 0, 0.3));\n",
       "      fill: #FFFFFF;\n",
       "    }\n",
       "  </style>\n",
       "\n",
       "      <script>\n",
       "        const buttonEl =\n",
       "          document.querySelector('#df-4e20a26b-3d5a-41bf-8dde-e1fffe26d750 button.colab-df-convert');\n",
       "        buttonEl.style.display =\n",
       "          google.colab.kernel.accessAllowed ? 'block' : 'none';\n",
       "\n",
       "        async function convertToInteractive(key) {\n",
       "          const element = document.querySelector('#df-4e20a26b-3d5a-41bf-8dde-e1fffe26d750');\n",
       "          const dataTable =\n",
       "            await google.colab.kernel.invokeFunction('convertToInteractive',\n",
       "                                                     [key], {});\n",
       "          if (!dataTable) return;\n",
       "\n",
       "          const docLinkHtml = 'Like what you see? Visit the ' +\n",
       "            '<a target=\"_blank\" href=https://colab.research.google.com/notebooks/data_table.ipynb>data table notebook</a>'\n",
       "            + ' to learn more about interactive tables.';\n",
       "          element.innerHTML = '';\n",
       "          dataTable['output_type'] = 'display_data';\n",
       "          await google.colab.output.renderOutput(dataTable, element);\n",
       "          const docLink = document.createElement('div');\n",
       "          docLink.innerHTML = docLinkHtml;\n",
       "          element.appendChild(docLink);\n",
       "        }\n",
       "      </script>\n",
       "    </div>\n",
       "  </div>\n",
       "  "
      ],
      "text/plain": [
       "                                   title  \\\n",
       "0                                          \n",
       "1                   connection with icon   \n",
       "2                   work experience user   \n",
       "3                 requesting for meeting   \n",
       "4  reset passwords for external accounts   \n",
       "\n",
       "                                                body  category  \\\n",
       "0  hi since recruiter lead permission approve req...         0   \n",
       "1  icon dear please setup icon per icon engineers...         2   \n",
       "2  work experience user hi work experience studen...         1   \n",
       "3  requesting meeting hi please help follow equip...         1   \n",
       "4  re expire days hi ask help update passwords co...         0   \n",
       "\n",
       "                                            combined  index  \n",
       "0    hi since recruiter lead permission approve r...      0  \n",
       "1  connection with icon icon dear please setup ic...      1  \n",
       "2  work experience user work experience user hi w...      2  \n",
       "3  requesting for meeting requesting meeting hi p...      3  \n",
       "4  reset passwords for external accounts re expir...      4  "
      ]
     },
     "execution_count": 141,
     "metadata": {},
     "output_type": "execute_result"
    }
   ],
   "source": [
    "df_filtered.head()"
   ]
  },
  {
   "cell_type": "code",
   "execution_count": 130,
   "id": "ugaJw4BxpkLP",
   "metadata": {
    "colab": {
     "base_uri": "https://localhost:8080/"
    },
    "id": "ugaJw4BxpkLP",
    "outputId": "2b84995a-276a-481e-b87b-568a0749bb41"
   },
   "outputs": [
    {
     "name": "stderr",
     "output_type": "stream",
     "text": [
      "/usr/local/lib/python3.7/dist-packages/ipykernel_launcher.py:1: SettingWithCopyWarning: \n",
      "A value is trying to be set on a copy of a slice from a DataFrame.\n",
      "Try using .loc[row_indexer,col_indexer] = value instead\n",
      "\n",
      "See the caveats in the documentation: https://pandas.pydata.org/pandas-docs/stable/user_guide/indexing.html#returning-a-view-versus-a-copy\n",
      "  \"\"\"Entry point for launching an IPython kernel.\n"
     ]
    }
   ],
   "source": [
    "#Creating explicit index column which will be useful during pooling operation\n",
    "df_filtered[\"index\"] = list(df_filtered.index)"
   ]
  },
  {
   "cell_type": "code",
   "execution_count": 143,
   "id": "h0oSVPZPvhQg",
   "metadata": {
    "id": "h0oSVPZPvhQg"
   },
   "outputs": [],
   "source": [
    "df_raw = df_filtered[[\"index\", \"combined\", \"category\"]]"
   ]
  },
  {
   "cell_type": "code",
   "execution_count": 164,
   "id": "KKscFtkC6m-P",
   "metadata": {
    "id": "KKscFtkC6m-P"
   },
   "outputs": [],
   "source": [
    "#Dividing dataset into two dataframes based on sequence length. \n",
    "#This is done to segregate large sentences which will be divided into smaller chunks. \n",
    "df_large_seq = df_filtered.loc[(df_filtered.combined.apply(len) > seq_len)]\n",
    "df_small_seq = df_filtered.loc[(df_filtered.combined.apply(len) <= seq_len)]"
   ]
  },
  {
   "cell_type": "code",
   "execution_count": 165,
   "id": "hsCZl7rjsC_7",
   "metadata": {
    "id": "hsCZl7rjsC_7"
   },
   "outputs": [],
   "source": [
    "#Function to break a sentence into chunks\n",
    "def break_sentence(s, seq_len = 150):\n",
    "  '''\n",
    "  input:\n",
    "    s: input sequence to be broken into chunks\n",
    "  return:\n",
    "    res: list of chunks\n",
    "  '''\n",
    "  n_chunks = len(s) // seq_len #Number of chunks\n",
    "  res = []\n",
    "  for i in range(n_chunks):\n",
    "    res.append(s[i*seq_len:(i+1)*seq_len])\n",
    "  res.append(s[n_chunks*seq_len:])\n",
    "  return res"
   ]
  },
  {
   "cell_type": "code",
   "execution_count": 166,
   "id": "nU4RcYgNp0Yu",
   "metadata": {
    "colab": {
     "base_uri": "https://localhost:8080/"
    },
    "id": "nU4RcYgNp0Yu",
    "outputId": "5d830e77-3ac0-4c13-a1e1-bc69feb16c41"
   },
   "outputs": [
    {
     "name": "stderr",
     "output_type": "stream",
     "text": [
      "100%|██████████| 27639/27639 [00:10<00:00, 2696.61it/s]\n"
     ]
    }
   ],
   "source": [
    "#Breaking sentences into chunks and mapping them with associated categories of original sentence\n",
    "seq_len = 150\n",
    "df_raw_temp = df_large_seq.copy()\n",
    "id_list = []\n",
    "label_list = []\n",
    "s_list = []\n",
    "for i in tqdm.tqdm(range(len(df_large_seq))):\n",
    "  sentence = df_large_seq.iloc[i,:][\"combined\"]\n",
    "  id = df_large_seq.iloc[i,:][\"index\"]\n",
    "  label = df_large_seq.iloc[i,:][\"category\"]\n",
    "  s = break_sentence(sentence)\n",
    "  idx = [id] * len(s)\n",
    "  labelx = [label] * len(s)\n",
    "  id_list+=idx\n",
    "  label_list+=labelx\n",
    "  s_list+=s\n",
    "df_temp = pd.DataFrame(zip(id_list, s_list,label_list), columns = df_raw.columns)"
   ]
  },
  {
   "cell_type": "code",
   "execution_count": 175,
   "id": "wfyZo_Un8ZO-",
   "metadata": {
    "colab": {
     "base_uri": "https://localhost:8080/",
     "height": 265
    },
    "id": "wfyZo_Un8ZO-",
    "outputId": "2eef6817-5c1a-481d-878f-c45fcbdf89de"
   },
   "outputs": [
    {
     "data": {
      "image/png": "[encoded data removed]",
      "text/plain": [
       "<Figure size 432x288 with 1 Axes>"
      ]
     },
     "metadata": {
      "needs_background": "light"
     },
     "output_type": "display_data"
    }
   ],
   "source": [
    "#Verifying if all chunks are of length less then 150\n",
    "plt.hist(df_temp[\"combined\"].apply(len))\n",
    "plt.show()"
   ]
  },
  {
   "cell_type": "code",
   "execution_count": 168,
   "id": "eFzxxMot7laT",
   "metadata": {
    "id": "eFzxxMot7laT"
   },
   "outputs": [],
   "source": [
    "#Formatting df_small\n",
    "df_small_seq = df_small_seq[[\"index\", \"combined\", \"category\"]]"
   ]
  },
  {
   "cell_type": "code",
   "execution_count": 169,
   "id": "kGhIgSZbELnC",
   "metadata": {
    "id": "kGhIgSZbELnC"
   },
   "outputs": [],
   "source": [
    "#Creating consolidated dataframe \n",
    "df_final = df_small_seq.append(df_temp).reset_index(drop = True)"
   ]
  },
  {
   "cell_type": "code",
   "execution_count": 171,
   "id": "DM7gbILN0VOM",
   "metadata": {
    "id": "DM7gbILN0VOM"
   },
   "outputs": [],
   "source": [
    "#BertSentence2Vec model is used get embeddings\n",
    "class BertSentence2Vec(nn.Module):\n",
    "    \n",
    "    def __init__(self, bert_variant = \"bert-base-uncased\"):\n",
    "        \"\"\"\n",
    "        Define the architecture of Bert Para2Vec\n",
    "        \n",
    "        Inputs:\n",
    "            - bert_variant (str): BERT variant to use\n",
    "        \"\"\"\n",
    "        super(BertSentence2Vec, self).__init__()\n",
    "        self.bert_layer = BertModel.from_pretrained(bert_variant)\n",
    "        \n",
    "        # YOUR CODE HERE\n",
    "        #raise NotImplementedError()\n",
    "        \n",
    "    def forward(self, input_ids, attn_mask):\n",
    "        \"\"\"\n",
    "        Forward Passes the inputs through the network and obtains the prediction\n",
    "        \n",
    "        Inputs:\n",
    "            - input_ids (torch.tensor): A torch tensor of shape [batch_size, seq_len]\n",
    "                                        representing the sequence of token ids\n",
    "            - attn_mask (torch.tensor): A torch tensor of shape [batch_size, seq_len]\n",
    "                                        representing the attention mask such that padded tokens are 0 and rest 1\n",
    "                                        \n",
    "        Returns:\n",
    "          - output (torch.tensor): A torch tensor of shape [batch_size,] obtained after passing the input to the network\n",
    "                                        \n",
    "        \"\"\"\n",
    "        bert_output = self.bert_layer(input_ids, attention_mask = attn_mask)\n",
    "        #Getting the embeddings\n",
    "        sentence_embedding = bert_output.pooler_output        \n",
    "        \n",
    "        return sentence_embedding "
   ]
  },
  {
   "cell_type": "code",
   "execution_count": 173,
   "id": "wM0mkOYi1k99",
   "metadata": {
    "colab": {
     "base_uri": "https://localhost:8080/"
    },
    "id": "wM0mkOYi1k99",
    "outputId": "8e74fd93-4ea6-4078-a723-e1438276884a"
   },
   "outputs": [
    {
     "name": "stderr",
     "output_type": "stream",
     "text": [
      "Some weights of the model checkpoint at bert-base-uncased were not used when initializing BertModel: ['cls.predictions.transform.dense.weight', 'cls.seq_relationship.weight', 'cls.predictions.bias', 'cls.predictions.transform.LayerNorm.weight', 'cls.seq_relationship.bias', 'cls.predictions.transform.dense.bias', 'cls.predictions.decoder.weight', 'cls.predictions.transform.LayerNorm.bias']\n",
      "- This IS expected if you are initializing BertModel from the checkpoint of a model trained on another task or with another architecture (e.g. initializing a BertForSequenceClassification model from a BertForPreTraining model).\n",
      "- This IS NOT expected if you are initializing BertModel from the checkpoint of a model that you expect to be exactly identical (initializing a BertForSequenceClassification model from a BertForSequenceClassification model).\n"
     ]
    }
   ],
   "source": [
    "#Creating dataloader and instantiating the model\n",
    "torch.manual_seed(42)\n",
    "sentences = df_final[\"combined\"].values.tolist()\n",
    "labels = df_final[\"category\"].values.tolist()\n",
    "dataset = BertDataset(sentences, labels, seq_len=150)\n",
    "dataloader = DataLoader(dataset, batch_size=32)\n",
    "\n",
    "model = BertSentence2Vec()"
   ]
  },
  {
   "cell_type": "code",
   "execution_count": 174,
   "id": "MCK5Wo-C18yJ",
   "metadata": {
    "colab": {
     "base_uri": "https://localhost:8080/"
    },
    "id": "MCK5Wo-C18yJ",
    "outputId": "f9a46657-f18f-4fce-936c-5d55a460d858"
   },
   "outputs": [
    {
     "name": "stderr",
     "output_type": "stream",
     "text": [
      "100%|██████████| 3610/3610 [14:01<00:00,  4.29it/s]\n"
     ]
    }
   ],
   "source": [
    "#Generating embeddings\n",
    "device = \"cuda\"\n",
    "model = model.to(device)\n",
    "with torch.no_grad():\n",
    "  dff = pd.DataFrame(columns = np.arange(0,768,1))\n",
    "  for batch in tqdm.tqdm(dataloader):\n",
    "    input_ids, attention_mask, labels = batch\n",
    "    input_ids = input_ids.to(device)\n",
    "    attention_mask = attention_mask.float().to(device)\n",
    "    labels = labels.float().to(device)\n",
    "\n",
    "    embedding = model(input_ids, attention_mask)\n",
    "    df_vec = pd.DataFrame(embedding.cpu().numpy())\n",
    "    dff = dff.append(df_vec)"
   ]
  },
  {
   "cell_type": "code",
   "execution_count": 76,
   "id": "7MUVQTw5IFHL",
   "metadata": {
    "id": "7MUVQTw5IFHL"
   },
   "outputs": [],
   "source": [
    "#MLP Classifier\n",
    "class classifier(nn.Module):\n",
    "    \n",
    "    def __init__(self, input_dim = 768):\n",
    "        \"\"\"\n",
    "        Define the architecture of classifier.\n",
    "        \"\"\"\n",
    "        super(classifier, self).__init__()\n",
    "        output_dim = 5\n",
    "        self.input_layer = nn.Linear(input_dim, 256)\n",
    "        self.layer1 = nn.Linear(256, 128)\n",
    "        self.dropout1 = nn.Dropout(0.25)\n",
    "        self.layer2 = nn.Linear(128, 64)\n",
    "        self.dropout2 = nn.Dropout(0.25)\n",
    "        self.layer3 = nn.Linear(64, output_dim)\n",
    "        self.dropout3 = nn.Dropout(0.25)\n",
    "        self.softmax_layer = nn.LogSoftmax()\n",
    "        \n",
    "\n",
    "    def forward(self, x):\n",
    "        \"\"\"\n",
    "        Forward Passes the inputs through the network and obtains the prediction\n",
    "        \n",
    "        Inputs:\n",
    "            - x Embedding\n",
    "                                        \n",
    "        Returns:\n",
    "          - output (torch.tensor): A torch tensor of shape [batch_size,] obtained after passing the input to the network\n",
    "                                        \n",
    "        \"\"\"\n",
    "        layer1 = self.dropout1(self.layer1(self.input_layer(x)))\n",
    "        layer2 = self.dropout2(self.layer2(layer1))\n",
    "        layer3 = self.dropout3(self.layer3(layer2))\n",
    "        output = self.softmax_layer(layer3)\n",
    "        \n",
    "        return output.squeeze(-1) "
   ]
  },
  {
   "cell_type": "code",
   "execution_count": 176,
   "id": "VMjoPdpJKLXW",
   "metadata": {
    "id": "VMjoPdpJKLXW"
   },
   "outputs": [],
   "source": [
    "#Mapping embeddings to category and index\n",
    "dff[\"category\"] = list(df_final[\"category\"])\n",
    "dff[\"index\"] = list(df_final[\"index\"])\n",
    "\n",
    "\n",
    "f_dict = {}\n",
    "for i in range(768):\n",
    "  f_dict[i] = 'sum'\n",
    "f_dict['category'] = 'max'"
   ]
  },
  {
   "cell_type": "code",
   "execution_count": 178,
   "id": "BvdCyUEnMj9d",
   "metadata": {
    "id": "BvdCyUEnMj9d"
   },
   "outputs": [],
   "source": [
    "#Aggregating/Pooling the embeddings\n",
    "final_df = dff.groupby(\"index\").agg(f_dict)"
   ]
  },
  {
   "cell_type": "code",
   "execution_count": 182,
   "id": "OKI2SGR9P81O",
   "metadata": {
    "colab": {
     "base_uri": "https://localhost:8080/",
     "height": 331
    },
    "id": "OKI2SGR9P81O",
    "outputId": "bcd850a7-d55e-430a-b78f-5eae09794d66"
   },
   "outputs": [
    {
     "data": {
      "text/html": [
       "\n",
       "  <div id=\"df-2969331a-383e-4bd6-843e-b6d8e128fd2b\">\n",
       "    <div class=\"colab-df-container\">\n",
       "      <div>\n",
       "<style scoped>\n",
       "    .dataframe tbody tr th:only-of-type {\n",
       "        vertical-align: middle;\n",
       "    }\n",
       "\n",
       "    .dataframe tbody tr th {\n",
       "        vertical-align: top;\n",
       "    }\n",
       "\n",
       "    .dataframe thead th {\n",
       "        text-align: right;\n",
       "    }\n",
       "</style>\n",
       "<table border=\"1\" class=\"dataframe\">\n",
       "  <thead>\n",
       "    <tr style=\"text-align: right;\">\n",
       "      <th></th>\n",
       "      <th>0</th>\n",
       "      <th>1</th>\n",
       "      <th>2</th>\n",
       "      <th>3</th>\n",
       "      <th>4</th>\n",
       "      <th>5</th>\n",
       "      <th>6</th>\n",
       "      <th>7</th>\n",
       "      <th>8</th>\n",
       "      <th>9</th>\n",
       "      <th>...</th>\n",
       "      <th>759</th>\n",
       "      <th>760</th>\n",
       "      <th>761</th>\n",
       "      <th>762</th>\n",
       "      <th>763</th>\n",
       "      <th>764</th>\n",
       "      <th>765</th>\n",
       "      <th>766</th>\n",
       "      <th>767</th>\n",
       "      <th>category</th>\n",
       "    </tr>\n",
       "    <tr>\n",
       "      <th>index</th>\n",
       "      <th></th>\n",
       "      <th></th>\n",
       "      <th></th>\n",
       "      <th></th>\n",
       "      <th></th>\n",
       "      <th></th>\n",
       "      <th></th>\n",
       "      <th></th>\n",
       "      <th></th>\n",
       "      <th></th>\n",
       "      <th></th>\n",
       "      <th></th>\n",
       "      <th></th>\n",
       "      <th></th>\n",
       "      <th></th>\n",
       "      <th></th>\n",
       "      <th></th>\n",
       "      <th></th>\n",
       "      <th></th>\n",
       "      <th></th>\n",
       "      <th></th>\n",
       "    </tr>\n",
       "  </thead>\n",
       "  <tbody>\n",
       "    <tr>\n",
       "      <th>0</th>\n",
       "      <td>-0.808581</td>\n",
       "      <td>-0.521799</td>\n",
       "      <td>-0.933632</td>\n",
       "      <td>0.753968</td>\n",
       "      <td>0.691683</td>\n",
       "      <td>-0.257352</td>\n",
       "      <td>0.825897</td>\n",
       "      <td>0.324172</td>\n",
       "      <td>-0.728082</td>\n",
       "      <td>-0.999970</td>\n",
       "      <td>...</td>\n",
       "      <td>-0.052831</td>\n",
       "      <td>0.955739</td>\n",
       "      <td>0.789242</td>\n",
       "      <td>-0.159437</td>\n",
       "      <td>-0.182844</td>\n",
       "      <td>0.547712</td>\n",
       "      <td>-0.864201</td>\n",
       "      <td>-0.621436</td>\n",
       "      <td>0.789245</td>\n",
       "      <td>0</td>\n",
       "    </tr>\n",
       "    <tr>\n",
       "      <th>1</th>\n",
       "      <td>-0.896474</td>\n",
       "      <td>-0.453156</td>\n",
       "      <td>-0.705106</td>\n",
       "      <td>0.795478</td>\n",
       "      <td>0.428873</td>\n",
       "      <td>-0.106675</td>\n",
       "      <td>0.901052</td>\n",
       "      <td>0.255664</td>\n",
       "      <td>-0.593922</td>\n",
       "      <td>-0.999989</td>\n",
       "      <td>...</td>\n",
       "      <td>-0.086375</td>\n",
       "      <td>0.909427</td>\n",
       "      <td>0.902675</td>\n",
       "      <td>0.133198</td>\n",
       "      <td>0.415424</td>\n",
       "      <td>0.509272</td>\n",
       "      <td>-0.517750</td>\n",
       "      <td>-0.682799</td>\n",
       "      <td>0.905028</td>\n",
       "      <td>2</td>\n",
       "    </tr>\n",
       "    <tr>\n",
       "      <th>2</th>\n",
       "      <td>-0.812739</td>\n",
       "      <td>-0.283650</td>\n",
       "      <td>-0.449288</td>\n",
       "      <td>0.676751</td>\n",
       "      <td>0.008511</td>\n",
       "      <td>-0.030799</td>\n",
       "      <td>0.858958</td>\n",
       "      <td>0.182227</td>\n",
       "      <td>-0.081731</td>\n",
       "      <td>-0.999939</td>\n",
       "      <td>...</td>\n",
       "      <td>0.538425</td>\n",
       "      <td>0.680782</td>\n",
       "      <td>0.840386</td>\n",
       "      <td>0.406986</td>\n",
       "      <td>0.458662</td>\n",
       "      <td>0.513434</td>\n",
       "      <td>-0.228937</td>\n",
       "      <td>-0.601373</td>\n",
       "      <td>0.845480</td>\n",
       "      <td>1</td>\n",
       "    </tr>\n",
       "    <tr>\n",
       "      <th>3</th>\n",
       "      <td>-0.818608</td>\n",
       "      <td>-0.364097</td>\n",
       "      <td>-0.625162</td>\n",
       "      <td>0.616065</td>\n",
       "      <td>0.367738</td>\n",
       "      <td>-0.203833</td>\n",
       "      <td>0.738299</td>\n",
       "      <td>0.294386</td>\n",
       "      <td>-0.319610</td>\n",
       "      <td>-0.999979</td>\n",
       "      <td>...</td>\n",
       "      <td>0.219702</td>\n",
       "      <td>0.687555</td>\n",
       "      <td>0.790432</td>\n",
       "      <td>0.072314</td>\n",
       "      <td>0.223585</td>\n",
       "      <td>0.589533</td>\n",
       "      <td>-0.478460</td>\n",
       "      <td>-0.669636</td>\n",
       "      <td>0.839418</td>\n",
       "      <td>1</td>\n",
       "    </tr>\n",
       "    <tr>\n",
       "      <th>4</th>\n",
       "      <td>-5.462592</td>\n",
       "      <td>-2.468406</td>\n",
       "      <td>-3.175258</td>\n",
       "      <td>4.110408</td>\n",
       "      <td>1.289395</td>\n",
       "      <td>-1.101952</td>\n",
       "      <td>5.102899</td>\n",
       "      <td>1.733524</td>\n",
       "      <td>-1.016906</td>\n",
       "      <td>-6.999469</td>\n",
       "      <td>...</td>\n",
       "      <td>1.569992</td>\n",
       "      <td>4.287838</td>\n",
       "      <td>5.511340</td>\n",
       "      <td>0.712182</td>\n",
       "      <td>3.125449</td>\n",
       "      <td>3.584841</td>\n",
       "      <td>-2.506014</td>\n",
       "      <td>-4.367422</td>\n",
       "      <td>5.651584</td>\n",
       "      <td>0</td>\n",
       "    </tr>\n",
       "  </tbody>\n",
       "</table>\n",
       "<p>5 rows × 769 columns</p>\n",
       "</div>\n",
       "      <button class=\"colab-df-convert\" onclick=\"convertToInteractive('df-2969331a-383e-4bd6-843e-b6d8e128fd2b')\"\n",
       "              title=\"Convert this dataframe to an interactive table.\"\n",
       "              style=\"display:none;\">\n",
       "        \n",
       "  <svg xmlns=\"http://www.w3.org/2000/svg\" height=\"24px\"viewBox=\"0 0 24 24\"\n",
       "       width=\"24px\">\n",
       "    <path d=\"M0 0h24v24H0V0z\" fill=\"none\"/>\n",
       "    <path d=\"M18.56 5.44l.94 2.06.94-2.06 2.06-.94-2.06-.94-.94-2.06-.94 2.06-2.06.94zm-11 1L8.5 8.5l.94-2.06 2.06-.94-2.06-.94L8.5 2.5l-.94 2.06-2.06.94zm10 10l.94 2.06.94-2.06 2.06-.94-2.06-.94-.94-2.06-.94 2.06-2.06.94z\"/><path d=\"M17.41 7.96l-1.37-1.37c-.4-.4-.92-.59-1.43-.59-.52 0-1.04.2-1.43.59L10.3 9.45l-7.72 7.72c-.78.78-.78 2.05 0 2.83L4 21.41c.39.39.9.59 1.41.59.51 0 1.02-.2 1.41-.59l7.78-7.78 2.81-2.81c.8-.78.8-2.07 0-2.86zM5.41 20L4 18.59l7.72-7.72 1.47 1.35L5.41 20z\"/>\n",
       "  </svg>\n",
       "      </button>\n",
       "      \n",
       "  <style>\n",
       "    .colab-df-container {\n",
       "      display:flex;\n",
       "      flex-wrap:wrap;\n",
       "      gap: 12px;\n",
       "    }\n",
       "\n",
       "    .colab-df-convert {\n",
       "      background-color: #E8F0FE;\n",
       "      border: none;\n",
       "      border-radius: 50%;\n",
       "      cursor: pointer;\n",
       "      display: none;\n",
       "      fill: #1967D2;\n",
       "      height: 32px;\n",
       "      padding: 0 0 0 0;\n",
       "      width: 32px;\n",
       "    }\n",
       "\n",
       "    .colab-df-convert:hover {\n",
       "      background-color: #E2EBFA;\n",
       "      box-shadow: 0px 1px 2px rgba(60, 64, 67, 0.3), 0px 1px 3px 1px rgba(60, 64, 67, 0.15);\n",
       "      fill: #174EA6;\n",
       "    }\n",
       "\n",
       "    [theme=dark] .colab-df-convert {\n",
       "      background-color: #3B4455;\n",
       "      fill: #D2E3FC;\n",
       "    }\n",
       "\n",
       "    [theme=dark] .colab-df-convert:hover {\n",
       "      background-color: #434B5C;\n",
       "      box-shadow: 0px 1px 3px 1px rgba(0, 0, 0, 0.15);\n",
       "      filter: drop-shadow(0px 1px 2px rgba(0, 0, 0, 0.3));\n",
       "      fill: #FFFFFF;\n",
       "    }\n",
       "  </style>\n",
       "\n",
       "      <script>\n",
       "        const buttonEl =\n",
       "          document.querySelector('#df-2969331a-383e-4bd6-843e-b6d8e128fd2b button.colab-df-convert');\n",
       "        buttonEl.style.display =\n",
       "          google.colab.kernel.accessAllowed ? 'block' : 'none';\n",
       "\n",
       "        async function convertToInteractive(key) {\n",
       "          const element = document.querySelector('#df-2969331a-383e-4bd6-843e-b6d8e128fd2b');\n",
       "          const dataTable =\n",
       "            await google.colab.kernel.invokeFunction('convertToInteractive',\n",
       "                                                     [key], {});\n",
       "          if (!dataTable) return;\n",
       "\n",
       "          const docLinkHtml = 'Like what you see? Visit the ' +\n",
       "            '<a target=\"_blank\" href=https://colab.research.google.com/notebooks/data_table.ipynb>data table notebook</a>'\n",
       "            + ' to learn more about interactive tables.';\n",
       "          element.innerHTML = '';\n",
       "          dataTable['output_type'] = 'display_data';\n",
       "          await google.colab.output.renderOutput(dataTable, element);\n",
       "          const docLink = document.createElement('div');\n",
       "          docLink.innerHTML = docLinkHtml;\n",
       "          element.appendChild(docLink);\n",
       "        }\n",
       "      </script>\n",
       "    </div>\n",
       "  </div>\n",
       "  "
      ],
      "text/plain": [
       "              0         1         2         3         4         5         6  \\\n",
       "index                                                                         \n",
       "0     -0.808581 -0.521799 -0.933632  0.753968  0.691683 -0.257352  0.825897   \n",
       "1     -0.896474 -0.453156 -0.705106  0.795478  0.428873 -0.106675  0.901052   \n",
       "2     -0.812739 -0.283650 -0.449288  0.676751  0.008511 -0.030799  0.858958   \n",
       "3     -0.818608 -0.364097 -0.625162  0.616065  0.367738 -0.203833  0.738299   \n",
       "4     -5.462592 -2.468406 -3.175258  4.110408  1.289395 -1.101952  5.102899   \n",
       "\n",
       "              7         8         9  ...       759       760       761  \\\n",
       "index                                ...                                 \n",
       "0      0.324172 -0.728082 -0.999970  ... -0.052831  0.955739  0.789242   \n",
       "1      0.255664 -0.593922 -0.999989  ... -0.086375  0.909427  0.902675   \n",
       "2      0.182227 -0.081731 -0.999939  ...  0.538425  0.680782  0.840386   \n",
       "3      0.294386 -0.319610 -0.999979  ...  0.219702  0.687555  0.790432   \n",
       "4      1.733524 -1.016906 -6.999469  ...  1.569992  4.287838  5.511340   \n",
       "\n",
       "            762       763       764       765       766       767  category  \n",
       "index                                                                        \n",
       "0     -0.159437 -0.182844  0.547712 -0.864201 -0.621436  0.789245         0  \n",
       "1      0.133198  0.415424  0.509272 -0.517750 -0.682799  0.905028         2  \n",
       "2      0.406986  0.458662  0.513434 -0.228937 -0.601373  0.845480         1  \n",
       "3      0.072314  0.223585  0.589533 -0.478460 -0.669636  0.839418         1  \n",
       "4      0.712182  3.125449  3.584841 -2.506014 -4.367422  5.651584         0  \n",
       "\n",
       "[5 rows x 769 columns]"
      ]
     },
     "execution_count": 182,
     "metadata": {},
     "output_type": "execute_result"
    }
   ],
   "source": [
    "final_df.head()"
   ]
  },
  {
   "cell_type": "code",
   "execution_count": 183,
   "id": "kzHpvpy1TEHr",
   "metadata": {
    "id": "kzHpvpy1TEHr"
   },
   "outputs": [],
   "source": [
    "#Creating Dataloader for MLP Classifier\n",
    "class embedding_dataset(Dataset):\n",
    "    \n",
    "    def __init__(self, embedding, labels):\n",
    "        \"\"\"\n",
    "\n",
    "        \"\"\"\n",
    "        self.embedding = embedding\n",
    "        self.labels = labels\n",
    "        \n",
    "    def __len__(self):\n",
    "        \"\"\"\n",
    "        Returns the length of the dataset i.e. the number of reviews present in \n",
    "        the dataset\n",
    "        \"\"\"\n",
    "        length = None\n",
    "        \n",
    "        # YOUR CODE HERE\n",
    "        length = len(self.embedding)\n",
    "        \n",
    "        return length\n",
    "    \n",
    "    def __getitem__(self, idx):\n",
    "        \"\"\"\n",
    "        \"\"\"\n",
    "        \n",
    "        embedding = self.embedding[idx]\n",
    "        label = self.labels[idx]\n",
    "        \n",
    "        return embedding, torch.tensor(label)"
   ]
  },
  {
   "cell_type": "code",
   "execution_count": 184,
   "id": "ZWDHX4lzPjbc",
   "metadata": {
    "colab": {
     "base_uri": "https://localhost:8080/"
    },
    "id": "ZWDHX4lzPjbc",
    "outputId": "915dbb1d-c201-4f1f-fdd9-85493e8256e8"
   },
   "outputs": [
    {
     "name": "stdout",
     "output_type": "stream",
     "text": [
      "Number of Training Examples: 38284\n",
      "Number of Validation Examples: 1915\n",
      "Number of Test Examples: 7657\n"
     ]
    }
   ],
   "source": [
    "train_df, test_df = train_test_split(final_df, test_size = 0.2,\\\n",
    "                                     stratify = final_df[\"category\"],\\\n",
    "                                     random_state = 42, shuffle = True)\n",
    "test_df = test_df.sample(frac=1).reset_index(drop=True)\n",
    "train_df = train_df.sample(frac=1).reset_index(drop=True)\n",
    "test_df, val_df = train_test_split(test_df, test_size=0.2, random_state = 42)\n",
    "print(f\"Number of Training Examples: {len(train_df)}\")\n",
    "print(f\"Number of Validation Examples: {len(val_df)}\")\n",
    "print(f\"Number of Test Examples: {len(test_df)}\")"
   ]
  },
  {
   "cell_type": "code",
   "execution_count": 185,
   "id": "1ZFIUbuvOz5L",
   "metadata": {
    "id": "1ZFIUbuvOz5L"
   },
   "outputs": [],
   "source": [
    "batch_size = 32\n",
    "\n",
    "train_sentences, train_labels = train_df.iloc[:,:-1].values, train_df[\"category\"].values\n",
    "val_sentences, val_labels = val_df.iloc[:,:-1].values, val_df[\"category\"].values\n",
    "test_sentences, test_labels = test_df.iloc[:,:-1].values, test_df[\"category\"].values\n",
    "\n",
    "train_dataset = embedding_dataset(train_sentences, train_labels)\n",
    "val_dataset = embedding_dataset(val_sentences, val_labels)\n",
    "test_dataset = embedding_dataset(test_sentences, test_labels)\n",
    "\n",
    "train_loader = DataLoader(train_dataset, batch_size=batch_size)\n",
    "val_loader = DataLoader(val_dataset, batch_size=batch_size)\n",
    "test_loader = DataLoader(test_dataset, batch_size=batch_size)"
   ]
  },
  {
   "cell_type": "code",
   "execution_count": 186,
   "id": "QHndyu0VSUwD",
   "metadata": {
    "id": "QHndyu0VSUwD"
   },
   "outputs": [],
   "source": [
    "def method2_evaluate(model, test_dataloader, threshold = 0.5, device = \"cpu\"):\n",
    "    \"\"\"\n",
    "    Evaluates `model` on test dataset\n",
    "\n",
    "    Inputs:\n",
    "        - model (BertClassifierModel): Logistic Regression model to be evaluated\n",
    "        - test_dataloader (torch.utils.DataLoader): A dataloader defined over the test dataset\n",
    "        - threshold (float): Probability Threshold above which we consider label as 1 and 0 below\n",
    "\n",
    "    Returns:\n",
    "        - accuracy (float): Average accuracy over the test dataset \n",
    "    \"\"\"\n",
    "\n",
    "    model.to(device)\n",
    "    model = model.eval() # Set model to evaluation model \n",
    "    accuracy = 0\n",
    "    bucket_pred = []\n",
    "    bucket_label = []\n",
    "\n",
    "    with torch.no_grad():\n",
    "      for test_batch in test_dataloader:\n",
    "        embedding, labels = test_batch\n",
    "        embedding = embedding.to(device).float()\n",
    "        labels = labels.type(torch.LongTensor).to(device)\n",
    "\n",
    "        # Step 1: Get probability predictions from the model and store it in `pred_probs`\n",
    "        pred_probs = model(embedding)\n",
    "  \n",
    "        x_ = torch.topk(pred_probs,1).indices\n",
    "        y_ = labels#torch.topk(labels,1).indices\n",
    "        bucket_pred += x_.detach().tolist()\n",
    "        bucket_label+= y_.detach().tolist()\n",
    "        s = 0\n",
    "        for i in range(len(x_)):\n",
    "          if x_[i] == y_[i]:\n",
    "            s+=1\n",
    "        batch_accuracy = s/len(x_)\n",
    "\n",
    "        # Step 2: Get accuracy of predictions and store it in `batch_accuracy`\n",
    "\n",
    "        accuracy += batch_accuracy\n",
    "\n",
    "      # Divide by number of batches to get average accuracy\n",
    "      accuracy = accuracy / len(test_dataloader)\n",
    "\n",
    "      return accuracy,np.array(bucket_pred).flatten(), np.array(bucket_label).flatten()\n",
    "\n",
    "def method2_train(model, train_dataloader, val_dataloader,\n",
    "          lr = 1e-5, num_epochs = 3,\n",
    "          device = \"cpu\"):\n",
    "    \"\"\"\n",
    "    Runs the training loop. \n",
    "\n",
    "    Inputs:\n",
    "        - model : MLP Classifier\n",
    "        - train_dataloader (torch.utils.DataLoader): A dataloader defined over the training dataset\n",
    "        - val_dataloader (torch.utils.DataLoader): A dataloader defined over the validation dataset\n",
    "        - lr (float): The learning rate for the optimizer\n",
    "        - num_epochs (int): Number of epochs to train the model for.\n",
    "        - device (str): Device to train the model on. Can be either 'cuda' (for using gpu) or 'cpu'\n",
    "\n",
    "    Returns:\n",
    "        - best_model : model corresponding to the highest validation accuracy (checked at the end of each epoch)\n",
    "        - best_val_accuracy (float): Validation accuracy corresponding to the best epoch\n",
    "    \"\"\"\n",
    "    epoch_loss = 0\n",
    "    model = model.to(device)\n",
    "    \n",
    "    best_val_accuracy = float(\"-inf\")\n",
    "    best_model = None\n",
    "    \n",
    "    # 1. Define Loss function and optimizer\n",
    "    loss_fn = nn.NLLLoss()\n",
    "    optimizer = Adam(model.parameters(), lr = lr)\n",
    "\n",
    "    epoch_loss_bucket = []\n",
    "    for epoch in range(num_epochs):\n",
    "        model.train() # Since we are evaluating model at the end of every epoch, it is important to bring it back to train mode\n",
    "        epoch_loss = 0\n",
    "        \n",
    "        # 2. Write Training Loop\n",
    "\n",
    "        for train_batch in train_dataloader:\n",
    "          optimizer.zero_grad()\n",
    "          embedding, labels = train_batch\n",
    "\n",
    "          embedding = embedding.to(device).float()\n",
    "          labels = labels.type(torch.LongTensor).to(device)\n",
    "\n",
    "          preds=model(embedding)\n",
    "\n",
    "          loss = loss_fn(preds, labels)\n",
    "          loss.backward()\n",
    "          optimizer.step()\n",
    "          epoch_loss += loss.item()\n",
    "  \n",
    "        \n",
    "        epoch_loss = epoch_loss / len(train_dataloader)\n",
    "        epoch_loss_bucket.append(epoch_loss)\n",
    "        # 3. Evaluate on validation data by calling `evaluate` and store the validation accuracy in `val_accurracy`\n",
    "        val_accuracy = 0\n",
    "\n",
    "        val_accuracy,_,_ = method2_evaluate(model, val_dataloader, device =\"cuda\")\n",
    "        \n",
    "        # Model selection\n",
    "        if val_accuracy > best_val_accuracy:\n",
    "            best_val_accuracy = val_accuracy\n",
    "            best_model = copy.deepcopy(model) # Create a copy of model\n",
    "        \n",
    "        if (epoch % 10 == 0):\n",
    "          print(f\"Epoch {epoch} completed | Average Training Loss: {epoch_loss} | Validation Accuracy: {val_accuracy}\")\n",
    "    plt.plot(epoch_loss_bucket)\n",
    "    plt.ylabel(\"Loss\")\n",
    "    plt.xlabel(\"Epoch\")\n",
    "    plt.title(\"Training Loss\")\n",
    "    plt.show()\n",
    "    return best_model, best_val_accuracy"
   ]
  },
  {
   "cell_type": "code",
   "execution_count": 187,
   "id": "gzbqOvJ9VuQE",
   "metadata": {
    "colab": {
     "base_uri": "https://localhost:8080/",
     "height": 698
    },
    "id": "gzbqOvJ9VuQE",
    "outputId": "243f4c66-52b3-4e62-a9c4-22a4c78dcd08"
   },
   "outputs": [
    {
     "name": "stderr",
     "output_type": "stream",
     "text": [
      "/usr/local/lib/python3.7/dist-packages/ipykernel_launcher.py:35: UserWarning: Implicit dimension choice for log_softmax has been deprecated. Change the call to include dim=X as an argument.\n"
     ]
    },
    {
     "name": "stdout",
     "output_type": "stream",
     "text": [
      "Epoch 0 completed | Average Training Loss: 1.1659360561354914 | Validation Accuracy: 0.7216242283950617\n",
      "Epoch 10 completed | Average Training Loss: 0.9363450866345077 | Validation Accuracy: 0.7273533950617284\n",
      "Epoch 20 completed | Average Training Loss: 0.8731839454662033 | Validation Accuracy: 0.7700617283950617\n",
      "Epoch 30 completed | Average Training Loss: 0.8505924457097511 | Validation Accuracy: 0.778491512345679\n",
      "Epoch 40 completed | Average Training Loss: 0.8370321003366931 | Validation Accuracy: 0.789332561728395\n",
      "Epoch 50 completed | Average Training Loss: 0.8242953340511274 | Validation Accuracy: 0.7845486111111111\n",
      "Epoch 60 completed | Average Training Loss: 0.8100287702149317 | Validation Accuracy: 0.7876736111111111\n",
      "Epoch 70 completed | Average Training Loss: 0.7999772865919641 | Validation Accuracy: 0.7899498456790124\n",
      "Epoch 80 completed | Average Training Loss: 0.7991811844240951 | Validation Accuracy: 0.7908950617283951\n",
      "Epoch 90 completed | Average Training Loss: 0.7913851235793249 | Validation Accuracy: 0.7956790123456791\n",
      "Epoch 100 completed | Average Training Loss: 0.78943178373869 | Validation Accuracy: 0.7926504629629629\n",
      "Epoch 110 completed | Average Training Loss: 0.7788016888730807 | Validation Accuracy: 0.7956790123456791\n",
      "Epoch 120 completed | Average Training Loss: 0.781943554716899 | Validation Accuracy: 0.7930748456790123\n",
      "Epoch 130 completed | Average Training Loss: 0.7749587724929864 | Validation Accuracy: 0.7956790123456791\n",
      "Epoch 140 completed | Average Training Loss: 0.7734796872911796 | Validation Accuracy: 0.7967206790123457\n",
      "Epoch 150 completed | Average Training Loss: 0.7728574713917703 | Validation Accuracy: 0.7977623456790124\n",
      "Epoch 160 completed | Average Training Loss: 0.7740512404874055 | Validation Accuracy: 0.7987075617283951\n",
      "Epoch 170 completed | Average Training Loss: 0.7700669047428154 | Validation Accuracy: 0.7956790123456791\n",
      "Epoch 180 completed | Average Training Loss: 0.7694653315950456 | Validation Accuracy: 0.7997492283950617\n",
      "Epoch 190 completed | Average Training Loss: 0.7726264903220716 | Validation Accuracy: 0.798804012345679\n"
     ]
    },
    {
     "data": {
      "image/png": "[encoded data removed]",
      "text/plain": [
       "<Figure size 432x288 with 1 Axes>"
      ]
     },
     "metadata": {
      "needs_background": "light"
     },
     "output_type": "display_data"
    }
   ],
   "source": [
    "#Training the Model\n",
    "model = classifier()\n",
    "best_model, best_val_acc = method2_train(model, train_loader, val_loader, num_epochs = 200, device = \"cuda\")"
   ]
  },
  {
   "cell_type": "code",
   "execution_count": 188,
   "id": "676gkUr3yUlJ",
   "metadata": {
    "colab": {
     "base_uri": "https://localhost:8080/"
    },
    "id": "676gkUr3yUlJ",
    "outputId": "6e2f3ee2-ea74-4b41-bda6-2c339eb66379"
   },
   "outputs": [
    {
     "name": "stderr",
     "output_type": "stream",
     "text": [
      "/usr/local/lib/python3.7/dist-packages/ipykernel_launcher.py:35: UserWarning: Implicit dimension choice for log_softmax has been deprecated. Change the call to include dim=X as an argument.\n"
     ]
    },
    {
     "name": "stdout",
     "output_type": "stream",
     "text": [
      "0.8060474537037037\n"
     ]
    }
   ],
   "source": [
    "#Test Accuracy\n",
    "test_accuracy,bucket_pred,bucket_label = method2_evaluate(best_model, test_loader, threshold = 0.5, device = \"cuda\")\n",
    "print(test_accuracy)"
   ]
  },
  {
   "cell_type": "code",
   "execution_count": 189,
   "id": "IA6Gr_UAzeg-",
   "metadata": {
    "colab": {
     "base_uri": "https://localhost:8080/",
     "height": 526
    },
    "id": "IA6Gr_UAzeg-",
    "outputId": "21c2f951-a221-4b00-dae5-7a0502010621"
   },
   "outputs": [
    {
     "name": "stdout",
     "output_type": "stream",
     "text": [
      "              precision    recall  f1-score   support\n",
      "\n",
      "           0       0.83      0.95      0.88      5431\n",
      "           1       0.73      0.61      0.67      1555\n",
      "           2       0.41      0.05      0.08       417\n",
      "           3       0.59      0.22      0.32       151\n",
      "           4       0.50      0.01      0.02       103\n",
      "\n",
      "    accuracy                           0.81      7657\n",
      "   macro avg       0.61      0.37      0.39      7657\n",
      "weighted avg       0.78      0.81      0.77      7657\n",
      "\n"
     ]
    },
    {
     "data": {
      "image/png": "[encoded data removed]",
      "text/plain": [
       "<Figure size 432x288 with 2 Axes>"
      ]
     },
     "metadata": {
      "needs_background": "light"
     },
     "output_type": "display_data"
    }
   ],
   "source": [
    "#Evaluating the model\n",
    "\n",
    "from sklearn.metrics import classification_report\n",
    "from sklearn.metrics import confusion_matrix\n",
    "print(classification_report(bucket_label, bucket_pred))\n",
    "cm = confusion_matrix(bucket_label, bucket_pred)\n",
    "cm_df = pd.DataFrame(cm,\n",
    "                     index = ['0','1','2','3','4'], \n",
    "                     columns = ['0','1','2','3','4'])\n",
    "#Plotting the confusion matrix\n",
    "plt.figure(figsize=(6,4))\n",
    "sns.heatmap(cm_df, annot=True, annot_kws={\"size\": 18}, fmt='.0f')\n",
    "plt.title('Confusion Matrix', fontsize = 18)\n",
    "plt.ylabel('Actual Values', fontsize = 18)\n",
    "plt.xlabel('Predicted Values', fontsize = 18)\n",
    "plt.show()"
   ]
  },
  {
   "cell_type": "markdown",
   "id": "POizv_CFULru",
   "metadata": {
    "id": "POizv_CFULru"
   },
   "source": [
    "Model has better performance with good recall and precision on minority classes. Better accuracy towards the minority class indicate that model has generalised effectively"
   ]
  }
 ],
 "metadata": {
  "accelerator": "GPU",
  "colab": {
   "collapsed_sections": [
    "849edfc0"
   ],
   "machine_shape": "hm",
   "name": "Project_NLP.ipynb",
   "provenance": []
  },
  "kernelspec": {
   "display_name": "Python 3",
   "language": "python",
   "name": "python3"
  },
  "language_info": {
   "codemirror_mode": {
    "name": "ipython",
    "version": 3
   },
   "file_extension": ".py",
   "mimetype": "text/x-python",
   "name": "python",
   "nbconvert_exporter": "python",
   "pygments_lexer": "ipython3",
   "version": "3.8.8"
  },
  "widgets": {
   "application/vnd.jupyter.widget-state+json": {
    "02c2e62c49c94439a8bab71961c86a4f": {
     "model_module": "@jupyter-widgets/controls",
     "model_module_version": "1.5.0",
     "model_name": "HTMLModel",
     "state": {
      "_dom_classes": [],
      "_model_module": "@jupyter-widgets/controls",
      "_model_module_version": "1.5.0",
      "_model_name": "HTMLModel",
      "_view_count": null,
      "_view_module": "@jupyter-widgets/controls",
      "_view_module_version": "1.5.0",
      "_view_name": "HTMLView",
      "description": "",
      "description_tooltip": null,
      "layout": "IPY_MODEL_0736f16e37e74cfebf4ef3a9fa163437",
      "placeholder": "​",
      "style": "IPY_MODEL_49e7f52776754fcfaa7b4a1779806804",
      "value": "Downloading: 100%"
     }
    },
    "038c0373f76949b4ab9bf82f95d9dfcd": {
     "model_module": "@jupyter-widgets/controls",
     "model_module_version": "1.5.0",
     "model_name": "ProgressStyleModel",
     "state": {
      "_model_module": "@jupyter-widgets/controls",
      "_model_module_version": "1.5.0",
      "_model_name": "ProgressStyleModel",
      "_view_count": null,
      "_view_module": "@jupyter-widgets/base",
      "_view_module_version": "1.2.0",
      "_view_name": "StyleView",
      "bar_color": null,
      "description_width": ""
     }
    },
    "04cc20225a4e41b1bede7a7611a34bd8": {
     "model_module": "@jupyter-widgets/base",
     "model_module_version": "1.2.0",
     "model_name": "LayoutModel",
     "state": {
      "_model_module": "@jupyter-widgets/base",
      "_model_module_version": "1.2.0",
      "_model_name": "LayoutModel",
      "_view_count": null,
      "_view_module": "@jupyter-widgets/base",
      "_view_module_version": "1.2.0",
      "_view_name": "LayoutView",
      "align_content": null,
      "align_items": null,
      "align_self": null,
      "border": null,
      "bottom": null,
      "display": null,
      "flex": null,
      "flex_flow": null,
      "grid_area": null,
      "grid_auto_columns": null,
      "grid_auto_flow": null,
      "grid_auto_rows": null,
      "grid_column": null,
      "grid_gap": null,
      "grid_row": null,
      "grid_template_areas": null,
      "grid_template_columns": null,
      "grid_template_rows": null,
      "height": null,
      "justify_content": null,
      "justify_items": null,
      "left": null,
      "margin": null,
      "max_height": null,
      "max_width": null,
      "min_height": null,
      "min_width": null,
      "object_fit": null,
      "object_position": null,
      "order": null,
      "overflow": null,
      "overflow_x": null,
      "overflow_y": null,
      "padding": null,
      "right": null,
      "top": null,
      "visibility": null,
      "width": null
     }
    },
    "0501d2383c7d4e93a5d5f6b7b6f47669": {
     "model_module": "@jupyter-widgets/controls",
     "model_module_version": "1.5.0",
     "model_name": "DescriptionStyleModel",
     "state": {
      "_model_module": "@jupyter-widgets/controls",
      "_model_module_version": "1.5.0",
      "_model_name": "DescriptionStyleModel",
      "_view_count": null,
      "_view_module": "@jupyter-widgets/base",
      "_view_module_version": "1.2.0",
      "_view_name": "StyleView",
      "description_width": ""
     }
    },
    "0736f16e37e74cfebf4ef3a9fa163437": {
     "model_module": "@jupyter-widgets/base",
     "model_module_version": "1.2.0",
     "model_name": "LayoutModel",
     "state": {
      "_model_module": "@jupyter-widgets/base",
      "_model_module_version": "1.2.0",
      "_model_name": "LayoutModel",
      "_view_count": null,
      "_view_module": "@jupyter-widgets/base",
      "_view_module_version": "1.2.0",
      "_view_name": "LayoutView",
      "align_content": null,
      "align_items": null,
      "align_self": null,
      "border": null,
      "bottom": null,
      "display": null,
      "flex": null,
      "flex_flow": null,
      "grid_area": null,
      "grid_auto_columns": null,
      "grid_auto_flow": null,
      "grid_auto_rows": null,
      "grid_column": null,
      "grid_gap": null,
      "grid_row": null,
      "grid_template_areas": null,
      "grid_template_columns": null,
      "grid_template_rows": null,
      "height": null,
      "justify_content": null,
      "justify_items": null,
      "left": null,
      "margin": null,
      "max_height": null,
      "max_width": null,
      "min_height": null,
      "min_width": null,
      "object_fit": null,
      "object_position": null,
      "order": null,
      "overflow": null,
      "overflow_x": null,
      "overflow_y": null,
      "padding": null,
      "right": null,
      "top": null,
      "visibility": null,
      "width": null
     }
    },
    "109a77f6a92341a5860cfd833a92156d": {
     "model_module": "@jupyter-widgets/base",
     "model_module_version": "1.2.0",
     "model_name": "LayoutModel",
     "state": {
      "_model_module": "@jupyter-widgets/base",
      "_model_module_version": "1.2.0",
      "_model_name": "LayoutModel",
      "_view_count": null,
      "_view_module": "@jupyter-widgets/base",
      "_view_module_version": "1.2.0",
      "_view_name": "LayoutView",
      "align_content": null,
      "align_items": null,
      "align_self": null,
      "border": null,
      "bottom": null,
      "display": null,
      "flex": null,
      "flex_flow": null,
      "grid_area": null,
      "grid_auto_columns": null,
      "grid_auto_flow": null,
      "grid_auto_rows": null,
      "grid_column": null,
      "grid_gap": null,
      "grid_row": null,
      "grid_template_areas": null,
      "grid_template_columns": null,
      "grid_template_rows": null,
      "height": null,
      "justify_content": null,
      "justify_items": null,
      "left": null,
      "margin": null,
      "max_height": null,
      "max_width": null,
      "min_height": null,
      "min_width": null,
      "object_fit": null,
      "object_position": null,
      "order": null,
      "overflow": null,
      "overflow_x": null,
      "overflow_y": null,
      "padding": null,
      "right": null,
      "top": null,
      "visibility": null,
      "width": null
     }
    },
    "17098383dcc642f6813c7c58960933f7": {
     "model_module": "@jupyter-widgets/controls",
     "model_module_version": "1.5.0",
     "model_name": "HTMLModel",
     "state": {
      "_dom_classes": [],
      "_model_module": "@jupyter-widgets/controls",
      "_model_module_version": "1.5.0",
      "_model_name": "HTMLModel",
      "_view_count": null,
      "_view_module": "@jupyter-widgets/controls",
      "_view_module_version": "1.5.0",
      "_view_name": "HTMLView",
      "description": "",
      "description_tooltip": null,
      "layout": "IPY_MODEL_a353ffec62c84ea5a111dea9f44a7480",
      "placeholder": "​",
      "style": "IPY_MODEL_2333e80f6a694275b55d2478618e14f5",
      "value": " 570/570 [00:00&lt;00:00, 22.6kB/s]"
     }
    },
    "17342f83951e4411a4e01f60f61a85f3": {
     "model_module": "@jupyter-widgets/controls",
     "model_module_version": "1.5.0",
     "model_name": "FloatProgressModel",
     "state": {
      "_dom_classes": [],
      "_model_module": "@jupyter-widgets/controls",
      "_model_module_version": "1.5.0",
      "_model_name": "FloatProgressModel",
      "_view_count": null,
      "_view_module": "@jupyter-widgets/controls",
      "_view_module_version": "1.5.0",
      "_view_name": "ProgressView",
      "bar_style": "success",
      "description": "",
      "description_tooltip": null,
      "layout": "IPY_MODEL_951905504d14482e88134864ab3d9fba",
      "max": 231508,
      "min": 0,
      "orientation": "horizontal",
      "style": "IPY_MODEL_e162022dfb504c61b9476e5ac400554a",
      "value": 231508
     }
    },
    "1b62ea853d6448ef8e68f5798ea4d615": {
     "model_module": "@jupyter-widgets/base",
     "model_module_version": "1.2.0",
     "model_name": "LayoutModel",
     "state": {
      "_model_module": "@jupyter-widgets/base",
      "_model_module_version": "1.2.0",
      "_model_name": "LayoutModel",
      "_view_count": null,
      "_view_module": "@jupyter-widgets/base",
      "_view_module_version": "1.2.0",
      "_view_name": "LayoutView",
      "align_content": null,
      "align_items": null,
      "align_self": null,
      "border": null,
      "bottom": null,
      "display": null,
      "flex": null,
      "flex_flow": null,
      "grid_area": null,
      "grid_auto_columns": null,
      "grid_auto_flow": null,
      "grid_auto_rows": null,
      "grid_column": null,
      "grid_gap": null,
      "grid_row": null,
      "grid_template_areas": null,
      "grid_template_columns": null,
      "grid_template_rows": null,
      "height": null,
      "justify_content": null,
      "justify_items": null,
      "left": null,
      "margin": null,
      "max_height": null,
      "max_width": null,
      "min_height": null,
      "min_width": null,
      "object_fit": null,
      "object_position": null,
      "order": null,
      "overflow": null,
      "overflow_x": null,
      "overflow_y": null,
      "padding": null,
      "right": null,
      "top": null,
      "visibility": null,
      "width": null
     }
    },
    "2147d1dc6fe348e2ac5ef4e3c55b3dd5": {
     "model_module": "@jupyter-widgets/controls",
     "model_module_version": "1.5.0",
     "model_name": "HTMLModel",
     "state": {
      "_dom_classes": [],
      "_model_module": "@jupyter-widgets/controls",
      "_model_module_version": "1.5.0",
      "_model_name": "HTMLModel",
      "_view_count": null,
      "_view_module": "@jupyter-widgets/controls",
      "_view_module_version": "1.5.0",
      "_view_name": "HTMLView",
      "description": "",
      "description_tooltip": null,
      "layout": "IPY_MODEL_b0e0121f2aaa4584a747c8a0b91d738d",
      "placeholder": "​",
      "style": "IPY_MODEL_2814a15571aa41f5a582ed6310c206c5",
      "value": "Downloading: 100%"
     }
    },
    "22c632b103294e9eb6262001ece9df5c": {
     "model_module": "@jupyter-widgets/controls",
     "model_module_version": "1.5.0",
     "model_name": "HTMLModel",
     "state": {
      "_dom_classes": [],
      "_model_module": "@jupyter-widgets/controls",
      "_model_module_version": "1.5.0",
      "_model_name": "HTMLModel",
      "_view_count": null,
      "_view_module": "@jupyter-widgets/controls",
      "_view_module_version": "1.5.0",
      "_view_name": "HTMLView",
      "description": "",
      "description_tooltip": null,
      "layout": "IPY_MODEL_9d37fd2d7e21460bb4957d9e399ee028",
      "placeholder": "​",
      "style": "IPY_MODEL_293b714407d145c7be25d02255215be6",
      "value": " 420M/420M [00:14&lt;00:00, 27.6MB/s]"
     }
    },
    "2333e80f6a694275b55d2478618e14f5": {
     "model_module": "@jupyter-widgets/controls",
     "model_module_version": "1.5.0",
     "model_name": "DescriptionStyleModel",
     "state": {
      "_model_module": "@jupyter-widgets/controls",
      "_model_module_version": "1.5.0",
      "_model_name": "DescriptionStyleModel",
      "_view_count": null,
      "_view_module": "@jupyter-widgets/base",
      "_view_module_version": "1.2.0",
      "_view_name": "StyleView",
      "description_width": ""
     }
    },
    "2814a15571aa41f5a582ed6310c206c5": {
     "model_module": "@jupyter-widgets/controls",
     "model_module_version": "1.5.0",
     "model_name": "DescriptionStyleModel",
     "state": {
      "_model_module": "@jupyter-widgets/controls",
      "_model_module_version": "1.5.0",
      "_model_name": "DescriptionStyleModel",
      "_view_count": null,
      "_view_module": "@jupyter-widgets/base",
      "_view_module_version": "1.2.0",
      "_view_name": "StyleView",
      "description_width": ""
     }
    },
    "293b714407d145c7be25d02255215be6": {
     "model_module": "@jupyter-widgets/controls",
     "model_module_version": "1.5.0",
     "model_name": "DescriptionStyleModel",
     "state": {
      "_model_module": "@jupyter-widgets/controls",
      "_model_module_version": "1.5.0",
      "_model_name": "DescriptionStyleModel",
      "_view_count": null,
      "_view_module": "@jupyter-widgets/base",
      "_view_module_version": "1.2.0",
      "_view_name": "StyleView",
      "description_width": ""
     }
    },
    "2b8dd914938c4a05ae4e5d948783fd7d": {
     "model_module": "@jupyter-widgets/base",
     "model_module_version": "1.2.0",
     "model_name": "LayoutModel",
     "state": {
      "_model_module": "@jupyter-widgets/base",
      "_model_module_version": "1.2.0",
      "_model_name": "LayoutModel",
      "_view_count": null,
      "_view_module": "@jupyter-widgets/base",
      "_view_module_version": "1.2.0",
      "_view_name": "LayoutView",
      "align_content": null,
      "align_items": null,
      "align_self": null,
      "border": null,
      "bottom": null,
      "display": null,
      "flex": null,
      "flex_flow": null,
      "grid_area": null,
      "grid_auto_columns": null,
      "grid_auto_flow": null,
      "grid_auto_rows": null,
      "grid_column": null,
      "grid_gap": null,
      "grid_row": null,
      "grid_template_areas": null,
      "grid_template_columns": null,
      "grid_template_rows": null,
      "height": null,
      "justify_content": null,
      "justify_items": null,
      "left": null,
      "margin": null,
      "max_height": null,
      "max_width": null,
      "min_height": null,
      "min_width": null,
      "object_fit": null,
      "object_position": null,
      "order": null,
      "overflow": null,
      "overflow_x": null,
      "overflow_y": null,
      "padding": null,
      "right": null,
      "top": null,
      "visibility": null,
      "width": null
     }
    },
    "33a93669096041fc85fab0376874abec": {
     "model_module": "@jupyter-widgets/controls",
     "model_module_version": "1.5.0",
     "model_name": "ProgressStyleModel",
     "state": {
      "_model_module": "@jupyter-widgets/controls",
      "_model_module_version": "1.5.0",
      "_model_name": "ProgressStyleModel",
      "_view_count": null,
      "_view_module": "@jupyter-widgets/base",
      "_view_module_version": "1.2.0",
      "_view_name": "StyleView",
      "bar_color": null,
      "description_width": ""
     }
    },
    "3a944d96bcb34b88b8a05f6afde73c2d": {
     "model_module": "@jupyter-widgets/base",
     "model_module_version": "1.2.0",
     "model_name": "LayoutModel",
     "state": {
      "_model_module": "@jupyter-widgets/base",
      "_model_module_version": "1.2.0",
      "_model_name": "LayoutModel",
      "_view_count": null,
      "_view_module": "@jupyter-widgets/base",
      "_view_module_version": "1.2.0",
      "_view_name": "LayoutView",
      "align_content": null,
      "align_items": null,
      "align_self": null,
      "border": null,
      "bottom": null,
      "display": null,
      "flex": null,
      "flex_flow": null,
      "grid_area": null,
      "grid_auto_columns": null,
      "grid_auto_flow": null,
      "grid_auto_rows": null,
      "grid_column": null,
      "grid_gap": null,
      "grid_row": null,
      "grid_template_areas": null,
      "grid_template_columns": null,
      "grid_template_rows": null,
      "height": null,
      "justify_content": null,
      "justify_items": null,
      "left": null,
      "margin": null,
      "max_height": null,
      "max_width": null,
      "min_height": null,
      "min_width": null,
      "object_fit": null,
      "object_position": null,
      "order": null,
      "overflow": null,
      "overflow_x": null,
      "overflow_y": null,
      "padding": null,
      "right": null,
      "top": null,
      "visibility": null,
      "width": null
     }
    },
    "3b180b47b6b847d4a318c308fb4944c8": {
     "model_module": "@jupyter-widgets/controls",
     "model_module_version": "1.5.0",
     "model_name": "FloatProgressModel",
     "state": {
      "_dom_classes": [],
      "_model_module": "@jupyter-widgets/controls",
      "_model_module_version": "1.5.0",
      "_model_name": "FloatProgressModel",
      "_view_count": null,
      "_view_module": "@jupyter-widgets/controls",
      "_view_module_version": "1.5.0",
      "_view_name": "ProgressView",
      "bar_style": "success",
      "description": "",
      "description_tooltip": null,
      "layout": "IPY_MODEL_109a77f6a92341a5860cfd833a92156d",
      "max": 440473133,
      "min": 0,
      "orientation": "horizontal",
      "style": "IPY_MODEL_7c759a0f361d496dbe95e06819c997d8",
      "value": 440473133
     }
    },
    "49e7f52776754fcfaa7b4a1779806804": {
     "model_module": "@jupyter-widgets/controls",
     "model_module_version": "1.5.0",
     "model_name": "DescriptionStyleModel",
     "state": {
      "_model_module": "@jupyter-widgets/controls",
      "_model_module_version": "1.5.0",
      "_model_name": "DescriptionStyleModel",
      "_view_count": null,
      "_view_module": "@jupyter-widgets/base",
      "_view_module_version": "1.2.0",
      "_view_name": "StyleView",
      "description_width": ""
     }
    },
    "56db18a52f3346439be7c0945fcbffa6": {
     "model_module": "@jupyter-widgets/controls",
     "model_module_version": "1.5.0",
     "model_name": "HBoxModel",
     "state": {
      "_dom_classes": [],
      "_model_module": "@jupyter-widgets/controls",
      "_model_module_version": "1.5.0",
      "_model_name": "HBoxModel",
      "_view_count": null,
      "_view_module": "@jupyter-widgets/controls",
      "_view_module_version": "1.5.0",
      "_view_name": "HBoxView",
      "box_style": "",
      "children": [
       "IPY_MODEL_8590e28d117f4ff799dbd4d7158669c0",
       "IPY_MODEL_c541143725e941c0b04aba62fb08871f",
       "IPY_MODEL_17098383dcc642f6813c7c58960933f7"
      ],
      "layout": "IPY_MODEL_3a944d96bcb34b88b8a05f6afde73c2d"
     }
    },
    "5db552f5b0a24646911f98242bb17275": {
     "model_module": "@jupyter-widgets/controls",
     "model_module_version": "1.5.0",
     "model_name": "HBoxModel",
     "state": {
      "_dom_classes": [],
      "_model_module": "@jupyter-widgets/controls",
      "_model_module_version": "1.5.0",
      "_model_name": "HBoxModel",
      "_view_count": null,
      "_view_module": "@jupyter-widgets/controls",
      "_view_module_version": "1.5.0",
      "_view_name": "HBoxView",
      "box_style": "",
      "children": [
       "IPY_MODEL_02c2e62c49c94439a8bab71961c86a4f",
       "IPY_MODEL_17342f83951e4411a4e01f60f61a85f3",
       "IPY_MODEL_82e4366eff8845c9b0f432faa2604355"
      ],
      "layout": "IPY_MODEL_04cc20225a4e41b1bede7a7611a34bd8"
     }
    },
    "6386f99950174a8aa4b6d89a22a2b69d": {
     "model_module": "@jupyter-widgets/base",
     "model_module_version": "1.2.0",
     "model_name": "LayoutModel",
     "state": {
      "_model_module": "@jupyter-widgets/base",
      "_model_module_version": "1.2.0",
      "_model_name": "LayoutModel",
      "_view_count": null,
      "_view_module": "@jupyter-widgets/base",
      "_view_module_version": "1.2.0",
      "_view_name": "LayoutView",
      "align_content": null,
      "align_items": null,
      "align_self": null,
      "border": null,
      "bottom": null,
      "display": null,
      "flex": null,
      "flex_flow": null,
      "grid_area": null,
      "grid_auto_columns": null,
      "grid_auto_flow": null,
      "grid_auto_rows": null,
      "grid_column": null,
      "grid_gap": null,
      "grid_row": null,
      "grid_template_areas": null,
      "grid_template_columns": null,
      "grid_template_rows": null,
      "height": null,
      "justify_content": null,
      "justify_items": null,
      "left": null,
      "margin": null,
      "max_height": null,
      "max_width": null,
      "min_height": null,
      "min_width": null,
      "object_fit": null,
      "object_position": null,
      "order": null,
      "overflow": null,
      "overflow_x": null,
      "overflow_y": null,
      "padding": null,
      "right": null,
      "top": null,
      "visibility": null,
      "width": null
     }
    },
    "65eb8bdff4314796a3a43967e0a3335b": {
     "model_module": "@jupyter-widgets/controls",
     "model_module_version": "1.5.0",
     "model_name": "HBoxModel",
     "state": {
      "_dom_classes": [],
      "_model_module": "@jupyter-widgets/controls",
      "_model_module_version": "1.5.0",
      "_model_name": "HBoxModel",
      "_view_count": null,
      "_view_module": "@jupyter-widgets/controls",
      "_view_module_version": "1.5.0",
      "_view_name": "HBoxView",
      "box_style": "",
      "children": [
       "IPY_MODEL_cb2d9fa9ba3e452784cdba6a62b89174",
       "IPY_MODEL_ab5b8bdcf8474cc4adde388660837aef",
       "IPY_MODEL_adc44773358d4a26bdab8db07f4dfbd0"
      ],
      "layout": "IPY_MODEL_a60aa1db72534737ba84ae44067e80a8"
     }
    },
    "743efbc140eb46dd96672575cb771740": {
     "model_module": "@jupyter-widgets/controls",
     "model_module_version": "1.5.0",
     "model_name": "DescriptionStyleModel",
     "state": {
      "_model_module": "@jupyter-widgets/controls",
      "_model_module_version": "1.5.0",
      "_model_name": "DescriptionStyleModel",
      "_view_count": null,
      "_view_module": "@jupyter-widgets/base",
      "_view_module_version": "1.2.0",
      "_view_name": "StyleView",
      "description_width": ""
     }
    },
    "7c759a0f361d496dbe95e06819c997d8": {
     "model_module": "@jupyter-widgets/controls",
     "model_module_version": "1.5.0",
     "model_name": "ProgressStyleModel",
     "state": {
      "_model_module": "@jupyter-widgets/controls",
      "_model_module_version": "1.5.0",
      "_model_name": "ProgressStyleModel",
      "_view_count": null,
      "_view_module": "@jupyter-widgets/base",
      "_view_module_version": "1.2.0",
      "_view_name": "StyleView",
      "bar_color": null,
      "description_width": ""
     }
    },
    "82e4366eff8845c9b0f432faa2604355": {
     "model_module": "@jupyter-widgets/controls",
     "model_module_version": "1.5.0",
     "model_name": "HTMLModel",
     "state": {
      "_dom_classes": [],
      "_model_module": "@jupyter-widgets/controls",
      "_model_module_version": "1.5.0",
      "_model_name": "HTMLModel",
      "_view_count": null,
      "_view_module": "@jupyter-widgets/controls",
      "_view_module_version": "1.5.0",
      "_view_name": "HTMLView",
      "description": "",
      "description_tooltip": null,
      "layout": "IPY_MODEL_e1885414e82c4a329b3302a63e562f4f",
      "placeholder": "​",
      "style": "IPY_MODEL_a578c3796c72437ba90565f5a52d583d",
      "value": " 226k/226k [00:00&lt;00:00, 871kB/s]"
     }
    },
    "8590e28d117f4ff799dbd4d7158669c0": {
     "model_module": "@jupyter-widgets/controls",
     "model_module_version": "1.5.0",
     "model_name": "HTMLModel",
     "state": {
      "_dom_classes": [],
      "_model_module": "@jupyter-widgets/controls",
      "_model_module_version": "1.5.0",
      "_model_name": "HTMLModel",
      "_view_count": null,
      "_view_module": "@jupyter-widgets/controls",
      "_view_module_version": "1.5.0",
      "_view_name": "HTMLView",
      "description": "",
      "description_tooltip": null,
      "layout": "IPY_MODEL_8706e38eeff646089756fb26e6b960dc",
      "placeholder": "​",
      "style": "IPY_MODEL_743efbc140eb46dd96672575cb771740",
      "value": "Downloading: 100%"
     }
    },
    "8706e38eeff646089756fb26e6b960dc": {
     "model_module": "@jupyter-widgets/base",
     "model_module_version": "1.2.0",
     "model_name": "LayoutModel",
     "state": {
      "_model_module": "@jupyter-widgets/base",
      "_model_module_version": "1.2.0",
      "_model_name": "LayoutModel",
      "_view_count": null,
      "_view_module": "@jupyter-widgets/base",
      "_view_module_version": "1.2.0",
      "_view_name": "LayoutView",
      "align_content": null,
      "align_items": null,
      "align_self": null,
      "border": null,
      "bottom": null,
      "display": null,
      "flex": null,
      "flex_flow": null,
      "grid_area": null,
      "grid_auto_columns": null,
      "grid_auto_flow": null,
      "grid_auto_rows": null,
      "grid_column": null,
      "grid_gap": null,
      "grid_row": null,
      "grid_template_areas": null,
      "grid_template_columns": null,
      "grid_template_rows": null,
      "height": null,
      "justify_content": null,
      "justify_items": null,
      "left": null,
      "margin": null,
      "max_height": null,
      "max_width": null,
      "min_height": null,
      "min_width": null,
      "object_fit": null,
      "object_position": null,
      "order": null,
      "overflow": null,
      "overflow_x": null,
      "overflow_y": null,
      "padding": null,
      "right": null,
      "top": null,
      "visibility": null,
      "width": null
     }
    },
    "951905504d14482e88134864ab3d9fba": {
     "model_module": "@jupyter-widgets/base",
     "model_module_version": "1.2.0",
     "model_name": "LayoutModel",
     "state": {
      "_model_module": "@jupyter-widgets/base",
      "_model_module_version": "1.2.0",
      "_model_name": "LayoutModel",
      "_view_count": null,
      "_view_module": "@jupyter-widgets/base",
      "_view_module_version": "1.2.0",
      "_view_name": "LayoutView",
      "align_content": null,
      "align_items": null,
      "align_self": null,
      "border": null,
      "bottom": null,
      "display": null,
      "flex": null,
      "flex_flow": null,
      "grid_area": null,
      "grid_auto_columns": null,
      "grid_auto_flow": null,
      "grid_auto_rows": null,
      "grid_column": null,
      "grid_gap": null,
      "grid_row": null,
      "grid_template_areas": null,
      "grid_template_columns": null,
      "grid_template_rows": null,
      "height": null,
      "justify_content": null,
      "justify_items": null,
      "left": null,
      "margin": null,
      "max_height": null,
      "max_width": null,
      "min_height": null,
      "min_width": null,
      "object_fit": null,
      "object_position": null,
      "order": null,
      "overflow": null,
      "overflow_x": null,
      "overflow_y": null,
      "padding": null,
      "right": null,
      "top": null,
      "visibility": null,
      "width": null
     }
    },
    "9778198955b84a8eb50a04a1bbfafd74": {
     "model_module": "@jupyter-widgets/base",
     "model_module_version": "1.2.0",
     "model_name": "LayoutModel",
     "state": {
      "_model_module": "@jupyter-widgets/base",
      "_model_module_version": "1.2.0",
      "_model_name": "LayoutModel",
      "_view_count": null,
      "_view_module": "@jupyter-widgets/base",
      "_view_module_version": "1.2.0",
      "_view_name": "LayoutView",
      "align_content": null,
      "align_items": null,
      "align_self": null,
      "border": null,
      "bottom": null,
      "display": null,
      "flex": null,
      "flex_flow": null,
      "grid_area": null,
      "grid_auto_columns": null,
      "grid_auto_flow": null,
      "grid_auto_rows": null,
      "grid_column": null,
      "grid_gap": null,
      "grid_row": null,
      "grid_template_areas": null,
      "grid_template_columns": null,
      "grid_template_rows": null,
      "height": null,
      "justify_content": null,
      "justify_items": null,
      "left": null,
      "margin": null,
      "max_height": null,
      "max_width": null,
      "min_height": null,
      "min_width": null,
      "object_fit": null,
      "object_position": null,
      "order": null,
      "overflow": null,
      "overflow_x": null,
      "overflow_y": null,
      "padding": null,
      "right": null,
      "top": null,
      "visibility": null,
      "width": null
     }
    },
    "9d37fd2d7e21460bb4957d9e399ee028": {
     "model_module": "@jupyter-widgets/base",
     "model_module_version": "1.2.0",
     "model_name": "LayoutModel",
     "state": {
      "_model_module": "@jupyter-widgets/base",
      "_model_module_version": "1.2.0",
      "_model_name": "LayoutModel",
      "_view_count": null,
      "_view_module": "@jupyter-widgets/base",
      "_view_module_version": "1.2.0",
      "_view_name": "LayoutView",
      "align_content": null,
      "align_items": null,
      "align_self": null,
      "border": null,
      "bottom": null,
      "display": null,
      "flex": null,
      "flex_flow": null,
      "grid_area": null,
      "grid_auto_columns": null,
      "grid_auto_flow": null,
      "grid_auto_rows": null,
      "grid_column": null,
      "grid_gap": null,
      "grid_row": null,
      "grid_template_areas": null,
      "grid_template_columns": null,
      "grid_template_rows": null,
      "height": null,
      "justify_content": null,
      "justify_items": null,
      "left": null,
      "margin": null,
      "max_height": null,
      "max_width": null,
      "min_height": null,
      "min_width": null,
      "object_fit": null,
      "object_position": null,
      "order": null,
      "overflow": null,
      "overflow_x": null,
      "overflow_y": null,
      "padding": null,
      "right": null,
      "top": null,
      "visibility": null,
      "width": null
     }
    },
    "9def52dcbfd04c079b9b8a3f6f845188": {
     "model_module": "@jupyter-widgets/controls",
     "model_module_version": "1.5.0",
     "model_name": "DescriptionStyleModel",
     "state": {
      "_model_module": "@jupyter-widgets/controls",
      "_model_module_version": "1.5.0",
      "_model_name": "DescriptionStyleModel",
      "_view_count": null,
      "_view_module": "@jupyter-widgets/base",
      "_view_module_version": "1.2.0",
      "_view_name": "StyleView",
      "description_width": ""
     }
    },
    "a353ffec62c84ea5a111dea9f44a7480": {
     "model_module": "@jupyter-widgets/base",
     "model_module_version": "1.2.0",
     "model_name": "LayoutModel",
     "state": {
      "_model_module": "@jupyter-widgets/base",
      "_model_module_version": "1.2.0",
      "_model_name": "LayoutModel",
      "_view_count": null,
      "_view_module": "@jupyter-widgets/base",
      "_view_module_version": "1.2.0",
      "_view_name": "LayoutView",
      "align_content": null,
      "align_items": null,
      "align_self": null,
      "border": null,
      "bottom": null,
      "display": null,
      "flex": null,
      "flex_flow": null,
      "grid_area": null,
      "grid_auto_columns": null,
      "grid_auto_flow": null,
      "grid_auto_rows": null,
      "grid_column": null,
      "grid_gap": null,
      "grid_row": null,
      "grid_template_areas": null,
      "grid_template_columns": null,
      "grid_template_rows": null,
      "height": null,
      "justify_content": null,
      "justify_items": null,
      "left": null,
      "margin": null,
      "max_height": null,
      "max_width": null,
      "min_height": null,
      "min_width": null,
      "object_fit": null,
      "object_position": null,
      "order": null,
      "overflow": null,
      "overflow_x": null,
      "overflow_y": null,
      "padding": null,
      "right": null,
      "top": null,
      "visibility": null,
      "width": null
     }
    },
    "a3d89209e5f44ebb83610bf85193d6e0": {
     "model_module": "@jupyter-widgets/controls",
     "model_module_version": "1.5.0",
     "model_name": "HBoxModel",
     "state": {
      "_dom_classes": [],
      "_model_module": "@jupyter-widgets/controls",
      "_model_module_version": "1.5.0",
      "_model_name": "HBoxModel",
      "_view_count": null,
      "_view_module": "@jupyter-widgets/controls",
      "_view_module_version": "1.5.0",
      "_view_name": "HBoxView",
      "box_style": "",
      "children": [
       "IPY_MODEL_2147d1dc6fe348e2ac5ef4e3c55b3dd5",
       "IPY_MODEL_3b180b47b6b847d4a318c308fb4944c8",
       "IPY_MODEL_22c632b103294e9eb6262001ece9df5c"
      ],
      "layout": "IPY_MODEL_1b62ea853d6448ef8e68f5798ea4d615"
     }
    },
    "a578c3796c72437ba90565f5a52d583d": {
     "model_module": "@jupyter-widgets/controls",
     "model_module_version": "1.5.0",
     "model_name": "DescriptionStyleModel",
     "state": {
      "_model_module": "@jupyter-widgets/controls",
      "_model_module_version": "1.5.0",
      "_model_name": "DescriptionStyleModel",
      "_view_count": null,
      "_view_module": "@jupyter-widgets/base",
      "_view_module_version": "1.2.0",
      "_view_name": "StyleView",
      "description_width": ""
     }
    },
    "a60aa1db72534737ba84ae44067e80a8": {
     "model_module": "@jupyter-widgets/base",
     "model_module_version": "1.2.0",
     "model_name": "LayoutModel",
     "state": {
      "_model_module": "@jupyter-widgets/base",
      "_model_module_version": "1.2.0",
      "_model_name": "LayoutModel",
      "_view_count": null,
      "_view_module": "@jupyter-widgets/base",
      "_view_module_version": "1.2.0",
      "_view_name": "LayoutView",
      "align_content": null,
      "align_items": null,
      "align_self": null,
      "border": null,
      "bottom": null,
      "display": null,
      "flex": null,
      "flex_flow": null,
      "grid_area": null,
      "grid_auto_columns": null,
      "grid_auto_flow": null,
      "grid_auto_rows": null,
      "grid_column": null,
      "grid_gap": null,
      "grid_row": null,
      "grid_template_areas": null,
      "grid_template_columns": null,
      "grid_template_rows": null,
      "height": null,
      "justify_content": null,
      "justify_items": null,
      "left": null,
      "margin": null,
      "max_height": null,
      "max_width": null,
      "min_height": null,
      "min_width": null,
      "object_fit": null,
      "object_position": null,
      "order": null,
      "overflow": null,
      "overflow_x": null,
      "overflow_y": null,
      "padding": null,
      "right": null,
      "top": null,
      "visibility": null,
      "width": null
     }
    },
    "ab5b8bdcf8474cc4adde388660837aef": {
     "model_module": "@jupyter-widgets/controls",
     "model_module_version": "1.5.0",
     "model_name": "FloatProgressModel",
     "state": {
      "_dom_classes": [],
      "_model_module": "@jupyter-widgets/controls",
      "_model_module_version": "1.5.0",
      "_model_name": "FloatProgressModel",
      "_view_count": null,
      "_view_module": "@jupyter-widgets/controls",
      "_view_module_version": "1.5.0",
      "_view_name": "ProgressView",
      "bar_style": "success",
      "description": "",
      "description_tooltip": null,
      "layout": "IPY_MODEL_2b8dd914938c4a05ae4e5d948783fd7d",
      "max": 28,
      "min": 0,
      "orientation": "horizontal",
      "style": "IPY_MODEL_038c0373f76949b4ab9bf82f95d9dfcd",
      "value": 28
     }
    },
    "adc44773358d4a26bdab8db07f4dfbd0": {
     "model_module": "@jupyter-widgets/controls",
     "model_module_version": "1.5.0",
     "model_name": "HTMLModel",
     "state": {
      "_dom_classes": [],
      "_model_module": "@jupyter-widgets/controls",
      "_model_module_version": "1.5.0",
      "_model_name": "HTMLModel",
      "_view_count": null,
      "_view_module": "@jupyter-widgets/controls",
      "_view_module_version": "1.5.0",
      "_view_name": "HTMLView",
      "description": "",
      "description_tooltip": null,
      "layout": "IPY_MODEL_b46e389d712a483dbea049c2c1685174",
      "placeholder": "​",
      "style": "IPY_MODEL_0501d2383c7d4e93a5d5f6b7b6f47669",
      "value": " 28.0/28.0 [00:00&lt;00:00, 1.10kB/s]"
     }
    },
    "b0e0121f2aaa4584a747c8a0b91d738d": {
     "model_module": "@jupyter-widgets/base",
     "model_module_version": "1.2.0",
     "model_name": "LayoutModel",
     "state": {
      "_model_module": "@jupyter-widgets/base",
      "_model_module_version": "1.2.0",
      "_model_name": "LayoutModel",
      "_view_count": null,
      "_view_module": "@jupyter-widgets/base",
      "_view_module_version": "1.2.0",
      "_view_name": "LayoutView",
      "align_content": null,
      "align_items": null,
      "align_self": null,
      "border": null,
      "bottom": null,
      "display": null,
      "flex": null,
      "flex_flow": null,
      "grid_area": null,
      "grid_auto_columns": null,
      "grid_auto_flow": null,
      "grid_auto_rows": null,
      "grid_column": null,
      "grid_gap": null,
      "grid_row": null,
      "grid_template_areas": null,
      "grid_template_columns": null,
      "grid_template_rows": null,
      "height": null,
      "justify_content": null,
      "justify_items": null,
      "left": null,
      "margin": null,
      "max_height": null,
      "max_width": null,
      "min_height": null,
      "min_width": null,
      "object_fit": null,
      "object_position": null,
      "order": null,
      "overflow": null,
      "overflow_x": null,
      "overflow_y": null,
      "padding": null,
      "right": null,
      "top": null,
      "visibility": null,
      "width": null
     }
    },
    "b46e389d712a483dbea049c2c1685174": {
     "model_module": "@jupyter-widgets/base",
     "model_module_version": "1.2.0",
     "model_name": "LayoutModel",
     "state": {
      "_model_module": "@jupyter-widgets/base",
      "_model_module_version": "1.2.0",
      "_model_name": "LayoutModel",
      "_view_count": null,
      "_view_module": "@jupyter-widgets/base",
      "_view_module_version": "1.2.0",
      "_view_name": "LayoutView",
      "align_content": null,
      "align_items": null,
      "align_self": null,
      "border": null,
      "bottom": null,
      "display": null,
      "flex": null,
      "flex_flow": null,
      "grid_area": null,
      "grid_auto_columns": null,
      "grid_auto_flow": null,
      "grid_auto_rows": null,
      "grid_column": null,
      "grid_gap": null,
      "grid_row": null,
      "grid_template_areas": null,
      "grid_template_columns": null,
      "grid_template_rows": null,
      "height": null,
      "justify_content": null,
      "justify_items": null,
      "left": null,
      "margin": null,
      "max_height": null,
      "max_width": null,
      "min_height": null,
      "min_width": null,
      "object_fit": null,
      "object_position": null,
      "order": null,
      "overflow": null,
      "overflow_x": null,
      "overflow_y": null,
      "padding": null,
      "right": null,
      "top": null,
      "visibility": null,
      "width": null
     }
    },
    "c541143725e941c0b04aba62fb08871f": {
     "model_module": "@jupyter-widgets/controls",
     "model_module_version": "1.5.0",
     "model_name": "FloatProgressModel",
     "state": {
      "_dom_classes": [],
      "_model_module": "@jupyter-widgets/controls",
      "_model_module_version": "1.5.0",
      "_model_name": "FloatProgressModel",
      "_view_count": null,
      "_view_module": "@jupyter-widgets/controls",
      "_view_module_version": "1.5.0",
      "_view_name": "ProgressView",
      "bar_style": "success",
      "description": "",
      "description_tooltip": null,
      "layout": "IPY_MODEL_9778198955b84a8eb50a04a1bbfafd74",
      "max": 570,
      "min": 0,
      "orientation": "horizontal",
      "style": "IPY_MODEL_33a93669096041fc85fab0376874abec",
      "value": 570
     }
    },
    "cb2d9fa9ba3e452784cdba6a62b89174": {
     "model_module": "@jupyter-widgets/controls",
     "model_module_version": "1.5.0",
     "model_name": "HTMLModel",
     "state": {
      "_dom_classes": [],
      "_model_module": "@jupyter-widgets/controls",
      "_model_module_version": "1.5.0",
      "_model_name": "HTMLModel",
      "_view_count": null,
      "_view_module": "@jupyter-widgets/controls",
      "_view_module_version": "1.5.0",
      "_view_name": "HTMLView",
      "description": "",
      "description_tooltip": null,
      "layout": "IPY_MODEL_6386f99950174a8aa4b6d89a22a2b69d",
      "placeholder": "​",
      "style": "IPY_MODEL_9def52dcbfd04c079b9b8a3f6f845188",
      "value": "Downloading: 100%"
     }
    },
    "e162022dfb504c61b9476e5ac400554a": {
     "model_module": "@jupyter-widgets/controls",
     "model_module_version": "1.5.0",
     "model_name": "ProgressStyleModel",
     "state": {
      "_model_module": "@jupyter-widgets/controls",
      "_model_module_version": "1.5.0",
      "_model_name": "ProgressStyleModel",
      "_view_count": null,
      "_view_module": "@jupyter-widgets/base",
      "_view_module_version": "1.2.0",
      "_view_name": "StyleView",
      "bar_color": null,
      "description_width": ""
     }
    },
    "e1885414e82c4a329b3302a63e562f4f": {
     "model_module": "@jupyter-widgets/base",
     "model_module_version": "1.2.0",
     "model_name": "LayoutModel",
     "state": {
      "_model_module": "@jupyter-widgets/base",
      "_model_module_version": "1.2.0",
      "_model_name": "LayoutModel",
      "_view_count": null,
      "_view_module": "@jupyter-widgets/base",
      "_view_module_version": "1.2.0",
      "_view_name": "LayoutView",
      "align_content": null,
      "align_items": null,
      "align_self": null,
      "border": null,
      "bottom": null,
      "display": null,
      "flex": null,
      "flex_flow": null,
      "grid_area": null,
      "grid_auto_columns": null,
      "grid_auto_flow": null,
      "grid_auto_rows": null,
      "grid_column": null,
      "grid_gap": null,
      "grid_row": null,
      "grid_template_areas": null,
      "grid_template_columns": null,
      "grid_template_rows": null,
      "height": null,
      "justify_content": null,
      "justify_items": null,
      "left": null,
      "margin": null,
      "max_height": null,
      "max_width": null,
      "min_height": null,
      "min_width": null,
      "object_fit": null,
      "object_position": null,
      "order": null,
      "overflow": null,
      "overflow_x": null,
      "overflow_y": null,
      "padding": null,
      "right": null,
      "top": null,
      "visibility": null,
      "width": null
     }
    }
   }
  }
 },
 "nbformat": 4,
 "nbformat_minor": 5
}
